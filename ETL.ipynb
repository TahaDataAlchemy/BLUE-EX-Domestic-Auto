{
 "cells": [
  {
   "cell_type": "code",
   "execution_count": 98,
   "id": "d5099309",
   "metadata": {},
   "outputs": [],
   "source": [
    "# import blogin\n",
    "\n",
    "# import urls\n",
    "import import_ipynb\n",
    "import Credentials\n",
    "# import pandas as pd\n",
    "# import numpy as np\n",
    "import csv\n",
    "import sys\n",
    "import mysql.connector as msql\n",
    "from mysql.connector import Error\n",
    "from dateutil.relativedelta import relativedelta\n",
    "from datetime import datetime, timedelta\n",
    "import warnings\n",
    "import gc\n",
    "# Stopping future warnings to display\n",
    "warnings.simplefilter(action='ignore', category=FutureWarning)\n",
    "from pptx import Presentation\n"
   ]
  },
  {
   "cell_type": "code",
   "execution_count": 99,
   "id": "97050ce0",
   "metadata": {},
   "outputs": [],
   "source": [
    "from Credentials import dlogin"
   ]
  },
  {
   "cell_type": "code",
   "execution_count": 100,
   "id": "aead559b",
   "metadata": {},
   "outputs": [],
   "source": [
    "dlogin = dlogin()"
   ]
  },
  {
   "cell_type": "code",
   "execution_count": null,
   "id": "3fc7432b",
   "metadata": {},
   "outputs": [],
   "source": []
  },
  {
   "cell_type": "code",
   "execution_count": 101,
   "id": "d0b8b424",
   "metadata": {},
   "outputs": [],
   "source": [
    "import pandas as pd\n",
    "import numpy as np"
   ]
  },
  {
   "cell_type": "code",
   "execution_count": 106,
   "id": "bba9cb46",
   "metadata": {},
   "outputs": [],
   "source": [
    "# Input start_date as a string in the format \"%Y-%m-%d\"\n",
    "start_date_str = \"2023-11-01\"\n",
    "end_date_str = \"2023-11-30\"\n",
    "n_months = 6\n",
    "# Convert start_date_str to a datetime object\n",
    "c_start_date = datetime.strptime(start_date_str, \"%Y-%m-%d\")\n",
    "\n",
    "#fetching last date of previous month\n",
    "p_start_datetime = c_start_date.replace(day = 1) - timedelta(days = 1)\n",
    "\n",
    "#fetching previous date of currenct month\n",
    "p_end_datetime = c_start_date - timedelta(days = 1)\n",
    "\n",
    "#converting into desired format\n",
    "p_end_datetime.strftime(\"%Y-%m-%d\")\n",
    "\n",
    "# Dont know why converting\n",
    "start_date = datetime.strptime(start_date_str, \"%Y-%m-%d\")\n",
    "end_date = datetime.strptime(end_date_str, \"%Y-%m-%d\")\n"
   ]
  },
  {
   "cell_type": "code",
   "execution_count": 107,
   "id": "5902f16b",
   "metadata": {},
   "outputs": [],
   "source": [
    "#creating 6 month period\n",
    "end_date_object = datetime.strptime(end_date_str,\"%Y-%m-%d\")\n",
    "start_date_object = end_date_object - relativedelta(months=n_months - 1)\n",
    "                                                                                                                                                                "
   ]
  },
  {
   "cell_type": "code",
   "execution_count": 108,
   "id": "6ef0b82a",
   "metadata": {},
   "outputs": [],
   "source": [
    "p1 = start_date_object.strftime('%b-%y')\n",
    "p2 = end_date_object.strftime('%b-%y')"
   ]
  },
  {
   "cell_type": "code",
   "execution_count": 109,
   "id": "30862b2b",
   "metadata": {},
   "outputs": [
    {
     "data": {
      "text/plain": [
       "'Jun-23'"
      ]
     },
     "execution_count": 109,
     "metadata": {},
     "output_type": "execute_result"
    }
   ],
   "source": [
    "p1"
   ]
  },
  {
   "cell_type": "code",
   "execution_count": 6,
   "id": "33689845",
   "metadata": {},
   "outputs": [],
   "source": [
    "conn = msql.connect(host=dlogin.host, user=dlogin.user, password=dlogin.password, database=dlogin.database)\n"
   ]
  },
  {
   "cell_type": "code",
   "execution_count": 111,
   "id": "9d4b5a3f",
   "metadata": {},
   "outputs": [],
   "source": [
    "mom = pd.DataFrame()\n",
    "mom.to_excel(\"MOM.xlsx\")"
   ]
  },
  {
   "cell_type": "code",
   "execution_count": 112,
   "id": "bdfa319d",
   "metadata": {},
   "outputs": [],
   "source": [
    "moms = r\"C:\\Users\\Pc\\Desktop\\BLUEX WORKINGS\\AUTOMATION\\MOM.xlsx\""
   ]
  },
  {
   "cell_type": "code",
   "execution_count": 113,
   "id": "875f03be",
   "metadata": {},
   "outputs": [],
   "source": [
    "# try:\n",
    "#     with open(\"MOM.csv\", \"w\", encoding=\"UTF-8\", newline='') as fp:\n",
    "#         myFile = csv.writer(fp)\n",
    "\n",
    "#         with conn.cursor() as cursor:\n",
    "#             # Check database connection\n",
    "#             cursor.execute(\"SELECT DATABASE();\")\n",
    "#             record = cursor.fetchone()\n",
    "#             print(\"Connected to Database:\", record)\n",
    "\n",
    "#             # Define SQL query to fetch records within the date range\n",
    "#             q1 = f\"SELECT * FROM blueex.mom_history\"\n",
    "            \n",
    "#             # Execute SQL query\n",
    "#             cursor.execute(q1)\n",
    "\n",
    "#             # Fetch all rows\n",
    "#             rows = cursor.fetchall()\n",
    "\n",
    "#             # Create DataFrame from fetched rows\n",
    "#             df = pd.DataFrame(rows, columns=[i[0] for i in cursor.description])\n",
    "\n",
    "#             # Convert 'month' column to datetime format\n",
    "#             df['months'] = pd.to_datetime(df['month'], format='%b-%y', errors='coerce')\n",
    "\n",
    "#             # Filter DataFrame based on date range using between() method\n",
    "#             filtered_df = df[df['months'].between(pd.to_datetime(p1, format='%b-%y', errors='coerce'),\n",
    "#                                                  pd.to_datetime(p2, format='%b-%y', errors='coerce'))]\n",
    "\n",
    "#             # Write filtered rows to CSV\n",
    "#             filtered_df.to_csv(fp, index=False)\n",
    "\n",
    "#             print(\"MOM HISTORY Records fetched and written to CSV:\", len(filtered_df))\n",
    "\n",
    "# except mysql.connector.Error as e:\n",
    "#     print(\"Error occurred while connecting to MySQL:\", e)\n",
    "#     conn.rollback()  # Rollback any changes in case of error\n",
    "#     sys.exit()  # Exit the script"
   ]
  },
  {
   "cell_type": "code",
   "execution_count": 114,
   "id": "426edda9",
   "metadata": {},
   "outputs": [
    {
     "name": "stdout",
     "output_type": "stream",
     "text": [
      "Connected to Database: ('blueex',)\n"
     ]
    },
    {
     "name": "stdout",
     "output_type": "stream",
     "text": [
      "MOM HISTORY Records fetched and written to Excel sheet: 'MOM HISTORY DATA'\n",
      "MOM HISTORY Records fetched and written to CSV: 12318\n"
     ]
    }
   ],
   "source": [
    "excel_file_path =r\"C:\\Users\\Pc\\Desktop\\BLUEX WORKINGS\\AUTOMATION\\MOM.xlsx\"\n",
    "\n",
    "try:\n",
    "    # Create ExcelWriter object to write to Excel file\n",
    "    with pd.ExcelWriter(excel_file_path, engine='openpyxl', mode='a') as writer:\n",
    "        with conn.cursor() as cursor:\n",
    "            # Check database connection\n",
    "            cursor.execute(\"SELECT DATABASE();\")\n",
    "            record = cursor.fetchone()\n",
    "            print(\"Connected to Database:\", record)\n",
    "\n",
    "            # Define SQL query to fetch records within the date range\n",
    "            q1 = f\"SELECT * FROM blueex.mom_history\"\n",
    "            \n",
    "            # Execute SQL query\n",
    "            cursor.execute(q1)\n",
    "\n",
    "            # Fetch all rows\n",
    "            rows = cursor.fetchall()\n",
    "\n",
    "            # Create DataFrame from fetched rows\n",
    "            df = pd.DataFrame(rows, columns=[i[0] for i in cursor.description])\n",
    "\n",
    "            # Convert 'month' column to datetime format\n",
    "            df['months'] = pd.to_datetime(df['month'], format='%b-%y', errors='coerce')\n",
    "\n",
    "            # Filter DataFrame based on date range\n",
    "            filtered_df = df[df['months'].between(pd.to_datetime(p1, format='%b-%y', errors='coerce'),\n",
    "                                                   pd.to_datetime(p2, format='%b-%y', errors='coerce'))]\n",
    "\n",
    "            # Write filtered DataFrame to a new sheet in the Excel file\n",
    "            sheet_name = \"MOM HISTORY DATA\"\n",
    "            filtered_df.to_excel(writer, sheet_name=sheet_name, index=False)\n",
    "\n",
    "            print(f\"MOM HISTORY Records fetched and written to Excel sheet: '{sheet_name}'\")\n",
    "            print(\"MOM HISTORY Records fetched and written to CSV:\", len(filtered_df))\n",
    "\n",
    "\n",
    "except mysql.connector.Error as e:\n",
    "    print(\"Error occurred while connecting to MySQL:\", e)\n",
    "    conn.rollback()  # Rollback any changes in case of error\n",
    "    sys.exit()"
   ]
  },
  {
   "cell_type": "code",
   "execution_count": 115,
   "id": "afb98cc7",
   "metadata": {},
   "outputs": [
    {
     "data": {
      "text/plain": [
       "35556"
      ]
     },
     "execution_count": 115,
     "metadata": {},
     "output_type": "execute_result"
    }
   ],
   "source": [
    "len(rows)"
   ]
  },
  {
   "cell_type": "code",
   "execution_count": 116,
   "id": "9cef2d5d",
   "metadata": {
    "scrolled": true
   },
   "outputs": [
    {
     "data": {
      "text/html": [
       "<div>\n",
       "<style scoped>\n",
       "    .dataframe tbody tr th:only-of-type {\n",
       "        vertical-align: middle;\n",
       "    }\n",
       "\n",
       "    .dataframe tbody tr th {\n",
       "        vertical-align: top;\n",
       "    }\n",
       "\n",
       "    .dataframe thead th {\n",
       "        text-align: right;\n",
       "    }\n",
       "</style>\n",
       "<table border=\"1\" class=\"dataframe\">\n",
       "  <thead>\n",
       "    <tr style=\"text-align: right;\">\n",
       "      <th></th>\n",
       "      <th>year</th>\n",
       "      <th>year_seq</th>\n",
       "      <th>month</th>\n",
       "      <th>month_seq</th>\n",
       "      <th>seq</th>\n",
       "      <th>acc_no</th>\n",
       "      <th>cust_name</th>\n",
       "      <th>sp_name</th>\n",
       "      <th>cust_type</th>\n",
       "      <th>search</th>\n",
       "      <th>...</th>\n",
       "      <th>r_s_nchrg</th>\n",
       "      <th>r_wght</th>\n",
       "      <th>r_wght_wc</th>\n",
       "      <th>r_wght_za</th>\n",
       "      <th>r_wght_zb</th>\n",
       "      <th>r_wght_zc</th>\n",
       "      <th>r_wght_chrg</th>\n",
       "      <th>r_wght_nchrg</th>\n",
       "      <th>ret_revenue</th>\n",
       "      <th>months</th>\n",
       "    </tr>\n",
       "  </thead>\n",
       "  <tbody>\n",
       "    <tr>\n",
       "      <th>11384</th>\n",
       "      <td>2023</td>\n",
       "      <td>24</td>\n",
       "      <td>Jun-23</td>\n",
       "      <td>6</td>\n",
       "      <td>282</td>\n",
       "      <td>KHI-04152</td>\n",
       "      <td>Autojin.Pk</td>\n",
       "      <td>Syed Atif Hussain</td>\n",
       "      <td>Normal</td>\n",
       "      <td>KHI-04152 - Autojin.Pk</td>\n",
       "      <td>...</td>\n",
       "      <td>6</td>\n",
       "      <td>6.5</td>\n",
       "      <td>2.0</td>\n",
       "      <td>0.0</td>\n",
       "      <td>0.5</td>\n",
       "      <td>4.0</td>\n",
       "      <td>0.0</td>\n",
       "      <td>6.5</td>\n",
       "      <td>0.0</td>\n",
       "      <td>2023-06-01</td>\n",
       "    </tr>\n",
       "    <tr>\n",
       "      <th>11385</th>\n",
       "      <td>2023</td>\n",
       "      <td>24</td>\n",
       "      <td>Jun-23</td>\n",
       "      <td>6</td>\n",
       "      <td>282</td>\n",
       "      <td>LHE-03126</td>\n",
       "      <td>Forever Shoes</td>\n",
       "      <td>Adven Bhatti</td>\n",
       "      <td>Normal</td>\n",
       "      <td>LHE-03126 - Forever Shoes</td>\n",
       "      <td>...</td>\n",
       "      <td>19</td>\n",
       "      <td>18.5</td>\n",
       "      <td>3.0</td>\n",
       "      <td>10.5</td>\n",
       "      <td>4.0</td>\n",
       "      <td>1.0</td>\n",
       "      <td>0.0</td>\n",
       "      <td>18.5</td>\n",
       "      <td>0.0</td>\n",
       "      <td>2023-06-01</td>\n",
       "    </tr>\n",
       "    <tr>\n",
       "      <th>11386</th>\n",
       "      <td>2023</td>\n",
       "      <td>24</td>\n",
       "      <td>Jun-23</td>\n",
       "      <td>6</td>\n",
       "      <td>282</td>\n",
       "      <td>KHI-07929</td>\n",
       "      <td>chyll</td>\n",
       "      <td>Salman Asif</td>\n",
       "      <td>Normal</td>\n",
       "      <td>KHI-07929 - chyll</td>\n",
       "      <td>...</td>\n",
       "      <td>0</td>\n",
       "      <td>0.0</td>\n",
       "      <td>0.0</td>\n",
       "      <td>0.0</td>\n",
       "      <td>0.0</td>\n",
       "      <td>0.0</td>\n",
       "      <td>0.0</td>\n",
       "      <td>0.0</td>\n",
       "      <td>0.0</td>\n",
       "      <td>2023-06-01</td>\n",
       "    </tr>\n",
       "    <tr>\n",
       "      <th>11387</th>\n",
       "      <td>2023</td>\n",
       "      <td>24</td>\n",
       "      <td>Jun-23</td>\n",
       "      <td>6</td>\n",
       "      <td>282</td>\n",
       "      <td>KHI-07716</td>\n",
       "      <td>LESSTHAN1THOUSAND</td>\n",
       "      <td>Syeda Qurat-Ul-Ain</td>\n",
       "      <td>Normal</td>\n",
       "      <td>KHI-07716 - LESSTHAN1THOUSAND</td>\n",
       "      <td>...</td>\n",
       "      <td>0</td>\n",
       "      <td>703.0</td>\n",
       "      <td>119.5</td>\n",
       "      <td>502.5</td>\n",
       "      <td>71.5</td>\n",
       "      <td>9.5</td>\n",
       "      <td>703.0</td>\n",
       "      <td>0.0</td>\n",
       "      <td>15260.0</td>\n",
       "      <td>2023-06-01</td>\n",
       "    </tr>\n",
       "    <tr>\n",
       "      <th>11388</th>\n",
       "      <td>2023</td>\n",
       "      <td>24</td>\n",
       "      <td>Jun-23</td>\n",
       "      <td>6</td>\n",
       "      <td>282</td>\n",
       "      <td>KHI-09092</td>\n",
       "      <td>Red Carpet</td>\n",
       "      <td>Ubaid Essa</td>\n",
       "      <td>Normal</td>\n",
       "      <td>KHI-09092 - Red Carpet</td>\n",
       "      <td>...</td>\n",
       "      <td>0</td>\n",
       "      <td>0.0</td>\n",
       "      <td>0.0</td>\n",
       "      <td>0.0</td>\n",
       "      <td>0.0</td>\n",
       "      <td>0.0</td>\n",
       "      <td>0.0</td>\n",
       "      <td>0.0</td>\n",
       "      <td>0.0</td>\n",
       "      <td>2023-06-01</td>\n",
       "    </tr>\n",
       "    <tr>\n",
       "      <th>...</th>\n",
       "      <td>...</td>\n",
       "      <td>...</td>\n",
       "      <td>...</td>\n",
       "      <td>...</td>\n",
       "      <td>...</td>\n",
       "      <td>...</td>\n",
       "      <td>...</td>\n",
       "      <td>...</td>\n",
       "      <td>...</td>\n",
       "      <td>...</td>\n",
       "      <td>...</td>\n",
       "      <td>...</td>\n",
       "      <td>...</td>\n",
       "      <td>...</td>\n",
       "      <td>...</td>\n",
       "      <td>...</td>\n",
       "      <td>...</td>\n",
       "      <td>...</td>\n",
       "      <td>...</td>\n",
       "      <td>...</td>\n",
       "      <td>...</td>\n",
       "    </tr>\n",
       "    <tr>\n",
       "      <th>23697</th>\n",
       "      <td>2023</td>\n",
       "      <td>24</td>\n",
       "      <td>Nov-23</td>\n",
       "      <td>11</td>\n",
       "      <td>287</td>\n",
       "      <td>LHE-03725</td>\n",
       "      <td>ZOJJA</td>\n",
       "      <td>Adven Bhatti</td>\n",
       "      <td>Normal</td>\n",
       "      <td>LHE-03725 - ZOJJA</td>\n",
       "      <td>...</td>\n",
       "      <td>21</td>\n",
       "      <td>10.5</td>\n",
       "      <td>1.5</td>\n",
       "      <td>7.5</td>\n",
       "      <td>1.5</td>\n",
       "      <td>0.0</td>\n",
       "      <td>0.0</td>\n",
       "      <td>10.5</td>\n",
       "      <td>0.0</td>\n",
       "      <td>2023-11-01</td>\n",
       "    </tr>\n",
       "    <tr>\n",
       "      <th>23698</th>\n",
       "      <td>2023</td>\n",
       "      <td>24</td>\n",
       "      <td>Nov-23</td>\n",
       "      <td>11</td>\n",
       "      <td>287</td>\n",
       "      <td>PEW-00363</td>\n",
       "      <td>Dehleez shop</td>\n",
       "      <td>Ali Raza</td>\n",
       "      <td>Normal</td>\n",
       "      <td>PEW-00363 - Dehleez shop</td>\n",
       "      <td>...</td>\n",
       "      <td>0</td>\n",
       "      <td>0.0</td>\n",
       "      <td>0.0</td>\n",
       "      <td>0.0</td>\n",
       "      <td>0.0</td>\n",
       "      <td>0.0</td>\n",
       "      <td>0.0</td>\n",
       "      <td>0.0</td>\n",
       "      <td>0.0</td>\n",
       "      <td>2023-11-01</td>\n",
       "    </tr>\n",
       "    <tr>\n",
       "      <th>23699</th>\n",
       "      <td>2023</td>\n",
       "      <td>24</td>\n",
       "      <td>Nov-23</td>\n",
       "      <td>11</td>\n",
       "      <td>287</td>\n",
       "      <td>KHI-10819</td>\n",
       "      <td>A.R COSMETIC KARACHI</td>\n",
       "      <td>Sadia Niazi</td>\n",
       "      <td>Normal</td>\n",
       "      <td>KHI-10819 - A.R COSMETIC KARACHI</td>\n",
       "      <td>...</td>\n",
       "      <td>0</td>\n",
       "      <td>0.0</td>\n",
       "      <td>0.0</td>\n",
       "      <td>0.0</td>\n",
       "      <td>0.0</td>\n",
       "      <td>0.0</td>\n",
       "      <td>0.0</td>\n",
       "      <td>0.0</td>\n",
       "      <td>0.0</td>\n",
       "      <td>2023-11-01</td>\n",
       "    </tr>\n",
       "    <tr>\n",
       "      <th>23700</th>\n",
       "      <td>2023</td>\n",
       "      <td>24</td>\n",
       "      <td>Nov-23</td>\n",
       "      <td>11</td>\n",
       "      <td>287</td>\n",
       "      <td>KHI-10834</td>\n",
       "      <td>SSSACCESSORIES</td>\n",
       "      <td>Saniya Afzal</td>\n",
       "      <td>Normal</td>\n",
       "      <td>KHI-10834 - SSSACCESSORIES</td>\n",
       "      <td>...</td>\n",
       "      <td>0</td>\n",
       "      <td>1.0</td>\n",
       "      <td>1.0</td>\n",
       "      <td>0.0</td>\n",
       "      <td>0.0</td>\n",
       "      <td>0.0</td>\n",
       "      <td>1.0</td>\n",
       "      <td>0.0</td>\n",
       "      <td>15.0</td>\n",
       "      <td>2023-11-01</td>\n",
       "    </tr>\n",
       "    <tr>\n",
       "      <th>23701</th>\n",
       "      <td>2023</td>\n",
       "      <td>24</td>\n",
       "      <td>Nov-23</td>\n",
       "      <td>11</td>\n",
       "      <td>287</td>\n",
       "      <td>LHE-04040</td>\n",
       "      <td>Thepromen</td>\n",
       "      <td>Adven Bhatti</td>\n",
       "      <td>Normal</td>\n",
       "      <td>LHE-04040 - Thepromen</td>\n",
       "      <td>...</td>\n",
       "      <td>30</td>\n",
       "      <td>15.0</td>\n",
       "      <td>3.0</td>\n",
       "      <td>8.5</td>\n",
       "      <td>1.0</td>\n",
       "      <td>2.5</td>\n",
       "      <td>0.0</td>\n",
       "      <td>15.0</td>\n",
       "      <td>0.0</td>\n",
       "      <td>2023-11-01</td>\n",
       "    </tr>\n",
       "  </tbody>\n",
       "</table>\n",
       "<p>12318 rows × 60 columns</p>\n",
       "</div>"
      ],
      "text/plain": [
       "       year year_seq   month month_seq  seq     acc_no             cust_name  \\\n",
       "11384  2023       24  Jun-23         6  282  KHI-04152            Autojin.Pk   \n",
       "11385  2023       24  Jun-23         6  282  LHE-03126         Forever Shoes   \n",
       "11386  2023       24  Jun-23         6  282  KHI-07929                 chyll   \n",
       "11387  2023       24  Jun-23         6  282  KHI-07716     LESSTHAN1THOUSAND   \n",
       "11388  2023       24  Jun-23         6  282  KHI-09092            Red Carpet   \n",
       "...     ...      ...     ...       ...  ...        ...                   ...   \n",
       "23697  2023       24  Nov-23        11  287  LHE-03725                 ZOJJA   \n",
       "23698  2023       24  Nov-23        11  287  PEW-00363          Dehleez shop   \n",
       "23699  2023       24  Nov-23        11  287  KHI-10819  A.R COSMETIC KARACHI   \n",
       "23700  2023       24  Nov-23        11  287  KHI-10834        SSSACCESSORIES   \n",
       "23701  2023       24  Nov-23        11  287  LHE-04040             Thepromen   \n",
       "\n",
       "                  sp_name cust_type                            search  ...  \\\n",
       "11384   Syed Atif Hussain    Normal            KHI-04152 - Autojin.Pk  ...   \n",
       "11385        Adven Bhatti    Normal         LHE-03126 - Forever Shoes  ...   \n",
       "11386         Salman Asif    Normal                 KHI-07929 - chyll  ...   \n",
       "11387  Syeda Qurat-Ul-Ain    Normal     KHI-07716 - LESSTHAN1THOUSAND  ...   \n",
       "11388          Ubaid Essa    Normal            KHI-09092 - Red Carpet  ...   \n",
       "...                   ...       ...                               ...  ...   \n",
       "23697        Adven Bhatti    Normal                 LHE-03725 - ZOJJA  ...   \n",
       "23698            Ali Raza    Normal          PEW-00363 - Dehleez shop  ...   \n",
       "23699         Sadia Niazi    Normal  KHI-10819 - A.R COSMETIC KARACHI  ...   \n",
       "23700        Saniya Afzal    Normal        KHI-10834 - SSSACCESSORIES  ...   \n",
       "23701        Adven Bhatti    Normal             LHE-04040 - Thepromen  ...   \n",
       "\n",
       "       r_s_nchrg  r_wght  r_wght_wc  r_wght_za  r_wght_zb  r_wght_zc  \\\n",
       "11384          6     6.5        2.0        0.0        0.5        4.0   \n",
       "11385         19    18.5        3.0       10.5        4.0        1.0   \n",
       "11386          0     0.0        0.0        0.0        0.0        0.0   \n",
       "11387          0   703.0      119.5      502.5       71.5        9.5   \n",
       "11388          0     0.0        0.0        0.0        0.0        0.0   \n",
       "...          ...     ...        ...        ...        ...        ...   \n",
       "23697         21    10.5        1.5        7.5        1.5        0.0   \n",
       "23698          0     0.0        0.0        0.0        0.0        0.0   \n",
       "23699          0     0.0        0.0        0.0        0.0        0.0   \n",
       "23700          0     1.0        1.0        0.0        0.0        0.0   \n",
       "23701         30    15.0        3.0        8.5        1.0        2.5   \n",
       "\n",
       "       r_wght_chrg  r_wght_nchrg  ret_revenue     months  \n",
       "11384          0.0           6.5          0.0 2023-06-01  \n",
       "11385          0.0          18.5          0.0 2023-06-01  \n",
       "11386          0.0           0.0          0.0 2023-06-01  \n",
       "11387        703.0           0.0      15260.0 2023-06-01  \n",
       "11388          0.0           0.0          0.0 2023-06-01  \n",
       "...            ...           ...          ...        ...  \n",
       "23697          0.0          10.5          0.0 2023-11-01  \n",
       "23698          0.0           0.0          0.0 2023-11-01  \n",
       "23699          0.0           0.0          0.0 2023-11-01  \n",
       "23700          1.0           0.0         15.0 2023-11-01  \n",
       "23701          0.0          15.0          0.0 2023-11-01  \n",
       "\n",
       "[12318 rows x 60 columns]"
      ]
     },
     "execution_count": 116,
     "metadata": {},
     "output_type": "execute_result"
    }
   ],
   "source": [
    "filtered_df"
   ]
  },
  {
   "cell_type": "markdown",
   "id": "809ad95a",
   "metadata": {},
   "source": [
    "# PPT 1"
   ]
  },
  {
   "cell_type": "code",
   "execution_count": 117,
   "id": "5b5c2600",
   "metadata": {},
   "outputs": [],
   "source": [
    "Summarize_Mom_Rep = filtered_df.groupby('month').agg(\n",
    "    Active_Accounts = ('acc_no',\"count\"),\n",
    "    Normal_Shipments = (\"shipments\",\"sum\"),\n",
    "    Normal_Weight = ('n_wght',\"sum\"),\n",
    "    Weight_Charges = ('n_wght_chgs',\"sum\"),\n",
    "    Cash_handling = ('n_oth_chgs',\"sum\"),\n",
    "    fuel_Surcharge = ('n_fsc',\"sum\"),\n",
    "    Total_normal_rev = (\"n_rev\",\"sum\")\n",
    ").reset_index()"
   ]
  },
  {
   "cell_type": "code",
   "execution_count": null,
   "id": "62501c9f",
   "metadata": {},
   "outputs": [],
   "source": []
  },
  {
   "cell_type": "code",
   "execution_count": 118,
   "id": "4dd59d8e",
   "metadata": {},
   "outputs": [],
   "source": [
    "Summarize_Mom_Rep[\"RPS\"] = round(Summarize_Mom_Rep[\"Total_normal_rev\"]/Summarize_Mom_Rep[\"Normal_Shipments\"],2)"
   ]
  },
  {
   "cell_type": "code",
   "execution_count": 119,
   "id": "0a20a455",
   "metadata": {},
   "outputs": [],
   "source": [
    "Summarize_Mom_Rep[\"RPW\"] = round(Summarize_Mom_Rep[\"Total_normal_rev\"]/Summarize_Mom_Rep[\"Normal_Weight\"],2)"
   ]
  },
  {
   "cell_type": "code",
   "execution_count": 120,
   "id": "35e781b5",
   "metadata": {},
   "outputs": [],
   "source": [
    "Summarize_Mom_Rep[\"WPS\"] = round(Summarize_Mom_Rep[\"Normal_Weight\"]/Summarize_Mom_Rep[\"Normal_Shipments\"],2)"
   ]
  },
  {
   "cell_type": "code",
   "execution_count": 121,
   "id": "7b284680",
   "metadata": {},
   "outputs": [
    {
     "data": {
      "text/html": [
       "<div>\n",
       "<style scoped>\n",
       "    .dataframe tbody tr th:only-of-type {\n",
       "        vertical-align: middle;\n",
       "    }\n",
       "\n",
       "    .dataframe tbody tr th {\n",
       "        vertical-align: top;\n",
       "    }\n",
       "\n",
       "    .dataframe thead th {\n",
       "        text-align: right;\n",
       "    }\n",
       "</style>\n",
       "<table border=\"1\" class=\"dataframe\">\n",
       "  <thead>\n",
       "    <tr style=\"text-align: right;\">\n",
       "      <th></th>\n",
       "      <th>month</th>\n",
       "      <th>Active_Accounts</th>\n",
       "      <th>Normal_Shipments</th>\n",
       "      <th>Normal_Weight</th>\n",
       "      <th>Weight_Charges</th>\n",
       "      <th>Cash_handling</th>\n",
       "      <th>fuel_Surcharge</th>\n",
       "      <th>Total_normal_rev</th>\n",
       "      <th>RPS</th>\n",
       "      <th>RPW</th>\n",
       "      <th>WPS</th>\n",
       "    </tr>\n",
       "  </thead>\n",
       "  <tbody>\n",
       "    <tr>\n",
       "      <th>0</th>\n",
       "      <td>Aug-23</td>\n",
       "      <td>2097</td>\n",
       "      <td>373097</td>\n",
       "      <td>389458.31</td>\n",
       "      <td>63649440.85</td>\n",
       "      <td>2746505.28</td>\n",
       "      <td>5286748.04</td>\n",
       "      <td>71682694.06</td>\n",
       "      <td>192.13</td>\n",
       "      <td>184.06</td>\n",
       "      <td>1.04</td>\n",
       "    </tr>\n",
       "    <tr>\n",
       "      <th>1</th>\n",
       "      <td>Jul-23</td>\n",
       "      <td>1860</td>\n",
       "      <td>297911</td>\n",
       "      <td>311389.73</td>\n",
       "      <td>50977537.44</td>\n",
       "      <td>2199401.21</td>\n",
       "      <td>4256268.88</td>\n",
       "      <td>57433207.45</td>\n",
       "      <td>192.79</td>\n",
       "      <td>184.44</td>\n",
       "      <td>1.05</td>\n",
       "    </tr>\n",
       "    <tr>\n",
       "      <th>2</th>\n",
       "      <td>Jun-23</td>\n",
       "      <td>2012</td>\n",
       "      <td>292127</td>\n",
       "      <td>314794.25</td>\n",
       "      <td>50445727.24</td>\n",
       "      <td>2024171.74</td>\n",
       "      <td>4160564.20</td>\n",
       "      <td>56630463.18</td>\n",
       "      <td>193.86</td>\n",
       "      <td>179.90</td>\n",
       "      <td>1.08</td>\n",
       "    </tr>\n",
       "    <tr>\n",
       "      <th>3</th>\n",
       "      <td>Nov-23</td>\n",
       "      <td>2099</td>\n",
       "      <td>375299</td>\n",
       "      <td>422056.13</td>\n",
       "      <td>67056960.47</td>\n",
       "      <td>2423027.73</td>\n",
       "      <td>9122673.09</td>\n",
       "      <td>78602661.22</td>\n",
       "      <td>209.44</td>\n",
       "      <td>186.24</td>\n",
       "      <td>1.12</td>\n",
       "    </tr>\n",
       "    <tr>\n",
       "      <th>4</th>\n",
       "      <td>Oct-23</td>\n",
       "      <td>2108</td>\n",
       "      <td>345749</td>\n",
       "      <td>383728.43</td>\n",
       "      <td>60562011.68</td>\n",
       "      <td>2140751.97</td>\n",
       "      <td>9035914.20</td>\n",
       "      <td>71738677.81</td>\n",
       "      <td>207.49</td>\n",
       "      <td>186.95</td>\n",
       "      <td>1.11</td>\n",
       "    </tr>\n",
       "    <tr>\n",
       "      <th>5</th>\n",
       "      <td>Sep-23</td>\n",
       "      <td>2142</td>\n",
       "      <td>351551</td>\n",
       "      <td>378162.21</td>\n",
       "      <td>60704189.21</td>\n",
       "      <td>2394469.03</td>\n",
       "      <td>8059524.79</td>\n",
       "      <td>71158182.98</td>\n",
       "      <td>202.41</td>\n",
       "      <td>188.17</td>\n",
       "      <td>1.08</td>\n",
       "    </tr>\n",
       "  </tbody>\n",
       "</table>\n",
       "</div>"
      ],
      "text/plain": [
       "    month  Active_Accounts  Normal_Shipments  Normal_Weight  Weight_Charges  \\\n",
       "0  Aug-23             2097            373097      389458.31     63649440.85   \n",
       "1  Jul-23             1860            297911      311389.73     50977537.44   \n",
       "2  Jun-23             2012            292127      314794.25     50445727.24   \n",
       "3  Nov-23             2099            375299      422056.13     67056960.47   \n",
       "4  Oct-23             2108            345749      383728.43     60562011.68   \n",
       "5  Sep-23             2142            351551      378162.21     60704189.21   \n",
       "\n",
       "   Cash_handling  fuel_Surcharge  Total_normal_rev     RPS     RPW   WPS  \n",
       "0     2746505.28      5286748.04       71682694.06  192.13  184.06  1.04  \n",
       "1     2199401.21      4256268.88       57433207.45  192.79  184.44  1.05  \n",
       "2     2024171.74      4160564.20       56630463.18  193.86  179.90  1.08  \n",
       "3     2423027.73      9122673.09       78602661.22  209.44  186.24  1.12  \n",
       "4     2140751.97      9035914.20       71738677.81  207.49  186.95  1.11  \n",
       "5     2394469.03      8059524.79       71158182.98  202.41  188.17  1.08  "
      ]
     },
     "execution_count": 121,
     "metadata": {},
     "output_type": "execute_result"
    }
   ],
   "source": [
    "Summarize_Mom_Rep"
   ]
  },
  {
   "cell_type": "code",
   "execution_count": 122,
   "id": "fb62e9b4",
   "metadata": {},
   "outputs": [],
   "source": [
    "Summarize_Mom_Rep = Summarize_Mom_Rep.pivot_table(index=None, columns='month', aggfunc='sum')\n"
   ]
  },
  {
   "cell_type": "code",
   "execution_count": 123,
   "id": "19261eba",
   "metadata": {},
   "outputs": [],
   "source": [
    "Summarize_Mom_Rep = Summarize_Mom_Rep.reset_index()"
   ]
  },
  {
   "cell_type": "code",
   "execution_count": 124,
   "id": "89e8a8d0",
   "metadata": {},
   "outputs": [],
   "source": [
    "Summarize_Mom_Rep.rename(columns={'index': 'AccountHeads'}, inplace=True)\n"
   ]
  },
  {
   "cell_type": "code",
   "execution_count": 125,
   "id": "aff38c04",
   "metadata": {},
   "outputs": [
    {
     "data": {
      "text/html": [
       "<div>\n",
       "<style scoped>\n",
       "    .dataframe tbody tr th:only-of-type {\n",
       "        vertical-align: middle;\n",
       "    }\n",
       "\n",
       "    .dataframe tbody tr th {\n",
       "        vertical-align: top;\n",
       "    }\n",
       "\n",
       "    .dataframe thead th {\n",
       "        text-align: right;\n",
       "    }\n",
       "</style>\n",
       "<table border=\"1\" class=\"dataframe\">\n",
       "  <thead>\n",
       "    <tr style=\"text-align: right;\">\n",
       "      <th>month</th>\n",
       "      <th>AccountHeads</th>\n",
       "      <th>Aug-23</th>\n",
       "      <th>Jul-23</th>\n",
       "      <th>Jun-23</th>\n",
       "      <th>Nov-23</th>\n",
       "      <th>Oct-23</th>\n",
       "      <th>Sep-23</th>\n",
       "    </tr>\n",
       "  </thead>\n",
       "  <tbody>\n",
       "    <tr>\n",
       "      <th>0</th>\n",
       "      <td>Active_Accounts</td>\n",
       "      <td>2097.00</td>\n",
       "      <td>1860.00</td>\n",
       "      <td>2012.00</td>\n",
       "      <td>2099.00</td>\n",
       "      <td>2108.00</td>\n",
       "      <td>2142.00</td>\n",
       "    </tr>\n",
       "    <tr>\n",
       "      <th>1</th>\n",
       "      <td>Cash_handling</td>\n",
       "      <td>2746505.28</td>\n",
       "      <td>2199401.21</td>\n",
       "      <td>2024171.74</td>\n",
       "      <td>2423027.73</td>\n",
       "      <td>2140751.97</td>\n",
       "      <td>2394469.03</td>\n",
       "    </tr>\n",
       "    <tr>\n",
       "      <th>2</th>\n",
       "      <td>Normal_Shipments</td>\n",
       "      <td>373097.00</td>\n",
       "      <td>297911.00</td>\n",
       "      <td>292127.00</td>\n",
       "      <td>375299.00</td>\n",
       "      <td>345749.00</td>\n",
       "      <td>351551.00</td>\n",
       "    </tr>\n",
       "    <tr>\n",
       "      <th>3</th>\n",
       "      <td>Normal_Weight</td>\n",
       "      <td>389458.31</td>\n",
       "      <td>311389.73</td>\n",
       "      <td>314794.25</td>\n",
       "      <td>422056.13</td>\n",
       "      <td>383728.43</td>\n",
       "      <td>378162.21</td>\n",
       "    </tr>\n",
       "    <tr>\n",
       "      <th>4</th>\n",
       "      <td>RPS</td>\n",
       "      <td>192.13</td>\n",
       "      <td>192.79</td>\n",
       "      <td>193.86</td>\n",
       "      <td>209.44</td>\n",
       "      <td>207.49</td>\n",
       "      <td>202.41</td>\n",
       "    </tr>\n",
       "    <tr>\n",
       "      <th>5</th>\n",
       "      <td>RPW</td>\n",
       "      <td>184.06</td>\n",
       "      <td>184.44</td>\n",
       "      <td>179.90</td>\n",
       "      <td>186.24</td>\n",
       "      <td>186.95</td>\n",
       "      <td>188.17</td>\n",
       "    </tr>\n",
       "    <tr>\n",
       "      <th>6</th>\n",
       "      <td>Total_normal_rev</td>\n",
       "      <td>71682694.06</td>\n",
       "      <td>57433207.45</td>\n",
       "      <td>56630463.18</td>\n",
       "      <td>78602661.22</td>\n",
       "      <td>71738677.81</td>\n",
       "      <td>71158182.98</td>\n",
       "    </tr>\n",
       "    <tr>\n",
       "      <th>7</th>\n",
       "      <td>WPS</td>\n",
       "      <td>1.04</td>\n",
       "      <td>1.05</td>\n",
       "      <td>1.08</td>\n",
       "      <td>1.12</td>\n",
       "      <td>1.11</td>\n",
       "      <td>1.08</td>\n",
       "    </tr>\n",
       "    <tr>\n",
       "      <th>8</th>\n",
       "      <td>Weight_Charges</td>\n",
       "      <td>63649440.85</td>\n",
       "      <td>50977537.44</td>\n",
       "      <td>50445727.24</td>\n",
       "      <td>67056960.47</td>\n",
       "      <td>60562011.68</td>\n",
       "      <td>60704189.21</td>\n",
       "    </tr>\n",
       "    <tr>\n",
       "      <th>9</th>\n",
       "      <td>fuel_Surcharge</td>\n",
       "      <td>5286748.04</td>\n",
       "      <td>4256268.88</td>\n",
       "      <td>4160564.20</td>\n",
       "      <td>9122673.09</td>\n",
       "      <td>9035914.20</td>\n",
       "      <td>8059524.79</td>\n",
       "    </tr>\n",
       "  </tbody>\n",
       "</table>\n",
       "</div>"
      ],
      "text/plain": [
       "month      AccountHeads       Aug-23       Jul-23       Jun-23       Nov-23  \\\n",
       "0       Active_Accounts      2097.00      1860.00      2012.00      2099.00   \n",
       "1         Cash_handling   2746505.28   2199401.21   2024171.74   2423027.73   \n",
       "2      Normal_Shipments    373097.00    297911.00    292127.00    375299.00   \n",
       "3         Normal_Weight    389458.31    311389.73    314794.25    422056.13   \n",
       "4                   RPS       192.13       192.79       193.86       209.44   \n",
       "5                   RPW       184.06       184.44       179.90       186.24   \n",
       "6      Total_normal_rev  71682694.06  57433207.45  56630463.18  78602661.22   \n",
       "7                   WPS         1.04         1.05         1.08         1.12   \n",
       "8        Weight_Charges  63649440.85  50977537.44  50445727.24  67056960.47   \n",
       "9        fuel_Surcharge   5286748.04   4256268.88   4160564.20   9122673.09   \n",
       "\n",
       "month       Oct-23       Sep-23  \n",
       "0          2108.00      2142.00  \n",
       "1       2140751.97   2394469.03  \n",
       "2        345749.00    351551.00  \n",
       "3        383728.43    378162.21  \n",
       "4           207.49       202.41  \n",
       "5           186.95       188.17  \n",
       "6      71738677.81  71158182.98  \n",
       "7             1.11         1.08  \n",
       "8      60562011.68  60704189.21  \n",
       "9       9035914.20   8059524.79  "
      ]
     },
     "execution_count": 125,
     "metadata": {},
     "output_type": "execute_result"
    }
   ],
   "source": [
    "Summarize_Mom_Rep"
   ]
  },
  {
   "cell_type": "code",
   "execution_count": 126,
   "id": "ace666ad",
   "metadata": {},
   "outputs": [],
   "source": [
    "month_columns= ['AccountHeads'] + sorted(Summarize_Mom_Rep.columns[1:], key=lambda x: pd.to_datetime(x, format='%b-%y'))\n"
   ]
  },
  {
   "cell_type": "code",
   "execution_count": 127,
   "id": "4ba9d4c0",
   "metadata": {},
   "outputs": [],
   "source": [
    "mon_col = month_columns[1:]\n"
   ]
  },
  {
   "cell_type": "code",
   "execution_count": 128,
   "id": "e9aeeb2a",
   "metadata": {},
   "outputs": [
    {
     "data": {
      "text/plain": [
       "['Jun-23', 'Jul-23', 'Aug-23', 'Sep-23', 'Oct-23', 'Nov-23']"
      ]
     },
     "execution_count": 128,
     "metadata": {},
     "output_type": "execute_result"
    }
   ],
   "source": [
    "mon_col"
   ]
  },
  {
   "cell_type": "code",
   "execution_count": 129,
   "id": "e8912a34",
   "metadata": {},
   "outputs": [],
   "source": [
    "Summarize_Mom_Rep = Summarize_Mom_Rep[month_columns]"
   ]
  },
  {
   "cell_type": "code",
   "execution_count": 130,
   "id": "8595e60a",
   "metadata": {},
   "outputs": [
    {
     "data": {
      "text/html": [
       "<div>\n",
       "<style scoped>\n",
       "    .dataframe tbody tr th:only-of-type {\n",
       "        vertical-align: middle;\n",
       "    }\n",
       "\n",
       "    .dataframe tbody tr th {\n",
       "        vertical-align: top;\n",
       "    }\n",
       "\n",
       "    .dataframe thead th {\n",
       "        text-align: right;\n",
       "    }\n",
       "</style>\n",
       "<table border=\"1\" class=\"dataframe\">\n",
       "  <thead>\n",
       "    <tr style=\"text-align: right;\">\n",
       "      <th>month</th>\n",
       "      <th>AccountHeads</th>\n",
       "      <th>Jun-23</th>\n",
       "      <th>Jul-23</th>\n",
       "      <th>Aug-23</th>\n",
       "      <th>Sep-23</th>\n",
       "      <th>Oct-23</th>\n",
       "      <th>Nov-23</th>\n",
       "    </tr>\n",
       "  </thead>\n",
       "  <tbody>\n",
       "    <tr>\n",
       "      <th>0</th>\n",
       "      <td>Active_Accounts</td>\n",
       "      <td>2012.00</td>\n",
       "      <td>1860.00</td>\n",
       "      <td>2097.00</td>\n",
       "      <td>2142.00</td>\n",
       "      <td>2108.00</td>\n",
       "      <td>2099.00</td>\n",
       "    </tr>\n",
       "    <tr>\n",
       "      <th>1</th>\n",
       "      <td>Cash_handling</td>\n",
       "      <td>2024171.74</td>\n",
       "      <td>2199401.21</td>\n",
       "      <td>2746505.28</td>\n",
       "      <td>2394469.03</td>\n",
       "      <td>2140751.97</td>\n",
       "      <td>2423027.73</td>\n",
       "    </tr>\n",
       "    <tr>\n",
       "      <th>2</th>\n",
       "      <td>Normal_Shipments</td>\n",
       "      <td>292127.00</td>\n",
       "      <td>297911.00</td>\n",
       "      <td>373097.00</td>\n",
       "      <td>351551.00</td>\n",
       "      <td>345749.00</td>\n",
       "      <td>375299.00</td>\n",
       "    </tr>\n",
       "    <tr>\n",
       "      <th>3</th>\n",
       "      <td>Normal_Weight</td>\n",
       "      <td>314794.25</td>\n",
       "      <td>311389.73</td>\n",
       "      <td>389458.31</td>\n",
       "      <td>378162.21</td>\n",
       "      <td>383728.43</td>\n",
       "      <td>422056.13</td>\n",
       "    </tr>\n",
       "    <tr>\n",
       "      <th>4</th>\n",
       "      <td>RPS</td>\n",
       "      <td>193.86</td>\n",
       "      <td>192.79</td>\n",
       "      <td>192.13</td>\n",
       "      <td>202.41</td>\n",
       "      <td>207.49</td>\n",
       "      <td>209.44</td>\n",
       "    </tr>\n",
       "    <tr>\n",
       "      <th>5</th>\n",
       "      <td>RPW</td>\n",
       "      <td>179.90</td>\n",
       "      <td>184.44</td>\n",
       "      <td>184.06</td>\n",
       "      <td>188.17</td>\n",
       "      <td>186.95</td>\n",
       "      <td>186.24</td>\n",
       "    </tr>\n",
       "    <tr>\n",
       "      <th>6</th>\n",
       "      <td>Total_normal_rev</td>\n",
       "      <td>56630463.18</td>\n",
       "      <td>57433207.45</td>\n",
       "      <td>71682694.06</td>\n",
       "      <td>71158182.98</td>\n",
       "      <td>71738677.81</td>\n",
       "      <td>78602661.22</td>\n",
       "    </tr>\n",
       "    <tr>\n",
       "      <th>7</th>\n",
       "      <td>WPS</td>\n",
       "      <td>1.08</td>\n",
       "      <td>1.05</td>\n",
       "      <td>1.04</td>\n",
       "      <td>1.08</td>\n",
       "      <td>1.11</td>\n",
       "      <td>1.12</td>\n",
       "    </tr>\n",
       "    <tr>\n",
       "      <th>8</th>\n",
       "      <td>Weight_Charges</td>\n",
       "      <td>50445727.24</td>\n",
       "      <td>50977537.44</td>\n",
       "      <td>63649440.85</td>\n",
       "      <td>60704189.21</td>\n",
       "      <td>60562011.68</td>\n",
       "      <td>67056960.47</td>\n",
       "    </tr>\n",
       "    <tr>\n",
       "      <th>9</th>\n",
       "      <td>fuel_Surcharge</td>\n",
       "      <td>4160564.20</td>\n",
       "      <td>4256268.88</td>\n",
       "      <td>5286748.04</td>\n",
       "      <td>8059524.79</td>\n",
       "      <td>9035914.20</td>\n",
       "      <td>9122673.09</td>\n",
       "    </tr>\n",
       "  </tbody>\n",
       "</table>\n",
       "</div>"
      ],
      "text/plain": [
       "month      AccountHeads       Jun-23       Jul-23       Aug-23       Sep-23  \\\n",
       "0       Active_Accounts      2012.00      1860.00      2097.00      2142.00   \n",
       "1         Cash_handling   2024171.74   2199401.21   2746505.28   2394469.03   \n",
       "2      Normal_Shipments    292127.00    297911.00    373097.00    351551.00   \n",
       "3         Normal_Weight    314794.25    311389.73    389458.31    378162.21   \n",
       "4                   RPS       193.86       192.79       192.13       202.41   \n",
       "5                   RPW       179.90       184.44       184.06       188.17   \n",
       "6      Total_normal_rev  56630463.18  57433207.45  71682694.06  71158182.98   \n",
       "7                   WPS         1.08         1.05         1.04         1.08   \n",
       "8        Weight_Charges  50445727.24  50977537.44  63649440.85  60704189.21   \n",
       "9        fuel_Surcharge   4160564.20   4256268.88   5286748.04   8059524.79   \n",
       "\n",
       "month       Oct-23       Nov-23  \n",
       "0          2108.00      2099.00  \n",
       "1       2140751.97   2423027.73  \n",
       "2        345749.00    375299.00  \n",
       "3        383728.43    422056.13  \n",
       "4           207.49       209.44  \n",
       "5           186.95       186.24  \n",
       "6      71738677.81  78602661.22  \n",
       "7             1.11         1.12  \n",
       "8      60562011.68  67056960.47  \n",
       "9       9035914.20   9122673.09  "
      ]
     },
     "execution_count": 130,
     "metadata": {},
     "output_type": "execute_result"
    }
   ],
   "source": [
    "Summarize_Mom_Rep"
   ]
  },
  {
   "cell_type": "markdown",
   "id": "6cb8fd47",
   "metadata": {},
   "source": [
    "### FOR DIFFERENCE"
   ]
  },
  {
   "cell_type": "code",
   "execution_count": 131,
   "id": "b99a0578",
   "metadata": {},
   "outputs": [
    {
     "name": "stderr",
     "output_type": "stream",
     "text": [
      "C:\\Users\\Pc\\AppData\\Local\\Temp\\ipykernel_16196\\3221593206.py:12: SettingWithCopyWarning: \n",
      "A value is trying to be set on a copy of a slice from a DataFrame.\n",
      "Try using .loc[row_indexer,col_indexer] = value instead\n",
      "\n",
      "See the caveats in the documentation: https://pandas.pydata.org/pandas-docs/stable/user_guide/indexing.html#returning-a-view-versus-a-copy\n",
      "  Summarize_Mom_Rep[new_column_name] = difference\n",
      "C:\\Users\\Pc\\AppData\\Local\\Temp\\ipykernel_16196\\3221593206.py:12: SettingWithCopyWarning: \n",
      "A value is trying to be set on a copy of a slice from a DataFrame.\n",
      "Try using .loc[row_indexer,col_indexer] = value instead\n",
      "\n",
      "See the caveats in the documentation: https://pandas.pydata.org/pandas-docs/stable/user_guide/indexing.html#returning-a-view-versus-a-copy\n",
      "  Summarize_Mom_Rep[new_column_name] = difference\n",
      "C:\\Users\\Pc\\AppData\\Local\\Temp\\ipykernel_16196\\3221593206.py:12: SettingWithCopyWarning: \n",
      "A value is trying to be set on a copy of a slice from a DataFrame.\n",
      "Try using .loc[row_indexer,col_indexer] = value instead\n",
      "\n",
      "See the caveats in the documentation: https://pandas.pydata.org/pandas-docs/stable/user_guide/indexing.html#returning-a-view-versus-a-copy\n",
      "  Summarize_Mom_Rep[new_column_name] = difference\n",
      "C:\\Users\\Pc\\AppData\\Local\\Temp\\ipykernel_16196\\3221593206.py:12: SettingWithCopyWarning: \n",
      "A value is trying to be set on a copy of a slice from a DataFrame.\n",
      "Try using .loc[row_indexer,col_indexer] = value instead\n",
      "\n",
      "See the caveats in the documentation: https://pandas.pydata.org/pandas-docs/stable/user_guide/indexing.html#returning-a-view-versus-a-copy\n",
      "  Summarize_Mom_Rep[new_column_name] = difference\n",
      "C:\\Users\\Pc\\AppData\\Local\\Temp\\ipykernel_16196\\3221593206.py:12: SettingWithCopyWarning: \n",
      "A value is trying to be set on a copy of a slice from a DataFrame.\n",
      "Try using .loc[row_indexer,col_indexer] = value instead\n",
      "\n",
      "See the caveats in the documentation: https://pandas.pydata.org/pandas-docs/stable/user_guide/indexing.html#returning-a-view-versus-a-copy\n",
      "  Summarize_Mom_Rep[new_column_name] = difference\n"
     ]
    }
   ],
   "source": [
    "for i in range(1, len(mon_col)):\n",
    "    current_month = mon_col[i]\n",
    "    previous_month = mon_col[i - 1]\n",
    "    \n",
    "    # Calculate difference between current month and previous month\n",
    "    difference = Summarize_Mom_Rep[current_month] - Summarize_Mom_Rep[previous_month]\n",
    "    \n",
    "    # Create new column name for the difference\n",
    "    new_column_name = f'{current_month} (Inc/Dec)'\n",
    "    \n",
    "    # Assign the difference to the new column\n",
    "    Summarize_Mom_Rep[new_column_name] = difference"
   ]
  },
  {
   "cell_type": "markdown",
   "id": "c9fd13f6",
   "metadata": {},
   "source": [
    "### FOR PERCENTAGE CHANGE"
   ]
  },
  {
   "cell_type": "code",
   "execution_count": 132,
   "id": "27c67ca3",
   "metadata": {},
   "outputs": [
    {
     "name": "stderr",
     "output_type": "stream",
     "text": [
      "C:\\Users\\Pc\\AppData\\Local\\Temp\\ipykernel_16196\\3507278762.py:12: SettingWithCopyWarning: \n",
      "A value is trying to be set on a copy of a slice from a DataFrame.\n",
      "Try using .loc[row_indexer,col_indexer] = value instead\n",
      "\n",
      "See the caveats in the documentation: https://pandas.pydata.org/pandas-docs/stable/user_guide/indexing.html#returning-a-view-versus-a-copy\n",
      "  Summarize_Mom_Rep[new_column_name] = difference\n",
      "C:\\Users\\Pc\\AppData\\Local\\Temp\\ipykernel_16196\\3507278762.py:12: SettingWithCopyWarning: \n",
      "A value is trying to be set on a copy of a slice from a DataFrame.\n",
      "Try using .loc[row_indexer,col_indexer] = value instead\n",
      "\n",
      "See the caveats in the documentation: https://pandas.pydata.org/pandas-docs/stable/user_guide/indexing.html#returning-a-view-versus-a-copy\n",
      "  Summarize_Mom_Rep[new_column_name] = difference\n",
      "C:\\Users\\Pc\\AppData\\Local\\Temp\\ipykernel_16196\\3507278762.py:12: SettingWithCopyWarning: \n",
      "A value is trying to be set on a copy of a slice from a DataFrame.\n",
      "Try using .loc[row_indexer,col_indexer] = value instead\n",
      "\n",
      "See the caveats in the documentation: https://pandas.pydata.org/pandas-docs/stable/user_guide/indexing.html#returning-a-view-versus-a-copy\n",
      "  Summarize_Mom_Rep[new_column_name] = difference\n",
      "C:\\Users\\Pc\\AppData\\Local\\Temp\\ipykernel_16196\\3507278762.py:12: SettingWithCopyWarning: \n",
      "A value is trying to be set on a copy of a slice from a DataFrame.\n",
      "Try using .loc[row_indexer,col_indexer] = value instead\n",
      "\n",
      "See the caveats in the documentation: https://pandas.pydata.org/pandas-docs/stable/user_guide/indexing.html#returning-a-view-versus-a-copy\n",
      "  Summarize_Mom_Rep[new_column_name] = difference\n",
      "C:\\Users\\Pc\\AppData\\Local\\Temp\\ipykernel_16196\\3507278762.py:12: SettingWithCopyWarning: \n",
      "A value is trying to be set on a copy of a slice from a DataFrame.\n",
      "Try using .loc[row_indexer,col_indexer] = value instead\n",
      "\n",
      "See the caveats in the documentation: https://pandas.pydata.org/pandas-docs/stable/user_guide/indexing.html#returning-a-view-versus-a-copy\n",
      "  Summarize_Mom_Rep[new_column_name] = difference\n"
     ]
    }
   ],
   "source": [
    "for i in range(1, len(mon_col)):\n",
    "    current_month = mon_col[i]\n",
    "    previous_month = mon_col[i - 1]\n",
    "    \n",
    "    # Calculate difference between current month and previous month\n",
    "    difference = (Summarize_Mom_Rep[current_month]/Summarize_Mom_Rep[previous_month])-1\n",
    "    \n",
    "    # Create new column name for the difference\n",
    "    new_column_name = f'{current_month} (%_chng)'\n",
    "    \n",
    "    # Assign the difference to the new column\n",
    "    Summarize_Mom_Rep[new_column_name] = difference"
   ]
  },
  {
   "cell_type": "code",
   "execution_count": 133,
   "id": "f1c910a4",
   "metadata": {},
   "outputs": [
    {
     "data": {
      "text/plain": [
       "0     Active_Accounts\n",
       "1       Cash_handling\n",
       "2    Normal_Shipments\n",
       "3       Normal_Weight\n",
       "4                 RPS\n",
       "5                 RPW\n",
       "6    Total_normal_rev\n",
       "7                 WPS\n",
       "8      Weight_Charges\n",
       "9      fuel_Surcharge\n",
       "Name: AccountHeads, dtype: object"
      ]
     },
     "execution_count": 133,
     "metadata": {},
     "output_type": "execute_result"
    }
   ],
   "source": [
    "Summarize_Mom_Rep[\"AccountHeads\"]"
   ]
  },
  {
   "cell_type": "code",
   "execution_count": 134,
   "id": "37d9f29e",
   "metadata": {},
   "outputs": [
    {
     "name": "stderr",
     "output_type": "stream",
     "text": [
      "C:\\Users\\Pc\\AppData\\Local\\Temp\\ipykernel_16196\\668453477.py:6: SettingWithCopyWarning: \n",
      "A value is trying to be set on a copy of a slice from a DataFrame.\n",
      "Try using .loc[row_indexer,col_indexer] = value instead\n",
      "\n",
      "See the caveats in the documentation: https://pandas.pydata.org/pandas-docs/stable/user_guide/indexing.html#returning-a-view-versus-a-copy\n",
      "  Summarize_Mom_Rep['AccountHeads'] = pd.Categorical(Summarize_Mom_Rep['AccountHeads'], categories=account_heads_order, ordered=True)\n"
     ]
    }
   ],
   "source": [
    "account_heads_order = [\n",
    "    'Active_Accounts', \"Normal_Shipments\",\"Normal_Weight\",\"Weight_Charges\",\"fuel_Surcharge\",\"Cash_handling\",\"Total_normal_rev\",\"RPS\",\"RPW\",\"WPS\"\n",
    "]\n",
    "\n",
    "# Convert 'AccountHeads' column to Categorical with specified order\n",
    "Summarize_Mom_Rep['AccountHeads'] = pd.Categorical(Summarize_Mom_Rep['AccountHeads'], categories=account_heads_order, ordered=True)\n",
    "\n",
    "# Sort DataFrame by the custom order of 'AccountHeads'\n",
    "Summarize_Mom_Rep = Summarize_Mom_Rep.sort_values(by='AccountHeads')"
   ]
  },
  {
   "cell_type": "code",
   "execution_count": 135,
   "id": "b9d3f8c5",
   "metadata": {},
   "outputs": [
    {
     "data": {
      "text/html": [
       "<div>\n",
       "<style scoped>\n",
       "    .dataframe tbody tr th:only-of-type {\n",
       "        vertical-align: middle;\n",
       "    }\n",
       "\n",
       "    .dataframe tbody tr th {\n",
       "        vertical-align: top;\n",
       "    }\n",
       "\n",
       "    .dataframe thead th {\n",
       "        text-align: right;\n",
       "    }\n",
       "</style>\n",
       "<table border=\"1\" class=\"dataframe\">\n",
       "  <thead>\n",
       "    <tr style=\"text-align: right;\">\n",
       "      <th>month</th>\n",
       "      <th>AccountHeads</th>\n",
       "      <th>Jun-23</th>\n",
       "      <th>Jul-23</th>\n",
       "      <th>Aug-23</th>\n",
       "      <th>Sep-23</th>\n",
       "      <th>Oct-23</th>\n",
       "      <th>Nov-23</th>\n",
       "      <th>Jul-23 (Inc/Dec)</th>\n",
       "      <th>Aug-23 (Inc/Dec)</th>\n",
       "      <th>Sep-23 (Inc/Dec)</th>\n",
       "      <th>Oct-23 (Inc/Dec)</th>\n",
       "      <th>Nov-23 (Inc/Dec)</th>\n",
       "      <th>Jul-23 (%_chng)</th>\n",
       "      <th>Aug-23 (%_chng)</th>\n",
       "      <th>Sep-23 (%_chng)</th>\n",
       "      <th>Oct-23 (%_chng)</th>\n",
       "      <th>Nov-23 (%_chng)</th>\n",
       "    </tr>\n",
       "  </thead>\n",
       "  <tbody>\n",
       "    <tr>\n",
       "      <th>0</th>\n",
       "      <td>Active_Accounts</td>\n",
       "      <td>2012.00</td>\n",
       "      <td>1860.00</td>\n",
       "      <td>2097.00</td>\n",
       "      <td>2142.00</td>\n",
       "      <td>2108.00</td>\n",
       "      <td>2099.00</td>\n",
       "      <td>-152.00</td>\n",
       "      <td>237.00</td>\n",
       "      <td>45.00</td>\n",
       "      <td>-34.00</td>\n",
       "      <td>-9.00</td>\n",
       "      <td>-0.075547</td>\n",
       "      <td>0.127419</td>\n",
       "      <td>0.021459</td>\n",
       "      <td>-0.015873</td>\n",
       "      <td>-0.004269</td>\n",
       "    </tr>\n",
       "    <tr>\n",
       "      <th>2</th>\n",
       "      <td>Normal_Shipments</td>\n",
       "      <td>292127.00</td>\n",
       "      <td>297911.00</td>\n",
       "      <td>373097.00</td>\n",
       "      <td>351551.00</td>\n",
       "      <td>345749.00</td>\n",
       "      <td>375299.00</td>\n",
       "      <td>5784.00</td>\n",
       "      <td>75186.00</td>\n",
       "      <td>-21546.00</td>\n",
       "      <td>-5802.00</td>\n",
       "      <td>29550.00</td>\n",
       "      <td>0.019800</td>\n",
       "      <td>0.252377</td>\n",
       "      <td>-0.057749</td>\n",
       "      <td>-0.016504</td>\n",
       "      <td>0.085467</td>\n",
       "    </tr>\n",
       "    <tr>\n",
       "      <th>3</th>\n",
       "      <td>Normal_Weight</td>\n",
       "      <td>314794.25</td>\n",
       "      <td>311389.73</td>\n",
       "      <td>389458.31</td>\n",
       "      <td>378162.21</td>\n",
       "      <td>383728.43</td>\n",
       "      <td>422056.13</td>\n",
       "      <td>-3404.52</td>\n",
       "      <td>78068.58</td>\n",
       "      <td>-11296.10</td>\n",
       "      <td>5566.22</td>\n",
       "      <td>38327.70</td>\n",
       "      <td>-0.010815</td>\n",
       "      <td>0.250710</td>\n",
       "      <td>-0.029005</td>\n",
       "      <td>0.014719</td>\n",
       "      <td>0.099882</td>\n",
       "    </tr>\n",
       "    <tr>\n",
       "      <th>8</th>\n",
       "      <td>Weight_Charges</td>\n",
       "      <td>50445727.24</td>\n",
       "      <td>50977537.44</td>\n",
       "      <td>63649440.85</td>\n",
       "      <td>60704189.21</td>\n",
       "      <td>60562011.68</td>\n",
       "      <td>67056960.47</td>\n",
       "      <td>531810.20</td>\n",
       "      <td>12671903.41</td>\n",
       "      <td>-2945251.64</td>\n",
       "      <td>-142177.53</td>\n",
       "      <td>6494948.79</td>\n",
       "      <td>0.010542</td>\n",
       "      <td>0.248578</td>\n",
       "      <td>-0.046273</td>\n",
       "      <td>-0.002342</td>\n",
       "      <td>0.107245</td>\n",
       "    </tr>\n",
       "    <tr>\n",
       "      <th>9</th>\n",
       "      <td>fuel_Surcharge</td>\n",
       "      <td>4160564.20</td>\n",
       "      <td>4256268.88</td>\n",
       "      <td>5286748.04</td>\n",
       "      <td>8059524.79</td>\n",
       "      <td>9035914.20</td>\n",
       "      <td>9122673.09</td>\n",
       "      <td>95704.68</td>\n",
       "      <td>1030479.16</td>\n",
       "      <td>2772776.75</td>\n",
       "      <td>976389.41</td>\n",
       "      <td>86758.89</td>\n",
       "      <td>0.023003</td>\n",
       "      <td>0.242109</td>\n",
       "      <td>0.524477</td>\n",
       "      <td>0.121147</td>\n",
       "      <td>0.009602</td>\n",
       "    </tr>\n",
       "    <tr>\n",
       "      <th>1</th>\n",
       "      <td>Cash_handling</td>\n",
       "      <td>2024171.74</td>\n",
       "      <td>2199401.21</td>\n",
       "      <td>2746505.28</td>\n",
       "      <td>2394469.03</td>\n",
       "      <td>2140751.97</td>\n",
       "      <td>2423027.73</td>\n",
       "      <td>175229.47</td>\n",
       "      <td>547104.07</td>\n",
       "      <td>-352036.25</td>\n",
       "      <td>-253717.06</td>\n",
       "      <td>282275.76</td>\n",
       "      <td>0.086568</td>\n",
       "      <td>0.248751</td>\n",
       "      <td>-0.128176</td>\n",
       "      <td>-0.105960</td>\n",
       "      <td>0.131858</td>\n",
       "    </tr>\n",
       "    <tr>\n",
       "      <th>6</th>\n",
       "      <td>Total_normal_rev</td>\n",
       "      <td>56630463.18</td>\n",
       "      <td>57433207.45</td>\n",
       "      <td>71682694.06</td>\n",
       "      <td>71158182.98</td>\n",
       "      <td>71738677.81</td>\n",
       "      <td>78602661.22</td>\n",
       "      <td>802744.27</td>\n",
       "      <td>14249486.61</td>\n",
       "      <td>-524511.08</td>\n",
       "      <td>580494.83</td>\n",
       "      <td>6863983.41</td>\n",
       "      <td>0.014175</td>\n",
       "      <td>0.248105</td>\n",
       "      <td>-0.007317</td>\n",
       "      <td>0.008158</td>\n",
       "      <td>0.095680</td>\n",
       "    </tr>\n",
       "    <tr>\n",
       "      <th>4</th>\n",
       "      <td>RPS</td>\n",
       "      <td>193.86</td>\n",
       "      <td>192.79</td>\n",
       "      <td>192.13</td>\n",
       "      <td>202.41</td>\n",
       "      <td>207.49</td>\n",
       "      <td>209.44</td>\n",
       "      <td>-1.07</td>\n",
       "      <td>-0.66</td>\n",
       "      <td>10.28</td>\n",
       "      <td>5.08</td>\n",
       "      <td>1.95</td>\n",
       "      <td>-0.005519</td>\n",
       "      <td>-0.003423</td>\n",
       "      <td>0.053505</td>\n",
       "      <td>0.025098</td>\n",
       "      <td>0.009398</td>\n",
       "    </tr>\n",
       "    <tr>\n",
       "      <th>5</th>\n",
       "      <td>RPW</td>\n",
       "      <td>179.90</td>\n",
       "      <td>184.44</td>\n",
       "      <td>184.06</td>\n",
       "      <td>188.17</td>\n",
       "      <td>186.95</td>\n",
       "      <td>186.24</td>\n",
       "      <td>4.54</td>\n",
       "      <td>-0.38</td>\n",
       "      <td>4.11</td>\n",
       "      <td>-1.22</td>\n",
       "      <td>-0.71</td>\n",
       "      <td>0.025236</td>\n",
       "      <td>-0.002060</td>\n",
       "      <td>0.022330</td>\n",
       "      <td>-0.006483</td>\n",
       "      <td>-0.003798</td>\n",
       "    </tr>\n",
       "    <tr>\n",
       "      <th>7</th>\n",
       "      <td>WPS</td>\n",
       "      <td>1.08</td>\n",
       "      <td>1.05</td>\n",
       "      <td>1.04</td>\n",
       "      <td>1.08</td>\n",
       "      <td>1.11</td>\n",
       "      <td>1.12</td>\n",
       "      <td>-0.03</td>\n",
       "      <td>-0.01</td>\n",
       "      <td>0.04</td>\n",
       "      <td>0.03</td>\n",
       "      <td>0.01</td>\n",
       "      <td>-0.027778</td>\n",
       "      <td>-0.009524</td>\n",
       "      <td>0.038462</td>\n",
       "      <td>0.027778</td>\n",
       "      <td>0.009009</td>\n",
       "    </tr>\n",
       "  </tbody>\n",
       "</table>\n",
       "</div>"
      ],
      "text/plain": [
       "month      AccountHeads       Jun-23       Jul-23       Aug-23       Sep-23  \\\n",
       "0       Active_Accounts      2012.00      1860.00      2097.00      2142.00   \n",
       "2      Normal_Shipments    292127.00    297911.00    373097.00    351551.00   \n",
       "3         Normal_Weight    314794.25    311389.73    389458.31    378162.21   \n",
       "8        Weight_Charges  50445727.24  50977537.44  63649440.85  60704189.21   \n",
       "9        fuel_Surcharge   4160564.20   4256268.88   5286748.04   8059524.79   \n",
       "1         Cash_handling   2024171.74   2199401.21   2746505.28   2394469.03   \n",
       "6      Total_normal_rev  56630463.18  57433207.45  71682694.06  71158182.98   \n",
       "4                   RPS       193.86       192.79       192.13       202.41   \n",
       "5                   RPW       179.90       184.44       184.06       188.17   \n",
       "7                   WPS         1.08         1.05         1.04         1.08   \n",
       "\n",
       "month       Oct-23       Nov-23  Jul-23 (Inc/Dec)  Aug-23 (Inc/Dec)  \\\n",
       "0          2108.00      2099.00           -152.00            237.00   \n",
       "2        345749.00    375299.00           5784.00          75186.00   \n",
       "3        383728.43    422056.13          -3404.52          78068.58   \n",
       "8      60562011.68  67056960.47         531810.20       12671903.41   \n",
       "9       9035914.20   9122673.09          95704.68        1030479.16   \n",
       "1       2140751.97   2423027.73         175229.47         547104.07   \n",
       "6      71738677.81  78602661.22         802744.27       14249486.61   \n",
       "4           207.49       209.44             -1.07             -0.66   \n",
       "5           186.95       186.24              4.54             -0.38   \n",
       "7             1.11         1.12             -0.03             -0.01   \n",
       "\n",
       "month  Sep-23 (Inc/Dec)  Oct-23 (Inc/Dec)  Nov-23 (Inc/Dec)  Jul-23 (%_chng)  \\\n",
       "0                 45.00            -34.00             -9.00        -0.075547   \n",
       "2             -21546.00          -5802.00          29550.00         0.019800   \n",
       "3             -11296.10           5566.22          38327.70        -0.010815   \n",
       "8           -2945251.64        -142177.53        6494948.79         0.010542   \n",
       "9            2772776.75         976389.41          86758.89         0.023003   \n",
       "1            -352036.25        -253717.06         282275.76         0.086568   \n",
       "6            -524511.08         580494.83        6863983.41         0.014175   \n",
       "4                 10.28              5.08              1.95        -0.005519   \n",
       "5                  4.11             -1.22             -0.71         0.025236   \n",
       "7                  0.04              0.03              0.01        -0.027778   \n",
       "\n",
       "month  Aug-23 (%_chng)  Sep-23 (%_chng)  Oct-23 (%_chng)  Nov-23 (%_chng)  \n",
       "0             0.127419         0.021459        -0.015873        -0.004269  \n",
       "2             0.252377        -0.057749        -0.016504         0.085467  \n",
       "3             0.250710        -0.029005         0.014719         0.099882  \n",
       "8             0.248578        -0.046273        -0.002342         0.107245  \n",
       "9             0.242109         0.524477         0.121147         0.009602  \n",
       "1             0.248751        -0.128176        -0.105960         0.131858  \n",
       "6             0.248105        -0.007317         0.008158         0.095680  \n",
       "4            -0.003423         0.053505         0.025098         0.009398  \n",
       "5            -0.002060         0.022330        -0.006483        -0.003798  \n",
       "7            -0.009524         0.038462         0.027778         0.009009  "
      ]
     },
     "execution_count": 135,
     "metadata": {},
     "output_type": "execute_result"
    }
   ],
   "source": [
    "Summarize_Mom_Rep"
   ]
  },
  {
   "cell_type": "code",
   "execution_count": null,
   "id": "6480c261",
   "metadata": {},
   "outputs": [],
   "source": []
  },
  {
   "cell_type": "markdown",
   "id": "9d59d488",
   "metadata": {},
   "source": [
    "# PPT 2"
   ]
  },
  {
   "cell_type": "code",
   "execution_count": 136,
   "id": "fcd4f8f7",
   "metadata": {},
   "outputs": [],
   "source": [
    "dff = filtered_df['ret_ship']!=0"
   ]
  },
  {
   "cell_type": "code",
   "execution_count": 137,
   "id": "6d3a3aa5",
   "metadata": {},
   "outputs": [],
   "source": [
    "for_ratios = filtered_df.groupby(\"month\")[[\"shipments\",\"n_wght\"]].sum().reset_index()"
   ]
  },
  {
   "cell_type": "code",
   "execution_count": 138,
   "id": "700b334b",
   "metadata": {},
   "outputs": [],
   "source": [
    "Ret_df = filtered_df[dff == True]"
   ]
  },
  {
   "cell_type": "code",
   "execution_count": 139,
   "id": "f99cc8b2",
   "metadata": {},
   "outputs": [
    {
     "data": {
      "text/plain": [
       "Index(['year', 'year_seq', 'month', 'month_seq', 'seq', 'acc_no', 'cust_name',\n",
       "       'sp_name', 'cust_type', 'search', 'shipments', 'n_s_wc', 'n_s_za',\n",
       "       'n_s_zb', 'n_s_zc', 'kg_0_0_5', 'kg_0_5_1_0', 'kgs_1_0_3_0',\n",
       "       'kgs_3_0_5_0', 'kgs_5_0', 'n_s_cod', 'n_s_cod_wc', 'n_s_cod_za',\n",
       "       'n_s_cod_zb', 'n_s_cod_zc', 'n_s_ncod', 'n_wght', 'n_wght_wc',\n",
       "       'n_wght_za', 'n_wght_zb', 'n_wght_zc', 'n_wght_chgs', 'n_oth_chgs',\n",
       "       'n_fsc', 'n_rev', 'n_rev_wc', 'n_rev_za', 'n_rev_zb', 'n_rev_zc', 'cod',\n",
       "       'cod_wc', 'cod_za', 'cod_zb', 'cod_zc', 'ret_ship', 'r_s_wc', 'r_s_za',\n",
       "       'r_s_zb', 'r_s_zc', 'r_s_chrg', 'r_s_nchrg', 'r_wght', 'r_wght_wc',\n",
       "       'r_wght_za', 'r_wght_zb', 'r_wght_zc', 'r_wght_chrg', 'r_wght_nchrg',\n",
       "       'ret_revenue', 'months'],\n",
       "      dtype='object')"
      ]
     },
     "execution_count": 139,
     "metadata": {},
     "output_type": "execute_result"
    }
   ],
   "source": [
    "Ret_df.columns"
   ]
  },
  {
   "cell_type": "code",
   "execution_count": 140,
   "id": "871c8c0b",
   "metadata": {},
   "outputs": [],
   "source": [
    "Summarize_Ret_df = Ret_df.groupby(\"month\").agg(\n",
    "    active_accounts = (\"acc_no\",\"count\"),\n",
    "    Return_Shipment = (\"ret_ship\",\"sum\"),\n",
    "    Return_Weight = ('r_wght',\"sum\"),\n",
    "    return_revenue = ('ret_revenue',\"sum\")\n",
    "    \n",
    "\n",
    ").reset_index()"
   ]
  },
  {
   "cell_type": "code",
   "execution_count": 141,
   "id": "194e66e2",
   "metadata": {},
   "outputs": [],
   "source": [
    "Summarize_Ret_df[\"RPS\"] = round(Summarize_Ret_df[\"return_revenue\"]/Summarize_Ret_df[\"Return_Shipment\"],2)"
   ]
  },
  {
   "cell_type": "code",
   "execution_count": 142,
   "id": "33ca09cf",
   "metadata": {},
   "outputs": [],
   "source": [
    "Summarize_Ret_df[\"RPW\"] = round(Summarize_Ret_df[\"return_revenue\"]/Summarize_Ret_df[\"Return_Weight\"],2)"
   ]
  },
  {
   "cell_type": "code",
   "execution_count": 143,
   "id": "a791dffa",
   "metadata": {},
   "outputs": [],
   "source": [
    "Summarize_Ret_df[\"Shipment_Ret_ration\"] = round(Summarize_Ret_df[\"Return_Shipment\"]/for_ratios[\"shipments\"]*100,2)"
   ]
  },
  {
   "cell_type": "code",
   "execution_count": 144,
   "id": "282209a5",
   "metadata": {},
   "outputs": [],
   "source": [
    "Summarize_Ret_df[\"Weight_ret_ratio\"] = round(Summarize_Ret_df[\"Return_Weight\"]/for_ratios[\"n_wght\"]*100,2)"
   ]
  },
  {
   "cell_type": "code",
   "execution_count": 145,
   "id": "28efb9bd",
   "metadata": {},
   "outputs": [],
   "source": [
    "Summarize_Ret_df = Summarize_Ret_df.pivot_table(index=None, columns='month', aggfunc='sum').reset_index()\n"
   ]
  },
  {
   "cell_type": "code",
   "execution_count": 146,
   "id": "7baf6e75",
   "metadata": {},
   "outputs": [
    {
     "data": {
      "text/html": [
       "<div>\n",
       "<style scoped>\n",
       "    .dataframe tbody tr th:only-of-type {\n",
       "        vertical-align: middle;\n",
       "    }\n",
       "\n",
       "    .dataframe tbody tr th {\n",
       "        vertical-align: top;\n",
       "    }\n",
       "\n",
       "    .dataframe thead th {\n",
       "        text-align: right;\n",
       "    }\n",
       "</style>\n",
       "<table border=\"1\" class=\"dataframe\">\n",
       "  <thead>\n",
       "    <tr style=\"text-align: right;\">\n",
       "      <th>month</th>\n",
       "      <th>index</th>\n",
       "      <th>Aug-23</th>\n",
       "      <th>Jul-23</th>\n",
       "      <th>Jun-23</th>\n",
       "      <th>Nov-23</th>\n",
       "      <th>Oct-23</th>\n",
       "      <th>Sep-23</th>\n",
       "    </tr>\n",
       "  </thead>\n",
       "  <tbody>\n",
       "    <tr>\n",
       "      <th>0</th>\n",
       "      <td>RPS</td>\n",
       "      <td>12.85</td>\n",
       "      <td>13.83</td>\n",
       "      <td>14.23</td>\n",
       "      <td>11.15</td>\n",
       "      <td>11.78</td>\n",
       "      <td>12.19</td>\n",
       "    </tr>\n",
       "    <tr>\n",
       "      <th>1</th>\n",
       "      <td>RPW</td>\n",
       "      <td>15.19</td>\n",
       "      <td>16.00</td>\n",
       "      <td>16.51</td>\n",
       "      <td>11.82</td>\n",
       "      <td>13.50</td>\n",
       "      <td>14.18</td>\n",
       "    </tr>\n",
       "    <tr>\n",
       "      <th>2</th>\n",
       "      <td>Return_Shipment</td>\n",
       "      <td>61736.00</td>\n",
       "      <td>49316.00</td>\n",
       "      <td>47596.00</td>\n",
       "      <td>62430.00</td>\n",
       "      <td>54890.00</td>\n",
       "      <td>56624.00</td>\n",
       "    </tr>\n",
       "    <tr>\n",
       "      <th>3</th>\n",
       "      <td>Return_Weight</td>\n",
       "      <td>52230.28</td>\n",
       "      <td>42615.75</td>\n",
       "      <td>41033.34</td>\n",
       "      <td>58931.62</td>\n",
       "      <td>47884.72</td>\n",
       "      <td>48691.29</td>\n",
       "    </tr>\n",
       "    <tr>\n",
       "      <th>4</th>\n",
       "      <td>Shipment_Ret_ration</td>\n",
       "      <td>16.55</td>\n",
       "      <td>16.55</td>\n",
       "      <td>16.29</td>\n",
       "      <td>16.63</td>\n",
       "      <td>15.88</td>\n",
       "      <td>16.11</td>\n",
       "    </tr>\n",
       "    <tr>\n",
       "      <th>5</th>\n",
       "      <td>Weight_ret_ratio</td>\n",
       "      <td>13.41</td>\n",
       "      <td>13.69</td>\n",
       "      <td>13.03</td>\n",
       "      <td>13.96</td>\n",
       "      <td>12.48</td>\n",
       "      <td>12.88</td>\n",
       "    </tr>\n",
       "    <tr>\n",
       "      <th>6</th>\n",
       "      <td>active_accounts</td>\n",
       "      <td>1396.00</td>\n",
       "      <td>1206.00</td>\n",
       "      <td>1306.00</td>\n",
       "      <td>1388.00</td>\n",
       "      <td>1324.00</td>\n",
       "      <td>1399.00</td>\n",
       "    </tr>\n",
       "    <tr>\n",
       "      <th>7</th>\n",
       "      <td>return_revenue</td>\n",
       "      <td>793316.00</td>\n",
       "      <td>681822.00</td>\n",
       "      <td>677402.00</td>\n",
       "      <td>696400.00</td>\n",
       "      <td>646607.00</td>\n",
       "      <td>690218.00</td>\n",
       "    </tr>\n",
       "  </tbody>\n",
       "</table>\n",
       "</div>"
      ],
      "text/plain": [
       "month                index     Aug-23     Jul-23     Jun-23     Nov-23  \\\n",
       "0                      RPS      12.85      13.83      14.23      11.15   \n",
       "1                      RPW      15.19      16.00      16.51      11.82   \n",
       "2          Return_Shipment   61736.00   49316.00   47596.00   62430.00   \n",
       "3            Return_Weight   52230.28   42615.75   41033.34   58931.62   \n",
       "4      Shipment_Ret_ration      16.55      16.55      16.29      16.63   \n",
       "5         Weight_ret_ratio      13.41      13.69      13.03      13.96   \n",
       "6          active_accounts    1396.00    1206.00    1306.00    1388.00   \n",
       "7           return_revenue  793316.00  681822.00  677402.00  696400.00   \n",
       "\n",
       "month     Oct-23     Sep-23  \n",
       "0          11.78      12.19  \n",
       "1          13.50      14.18  \n",
       "2       54890.00   56624.00  \n",
       "3       47884.72   48691.29  \n",
       "4          15.88      16.11  \n",
       "5          12.48      12.88  \n",
       "6        1324.00    1399.00  \n",
       "7      646607.00  690218.00  "
      ]
     },
     "execution_count": 146,
     "metadata": {},
     "output_type": "execute_result"
    }
   ],
   "source": [
    "Summarize_Ret_df"
   ]
  },
  {
   "cell_type": "code",
   "execution_count": 147,
   "id": "ad114903",
   "metadata": {},
   "outputs": [],
   "source": [
    "Summarize_Ret_df.rename(columns={'index': 'AccountHeads'}, inplace=True)\n"
   ]
  },
  {
   "cell_type": "code",
   "execution_count": 148,
   "id": "07736b94",
   "metadata": {},
   "outputs": [],
   "source": [
    "month_columns= ['AccountHeads'] + sorted(Summarize_Ret_df.columns[1:], key=lambda x: pd.to_datetime(x, format='%b-%y'))\n"
   ]
  },
  {
   "cell_type": "code",
   "execution_count": 149,
   "id": "94e735f7",
   "metadata": {},
   "outputs": [
    {
     "data": {
      "text/html": [
       "<div>\n",
       "<style scoped>\n",
       "    .dataframe tbody tr th:only-of-type {\n",
       "        vertical-align: middle;\n",
       "    }\n",
       "\n",
       "    .dataframe tbody tr th {\n",
       "        vertical-align: top;\n",
       "    }\n",
       "\n",
       "    .dataframe thead th {\n",
       "        text-align: right;\n",
       "    }\n",
       "</style>\n",
       "<table border=\"1\" class=\"dataframe\">\n",
       "  <thead>\n",
       "    <tr style=\"text-align: right;\">\n",
       "      <th>month</th>\n",
       "      <th>AccountHeads</th>\n",
       "      <th>Aug-23</th>\n",
       "      <th>Jul-23</th>\n",
       "      <th>Jun-23</th>\n",
       "      <th>Nov-23</th>\n",
       "      <th>Oct-23</th>\n",
       "      <th>Sep-23</th>\n",
       "    </tr>\n",
       "  </thead>\n",
       "  <tbody>\n",
       "    <tr>\n",
       "      <th>0</th>\n",
       "      <td>RPS</td>\n",
       "      <td>12.85</td>\n",
       "      <td>13.83</td>\n",
       "      <td>14.23</td>\n",
       "      <td>11.15</td>\n",
       "      <td>11.78</td>\n",
       "      <td>12.19</td>\n",
       "    </tr>\n",
       "    <tr>\n",
       "      <th>1</th>\n",
       "      <td>RPW</td>\n",
       "      <td>15.19</td>\n",
       "      <td>16.00</td>\n",
       "      <td>16.51</td>\n",
       "      <td>11.82</td>\n",
       "      <td>13.50</td>\n",
       "      <td>14.18</td>\n",
       "    </tr>\n",
       "    <tr>\n",
       "      <th>2</th>\n",
       "      <td>Return_Shipment</td>\n",
       "      <td>61736.00</td>\n",
       "      <td>49316.00</td>\n",
       "      <td>47596.00</td>\n",
       "      <td>62430.00</td>\n",
       "      <td>54890.00</td>\n",
       "      <td>56624.00</td>\n",
       "    </tr>\n",
       "    <tr>\n",
       "      <th>3</th>\n",
       "      <td>Return_Weight</td>\n",
       "      <td>52230.28</td>\n",
       "      <td>42615.75</td>\n",
       "      <td>41033.34</td>\n",
       "      <td>58931.62</td>\n",
       "      <td>47884.72</td>\n",
       "      <td>48691.29</td>\n",
       "    </tr>\n",
       "    <tr>\n",
       "      <th>4</th>\n",
       "      <td>Shipment_Ret_ration</td>\n",
       "      <td>16.55</td>\n",
       "      <td>16.55</td>\n",
       "      <td>16.29</td>\n",
       "      <td>16.63</td>\n",
       "      <td>15.88</td>\n",
       "      <td>16.11</td>\n",
       "    </tr>\n",
       "    <tr>\n",
       "      <th>5</th>\n",
       "      <td>Weight_ret_ratio</td>\n",
       "      <td>13.41</td>\n",
       "      <td>13.69</td>\n",
       "      <td>13.03</td>\n",
       "      <td>13.96</td>\n",
       "      <td>12.48</td>\n",
       "      <td>12.88</td>\n",
       "    </tr>\n",
       "    <tr>\n",
       "      <th>6</th>\n",
       "      <td>active_accounts</td>\n",
       "      <td>1396.00</td>\n",
       "      <td>1206.00</td>\n",
       "      <td>1306.00</td>\n",
       "      <td>1388.00</td>\n",
       "      <td>1324.00</td>\n",
       "      <td>1399.00</td>\n",
       "    </tr>\n",
       "    <tr>\n",
       "      <th>7</th>\n",
       "      <td>return_revenue</td>\n",
       "      <td>793316.00</td>\n",
       "      <td>681822.00</td>\n",
       "      <td>677402.00</td>\n",
       "      <td>696400.00</td>\n",
       "      <td>646607.00</td>\n",
       "      <td>690218.00</td>\n",
       "    </tr>\n",
       "  </tbody>\n",
       "</table>\n",
       "</div>"
      ],
      "text/plain": [
       "month         AccountHeads     Aug-23     Jul-23     Jun-23     Nov-23  \\\n",
       "0                      RPS      12.85      13.83      14.23      11.15   \n",
       "1                      RPW      15.19      16.00      16.51      11.82   \n",
       "2          Return_Shipment   61736.00   49316.00   47596.00   62430.00   \n",
       "3            Return_Weight   52230.28   42615.75   41033.34   58931.62   \n",
       "4      Shipment_Ret_ration      16.55      16.55      16.29      16.63   \n",
       "5         Weight_ret_ratio      13.41      13.69      13.03      13.96   \n",
       "6          active_accounts    1396.00    1206.00    1306.00    1388.00   \n",
       "7           return_revenue  793316.00  681822.00  677402.00  696400.00   \n",
       "\n",
       "month     Oct-23     Sep-23  \n",
       "0          11.78      12.19  \n",
       "1          13.50      14.18  \n",
       "2       54890.00   56624.00  \n",
       "3       47884.72   48691.29  \n",
       "4          15.88      16.11  \n",
       "5          12.48      12.88  \n",
       "6        1324.00    1399.00  \n",
       "7      646607.00  690218.00  "
      ]
     },
     "execution_count": 149,
     "metadata": {},
     "output_type": "execute_result"
    }
   ],
   "source": [
    "Summarize_Ret_df"
   ]
  },
  {
   "cell_type": "code",
   "execution_count": 150,
   "id": "07d18554",
   "metadata": {},
   "outputs": [],
   "source": [
    "mon_col = month_columns[1:]\n",
    "Summarize_Ret_df = Summarize_Ret_df[month_columns]"
   ]
  },
  {
   "cell_type": "code",
   "execution_count": 151,
   "id": "fa9f9cd8",
   "metadata": {},
   "outputs": [
    {
     "data": {
      "text/html": [
       "<div>\n",
       "<style scoped>\n",
       "    .dataframe tbody tr th:only-of-type {\n",
       "        vertical-align: middle;\n",
       "    }\n",
       "\n",
       "    .dataframe tbody tr th {\n",
       "        vertical-align: top;\n",
       "    }\n",
       "\n",
       "    .dataframe thead th {\n",
       "        text-align: right;\n",
       "    }\n",
       "</style>\n",
       "<table border=\"1\" class=\"dataframe\">\n",
       "  <thead>\n",
       "    <tr style=\"text-align: right;\">\n",
       "      <th>month</th>\n",
       "      <th>AccountHeads</th>\n",
       "      <th>Jun-23</th>\n",
       "      <th>Jul-23</th>\n",
       "      <th>Aug-23</th>\n",
       "      <th>Sep-23</th>\n",
       "      <th>Oct-23</th>\n",
       "      <th>Nov-23</th>\n",
       "    </tr>\n",
       "  </thead>\n",
       "  <tbody>\n",
       "    <tr>\n",
       "      <th>0</th>\n",
       "      <td>RPS</td>\n",
       "      <td>14.23</td>\n",
       "      <td>13.83</td>\n",
       "      <td>12.85</td>\n",
       "      <td>12.19</td>\n",
       "      <td>11.78</td>\n",
       "      <td>11.15</td>\n",
       "    </tr>\n",
       "    <tr>\n",
       "      <th>1</th>\n",
       "      <td>RPW</td>\n",
       "      <td>16.51</td>\n",
       "      <td>16.00</td>\n",
       "      <td>15.19</td>\n",
       "      <td>14.18</td>\n",
       "      <td>13.50</td>\n",
       "      <td>11.82</td>\n",
       "    </tr>\n",
       "    <tr>\n",
       "      <th>2</th>\n",
       "      <td>Return_Shipment</td>\n",
       "      <td>47596.00</td>\n",
       "      <td>49316.00</td>\n",
       "      <td>61736.00</td>\n",
       "      <td>56624.00</td>\n",
       "      <td>54890.00</td>\n",
       "      <td>62430.00</td>\n",
       "    </tr>\n",
       "    <tr>\n",
       "      <th>3</th>\n",
       "      <td>Return_Weight</td>\n",
       "      <td>41033.34</td>\n",
       "      <td>42615.75</td>\n",
       "      <td>52230.28</td>\n",
       "      <td>48691.29</td>\n",
       "      <td>47884.72</td>\n",
       "      <td>58931.62</td>\n",
       "    </tr>\n",
       "    <tr>\n",
       "      <th>4</th>\n",
       "      <td>Shipment_Ret_ration</td>\n",
       "      <td>16.29</td>\n",
       "      <td>16.55</td>\n",
       "      <td>16.55</td>\n",
       "      <td>16.11</td>\n",
       "      <td>15.88</td>\n",
       "      <td>16.63</td>\n",
       "    </tr>\n",
       "    <tr>\n",
       "      <th>5</th>\n",
       "      <td>Weight_ret_ratio</td>\n",
       "      <td>13.03</td>\n",
       "      <td>13.69</td>\n",
       "      <td>13.41</td>\n",
       "      <td>12.88</td>\n",
       "      <td>12.48</td>\n",
       "      <td>13.96</td>\n",
       "    </tr>\n",
       "    <tr>\n",
       "      <th>6</th>\n",
       "      <td>active_accounts</td>\n",
       "      <td>1306.00</td>\n",
       "      <td>1206.00</td>\n",
       "      <td>1396.00</td>\n",
       "      <td>1399.00</td>\n",
       "      <td>1324.00</td>\n",
       "      <td>1388.00</td>\n",
       "    </tr>\n",
       "    <tr>\n",
       "      <th>7</th>\n",
       "      <td>return_revenue</td>\n",
       "      <td>677402.00</td>\n",
       "      <td>681822.00</td>\n",
       "      <td>793316.00</td>\n",
       "      <td>690218.00</td>\n",
       "      <td>646607.00</td>\n",
       "      <td>696400.00</td>\n",
       "    </tr>\n",
       "  </tbody>\n",
       "</table>\n",
       "</div>"
      ],
      "text/plain": [
       "month         AccountHeads     Jun-23     Jul-23     Aug-23     Sep-23  \\\n",
       "0                      RPS      14.23      13.83      12.85      12.19   \n",
       "1                      RPW      16.51      16.00      15.19      14.18   \n",
       "2          Return_Shipment   47596.00   49316.00   61736.00   56624.00   \n",
       "3            Return_Weight   41033.34   42615.75   52230.28   48691.29   \n",
       "4      Shipment_Ret_ration      16.29      16.55      16.55      16.11   \n",
       "5         Weight_ret_ratio      13.03      13.69      13.41      12.88   \n",
       "6          active_accounts    1306.00    1206.00    1396.00    1399.00   \n",
       "7           return_revenue  677402.00  681822.00  793316.00  690218.00   \n",
       "\n",
       "month     Oct-23     Nov-23  \n",
       "0          11.78      11.15  \n",
       "1          13.50      11.82  \n",
       "2       54890.00   62430.00  \n",
       "3       47884.72   58931.62  \n",
       "4          15.88      16.63  \n",
       "5          12.48      13.96  \n",
       "6        1324.00    1388.00  \n",
       "7      646607.00  696400.00  "
      ]
     },
     "execution_count": 151,
     "metadata": {},
     "output_type": "execute_result"
    }
   ],
   "source": [
    "Summarize_Ret_df"
   ]
  },
  {
   "cell_type": "code",
   "execution_count": null,
   "id": "030bca30",
   "metadata": {},
   "outputs": [],
   "source": []
  },
  {
   "cell_type": "code",
   "execution_count": null,
   "id": "5dede600",
   "metadata": {},
   "outputs": [],
   "source": []
  },
  {
   "cell_type": "code",
   "execution_count": null,
   "id": "0127093e",
   "metadata": {},
   "outputs": [],
   "source": []
  },
  {
   "cell_type": "markdown",
   "id": "9e1bef33",
   "metadata": {},
   "source": [
    "### FOR DIFFERENCE"
   ]
  },
  {
   "cell_type": "code",
   "execution_count": 152,
   "id": "b529e172",
   "metadata": {},
   "outputs": [
    {
     "name": "stderr",
     "output_type": "stream",
     "text": [
      "C:\\Users\\Pc\\AppData\\Local\\Temp\\ipykernel_16196\\642246776.py:12: SettingWithCopyWarning: \n",
      "A value is trying to be set on a copy of a slice from a DataFrame.\n",
      "Try using .loc[row_indexer,col_indexer] = value instead\n",
      "\n",
      "See the caveats in the documentation: https://pandas.pydata.org/pandas-docs/stable/user_guide/indexing.html#returning-a-view-versus-a-copy\n",
      "  Summarize_Ret_df[new_column_name] = difference\n",
      "C:\\Users\\Pc\\AppData\\Local\\Temp\\ipykernel_16196\\642246776.py:12: SettingWithCopyWarning: \n",
      "A value is trying to be set on a copy of a slice from a DataFrame.\n",
      "Try using .loc[row_indexer,col_indexer] = value instead\n",
      "\n",
      "See the caveats in the documentation: https://pandas.pydata.org/pandas-docs/stable/user_guide/indexing.html#returning-a-view-versus-a-copy\n",
      "  Summarize_Ret_df[new_column_name] = difference\n",
      "C:\\Users\\Pc\\AppData\\Local\\Temp\\ipykernel_16196\\642246776.py:12: SettingWithCopyWarning: \n",
      "A value is trying to be set on a copy of a slice from a DataFrame.\n",
      "Try using .loc[row_indexer,col_indexer] = value instead\n",
      "\n",
      "See the caveats in the documentation: https://pandas.pydata.org/pandas-docs/stable/user_guide/indexing.html#returning-a-view-versus-a-copy\n",
      "  Summarize_Ret_df[new_column_name] = difference\n",
      "C:\\Users\\Pc\\AppData\\Local\\Temp\\ipykernel_16196\\642246776.py:12: SettingWithCopyWarning: \n",
      "A value is trying to be set on a copy of a slice from a DataFrame.\n",
      "Try using .loc[row_indexer,col_indexer] = value instead\n",
      "\n",
      "See the caveats in the documentation: https://pandas.pydata.org/pandas-docs/stable/user_guide/indexing.html#returning-a-view-versus-a-copy\n",
      "  Summarize_Ret_df[new_column_name] = difference\n",
      "C:\\Users\\Pc\\AppData\\Local\\Temp\\ipykernel_16196\\642246776.py:12: SettingWithCopyWarning: \n",
      "A value is trying to be set on a copy of a slice from a DataFrame.\n",
      "Try using .loc[row_indexer,col_indexer] = value instead\n",
      "\n",
      "See the caveats in the documentation: https://pandas.pydata.org/pandas-docs/stable/user_guide/indexing.html#returning-a-view-versus-a-copy\n",
      "  Summarize_Ret_df[new_column_name] = difference\n"
     ]
    }
   ],
   "source": [
    "for i in range(1, len(mon_col)):\n",
    "    current_month = mon_col[i]\n",
    "    previous_month = mon_col[i - 1]\n",
    "    \n",
    "    # Calculate difference between current month and previous month\n",
    "    difference = Summarize_Ret_df[current_month] - Summarize_Ret_df[previous_month]\n",
    "    \n",
    "    # Create new column name for the difference\n",
    "    new_column_name = f'{current_month} (Inc/Dec)'\n",
    "    \n",
    "    # Assign the difference to the new column\n",
    "    Summarize_Ret_df[new_column_name] = difference"
   ]
  },
  {
   "cell_type": "code",
   "execution_count": 153,
   "id": "4f2ef06b",
   "metadata": {},
   "outputs": [
    {
     "data": {
      "text/html": [
       "<div>\n",
       "<style scoped>\n",
       "    .dataframe tbody tr th:only-of-type {\n",
       "        vertical-align: middle;\n",
       "    }\n",
       "\n",
       "    .dataframe tbody tr th {\n",
       "        vertical-align: top;\n",
       "    }\n",
       "\n",
       "    .dataframe thead th {\n",
       "        text-align: right;\n",
       "    }\n",
       "</style>\n",
       "<table border=\"1\" class=\"dataframe\">\n",
       "  <thead>\n",
       "    <tr style=\"text-align: right;\">\n",
       "      <th>month</th>\n",
       "      <th>AccountHeads</th>\n",
       "      <th>Jun-23</th>\n",
       "      <th>Jul-23</th>\n",
       "      <th>Aug-23</th>\n",
       "      <th>Sep-23</th>\n",
       "      <th>Oct-23</th>\n",
       "      <th>Nov-23</th>\n",
       "      <th>Jul-23 (Inc/Dec)</th>\n",
       "      <th>Aug-23 (Inc/Dec)</th>\n",
       "      <th>Sep-23 (Inc/Dec)</th>\n",
       "      <th>Oct-23 (Inc/Dec)</th>\n",
       "      <th>Nov-23 (Inc/Dec)</th>\n",
       "    </tr>\n",
       "  </thead>\n",
       "  <tbody>\n",
       "    <tr>\n",
       "      <th>0</th>\n",
       "      <td>RPS</td>\n",
       "      <td>14.23</td>\n",
       "      <td>13.83</td>\n",
       "      <td>12.85</td>\n",
       "      <td>12.19</td>\n",
       "      <td>11.78</td>\n",
       "      <td>11.15</td>\n",
       "      <td>-0.40</td>\n",
       "      <td>-0.98</td>\n",
       "      <td>-0.66</td>\n",
       "      <td>-0.41</td>\n",
       "      <td>-0.63</td>\n",
       "    </tr>\n",
       "    <tr>\n",
       "      <th>1</th>\n",
       "      <td>RPW</td>\n",
       "      <td>16.51</td>\n",
       "      <td>16.00</td>\n",
       "      <td>15.19</td>\n",
       "      <td>14.18</td>\n",
       "      <td>13.50</td>\n",
       "      <td>11.82</td>\n",
       "      <td>-0.51</td>\n",
       "      <td>-0.81</td>\n",
       "      <td>-1.01</td>\n",
       "      <td>-0.68</td>\n",
       "      <td>-1.68</td>\n",
       "    </tr>\n",
       "    <tr>\n",
       "      <th>2</th>\n",
       "      <td>Return_Shipment</td>\n",
       "      <td>47596.00</td>\n",
       "      <td>49316.00</td>\n",
       "      <td>61736.00</td>\n",
       "      <td>56624.00</td>\n",
       "      <td>54890.00</td>\n",
       "      <td>62430.00</td>\n",
       "      <td>1720.00</td>\n",
       "      <td>12420.00</td>\n",
       "      <td>-5112.00</td>\n",
       "      <td>-1734.00</td>\n",
       "      <td>7540.00</td>\n",
       "    </tr>\n",
       "    <tr>\n",
       "      <th>3</th>\n",
       "      <td>Return_Weight</td>\n",
       "      <td>41033.34</td>\n",
       "      <td>42615.75</td>\n",
       "      <td>52230.28</td>\n",
       "      <td>48691.29</td>\n",
       "      <td>47884.72</td>\n",
       "      <td>58931.62</td>\n",
       "      <td>1582.41</td>\n",
       "      <td>9614.53</td>\n",
       "      <td>-3538.99</td>\n",
       "      <td>-806.57</td>\n",
       "      <td>11046.90</td>\n",
       "    </tr>\n",
       "    <tr>\n",
       "      <th>4</th>\n",
       "      <td>Shipment_Ret_ration</td>\n",
       "      <td>16.29</td>\n",
       "      <td>16.55</td>\n",
       "      <td>16.55</td>\n",
       "      <td>16.11</td>\n",
       "      <td>15.88</td>\n",
       "      <td>16.63</td>\n",
       "      <td>0.26</td>\n",
       "      <td>0.00</td>\n",
       "      <td>-0.44</td>\n",
       "      <td>-0.23</td>\n",
       "      <td>0.75</td>\n",
       "    </tr>\n",
       "    <tr>\n",
       "      <th>5</th>\n",
       "      <td>Weight_ret_ratio</td>\n",
       "      <td>13.03</td>\n",
       "      <td>13.69</td>\n",
       "      <td>13.41</td>\n",
       "      <td>12.88</td>\n",
       "      <td>12.48</td>\n",
       "      <td>13.96</td>\n",
       "      <td>0.66</td>\n",
       "      <td>-0.28</td>\n",
       "      <td>-0.53</td>\n",
       "      <td>-0.40</td>\n",
       "      <td>1.48</td>\n",
       "    </tr>\n",
       "    <tr>\n",
       "      <th>6</th>\n",
       "      <td>active_accounts</td>\n",
       "      <td>1306.00</td>\n",
       "      <td>1206.00</td>\n",
       "      <td>1396.00</td>\n",
       "      <td>1399.00</td>\n",
       "      <td>1324.00</td>\n",
       "      <td>1388.00</td>\n",
       "      <td>-100.00</td>\n",
       "      <td>190.00</td>\n",
       "      <td>3.00</td>\n",
       "      <td>-75.00</td>\n",
       "      <td>64.00</td>\n",
       "    </tr>\n",
       "    <tr>\n",
       "      <th>7</th>\n",
       "      <td>return_revenue</td>\n",
       "      <td>677402.00</td>\n",
       "      <td>681822.00</td>\n",
       "      <td>793316.00</td>\n",
       "      <td>690218.00</td>\n",
       "      <td>646607.00</td>\n",
       "      <td>696400.00</td>\n",
       "      <td>4420.00</td>\n",
       "      <td>111494.00</td>\n",
       "      <td>-103098.00</td>\n",
       "      <td>-43611.00</td>\n",
       "      <td>49793.00</td>\n",
       "    </tr>\n",
       "  </tbody>\n",
       "</table>\n",
       "</div>"
      ],
      "text/plain": [
       "month         AccountHeads     Jun-23     Jul-23     Aug-23     Sep-23  \\\n",
       "0                      RPS      14.23      13.83      12.85      12.19   \n",
       "1                      RPW      16.51      16.00      15.19      14.18   \n",
       "2          Return_Shipment   47596.00   49316.00   61736.00   56624.00   \n",
       "3            Return_Weight   41033.34   42615.75   52230.28   48691.29   \n",
       "4      Shipment_Ret_ration      16.29      16.55      16.55      16.11   \n",
       "5         Weight_ret_ratio      13.03      13.69      13.41      12.88   \n",
       "6          active_accounts    1306.00    1206.00    1396.00    1399.00   \n",
       "7           return_revenue  677402.00  681822.00  793316.00  690218.00   \n",
       "\n",
       "month     Oct-23     Nov-23  Jul-23 (Inc/Dec)  Aug-23 (Inc/Dec)  \\\n",
       "0          11.78      11.15             -0.40             -0.98   \n",
       "1          13.50      11.82             -0.51             -0.81   \n",
       "2       54890.00   62430.00           1720.00          12420.00   \n",
       "3       47884.72   58931.62           1582.41           9614.53   \n",
       "4          15.88      16.63              0.26              0.00   \n",
       "5          12.48      13.96              0.66             -0.28   \n",
       "6        1324.00    1388.00           -100.00            190.00   \n",
       "7      646607.00  696400.00           4420.00         111494.00   \n",
       "\n",
       "month  Sep-23 (Inc/Dec)  Oct-23 (Inc/Dec)  Nov-23 (Inc/Dec)  \n",
       "0                 -0.66             -0.41             -0.63  \n",
       "1                 -1.01             -0.68             -1.68  \n",
       "2              -5112.00          -1734.00           7540.00  \n",
       "3              -3538.99           -806.57          11046.90  \n",
       "4                 -0.44             -0.23              0.75  \n",
       "5                 -0.53             -0.40              1.48  \n",
       "6                  3.00            -75.00             64.00  \n",
       "7            -103098.00         -43611.00          49793.00  "
      ]
     },
     "execution_count": 153,
     "metadata": {},
     "output_type": "execute_result"
    }
   ],
   "source": [
    "Summarize_Ret_df"
   ]
  },
  {
   "cell_type": "markdown",
   "id": "6f1b2894",
   "metadata": {},
   "source": [
    "### FOR PERCENTAGE CHANGE"
   ]
  },
  {
   "cell_type": "code",
   "execution_count": 154,
   "id": "1b5e0ea7",
   "metadata": {},
   "outputs": [
    {
     "name": "stderr",
     "output_type": "stream",
     "text": [
      "C:\\Users\\Pc\\AppData\\Local\\Temp\\ipykernel_16196\\530615295.py:12: SettingWithCopyWarning: \n",
      "A value is trying to be set on a copy of a slice from a DataFrame.\n",
      "Try using .loc[row_indexer,col_indexer] = value instead\n",
      "\n",
      "See the caveats in the documentation: https://pandas.pydata.org/pandas-docs/stable/user_guide/indexing.html#returning-a-view-versus-a-copy\n",
      "  Summarize_Ret_df[new_column_name] = difference\n",
      "C:\\Users\\Pc\\AppData\\Local\\Temp\\ipykernel_16196\\530615295.py:12: SettingWithCopyWarning: \n",
      "A value is trying to be set on a copy of a slice from a DataFrame.\n",
      "Try using .loc[row_indexer,col_indexer] = value instead\n",
      "\n",
      "See the caveats in the documentation: https://pandas.pydata.org/pandas-docs/stable/user_guide/indexing.html#returning-a-view-versus-a-copy\n",
      "  Summarize_Ret_df[new_column_name] = difference\n",
      "C:\\Users\\Pc\\AppData\\Local\\Temp\\ipykernel_16196\\530615295.py:12: SettingWithCopyWarning: \n",
      "A value is trying to be set on a copy of a slice from a DataFrame.\n",
      "Try using .loc[row_indexer,col_indexer] = value instead\n",
      "\n",
      "See the caveats in the documentation: https://pandas.pydata.org/pandas-docs/stable/user_guide/indexing.html#returning-a-view-versus-a-copy\n",
      "  Summarize_Ret_df[new_column_name] = difference\n",
      "C:\\Users\\Pc\\AppData\\Local\\Temp\\ipykernel_16196\\530615295.py:12: SettingWithCopyWarning: \n",
      "A value is trying to be set on a copy of a slice from a DataFrame.\n",
      "Try using .loc[row_indexer,col_indexer] = value instead\n",
      "\n",
      "See the caveats in the documentation: https://pandas.pydata.org/pandas-docs/stable/user_guide/indexing.html#returning-a-view-versus-a-copy\n",
      "  Summarize_Ret_df[new_column_name] = difference\n",
      "C:\\Users\\Pc\\AppData\\Local\\Temp\\ipykernel_16196\\530615295.py:12: SettingWithCopyWarning: \n",
      "A value is trying to be set on a copy of a slice from a DataFrame.\n",
      "Try using .loc[row_indexer,col_indexer] = value instead\n",
      "\n",
      "See the caveats in the documentation: https://pandas.pydata.org/pandas-docs/stable/user_guide/indexing.html#returning-a-view-versus-a-copy\n",
      "  Summarize_Ret_df[new_column_name] = difference\n"
     ]
    }
   ],
   "source": [
    "for i in range(1, len(mon_col)):\n",
    "    current_month = mon_col[i]\n",
    "    previous_month = mon_col[i - 1]\n",
    "    \n",
    "    # Calculate difference between current month and previous month\n",
    "    difference = (Summarize_Ret_df[current_month]/Summarize_Ret_df[previous_month])-1\n",
    "    \n",
    "    # Create new column name for the difference\n",
    "    new_column_name = f'{current_month} (%_chng)'\n",
    "    \n",
    "    # Assign the difference to the new column\n",
    "    Summarize_Ret_df[new_column_name] = difference"
   ]
  },
  {
   "cell_type": "code",
   "execution_count": 155,
   "id": "1840e685",
   "metadata": {},
   "outputs": [
    {
     "data": {
      "text/plain": [
       "0                    RPS\n",
       "1                    RPW\n",
       "2        Return_Shipment\n",
       "3          Return_Weight\n",
       "4    Shipment_Ret_ration\n",
       "5       Weight_ret_ratio\n",
       "6        active_accounts\n",
       "7         return_revenue\n",
       "Name: AccountHeads, dtype: object"
      ]
     },
     "execution_count": 155,
     "metadata": {},
     "output_type": "execute_result"
    }
   ],
   "source": [
    "Summarize_Ret_df[\"AccountHeads\"]"
   ]
  },
  {
   "cell_type": "code",
   "execution_count": null,
   "id": "b56c7b99",
   "metadata": {},
   "outputs": [],
   "source": []
  },
  {
   "cell_type": "code",
   "execution_count": 156,
   "id": "8104f838",
   "metadata": {},
   "outputs": [
    {
     "name": "stderr",
     "output_type": "stream",
     "text": [
      "C:\\Users\\Pc\\AppData\\Local\\Temp\\ipykernel_16196\\3953243086.py:6: SettingWithCopyWarning: \n",
      "A value is trying to be set on a copy of a slice from a DataFrame.\n",
      "Try using .loc[row_indexer,col_indexer] = value instead\n",
      "\n",
      "See the caveats in the documentation: https://pandas.pydata.org/pandas-docs/stable/user_guide/indexing.html#returning-a-view-versus-a-copy\n",
      "  Summarize_Ret_df['AccountHeads'] = pd.Categorical(Summarize_Ret_df['AccountHeads'], categories=account_heads_order, ordered=True)\n"
     ]
    }
   ],
   "source": [
    "account_heads_order = [\n",
    "    'active_accounts', \"Return_Shipment\",\"Shipment_Ret_ration\",\"Return_Weight\",\"Weight_ret_ratio\",\"return_revenue\",\"RPS\",\"RPW\"\n",
    "]\n",
    "\n",
    "# Convert 'AccountHeads' column to Categorical with specified order\n",
    "Summarize_Ret_df['AccountHeads'] = pd.Categorical(Summarize_Ret_df['AccountHeads'], categories=account_heads_order, ordered=True)\n",
    "\n",
    "# Sort DataFrame by the custom order of 'AccountHeads'\n",
    "Summarize_Ret_df = Summarize_Ret_df.sort_values(by='AccountHeads')"
   ]
  },
  {
   "cell_type": "code",
   "execution_count": 157,
   "id": "7f2dc27f",
   "metadata": {},
   "outputs": [
    {
     "data": {
      "text/html": [
       "<div>\n",
       "<style scoped>\n",
       "    .dataframe tbody tr th:only-of-type {\n",
       "        vertical-align: middle;\n",
       "    }\n",
       "\n",
       "    .dataframe tbody tr th {\n",
       "        vertical-align: top;\n",
       "    }\n",
       "\n",
       "    .dataframe thead th {\n",
       "        text-align: right;\n",
       "    }\n",
       "</style>\n",
       "<table border=\"1\" class=\"dataframe\">\n",
       "  <thead>\n",
       "    <tr style=\"text-align: right;\">\n",
       "      <th>month</th>\n",
       "      <th>AccountHeads</th>\n",
       "      <th>Jun-23</th>\n",
       "      <th>Jul-23</th>\n",
       "      <th>Aug-23</th>\n",
       "      <th>Sep-23</th>\n",
       "      <th>Oct-23</th>\n",
       "      <th>Nov-23</th>\n",
       "      <th>Jul-23 (Inc/Dec)</th>\n",
       "      <th>Aug-23 (Inc/Dec)</th>\n",
       "      <th>Sep-23 (Inc/Dec)</th>\n",
       "      <th>Oct-23 (Inc/Dec)</th>\n",
       "      <th>Nov-23 (Inc/Dec)</th>\n",
       "      <th>Jul-23 (%_chng)</th>\n",
       "      <th>Aug-23 (%_chng)</th>\n",
       "      <th>Sep-23 (%_chng)</th>\n",
       "      <th>Oct-23 (%_chng)</th>\n",
       "      <th>Nov-23 (%_chng)</th>\n",
       "    </tr>\n",
       "  </thead>\n",
       "  <tbody>\n",
       "    <tr>\n",
       "      <th>6</th>\n",
       "      <td>active_accounts</td>\n",
       "      <td>1306.00</td>\n",
       "      <td>1206.00</td>\n",
       "      <td>1396.00</td>\n",
       "      <td>1399.00</td>\n",
       "      <td>1324.00</td>\n",
       "      <td>1388.00</td>\n",
       "      <td>-100.00</td>\n",
       "      <td>190.00</td>\n",
       "      <td>3.00</td>\n",
       "      <td>-75.00</td>\n",
       "      <td>64.00</td>\n",
       "      <td>-0.076570</td>\n",
       "      <td>0.157546</td>\n",
       "      <td>0.002149</td>\n",
       "      <td>-0.053610</td>\n",
       "      <td>0.048338</td>\n",
       "    </tr>\n",
       "    <tr>\n",
       "      <th>2</th>\n",
       "      <td>Return_Shipment</td>\n",
       "      <td>47596.00</td>\n",
       "      <td>49316.00</td>\n",
       "      <td>61736.00</td>\n",
       "      <td>56624.00</td>\n",
       "      <td>54890.00</td>\n",
       "      <td>62430.00</td>\n",
       "      <td>1720.00</td>\n",
       "      <td>12420.00</td>\n",
       "      <td>-5112.00</td>\n",
       "      <td>-1734.00</td>\n",
       "      <td>7540.00</td>\n",
       "      <td>0.036137</td>\n",
       "      <td>0.251845</td>\n",
       "      <td>-0.082804</td>\n",
       "      <td>-0.030623</td>\n",
       "      <td>0.137366</td>\n",
       "    </tr>\n",
       "    <tr>\n",
       "      <th>4</th>\n",
       "      <td>Shipment_Ret_ration</td>\n",
       "      <td>16.29</td>\n",
       "      <td>16.55</td>\n",
       "      <td>16.55</td>\n",
       "      <td>16.11</td>\n",
       "      <td>15.88</td>\n",
       "      <td>16.63</td>\n",
       "      <td>0.26</td>\n",
       "      <td>0.00</td>\n",
       "      <td>-0.44</td>\n",
       "      <td>-0.23</td>\n",
       "      <td>0.75</td>\n",
       "      <td>0.015961</td>\n",
       "      <td>0.000000</td>\n",
       "      <td>-0.026586</td>\n",
       "      <td>-0.014277</td>\n",
       "      <td>0.047229</td>\n",
       "    </tr>\n",
       "    <tr>\n",
       "      <th>3</th>\n",
       "      <td>Return_Weight</td>\n",
       "      <td>41033.34</td>\n",
       "      <td>42615.75</td>\n",
       "      <td>52230.28</td>\n",
       "      <td>48691.29</td>\n",
       "      <td>47884.72</td>\n",
       "      <td>58931.62</td>\n",
       "      <td>1582.41</td>\n",
       "      <td>9614.53</td>\n",
       "      <td>-3538.99</td>\n",
       "      <td>-806.57</td>\n",
       "      <td>11046.90</td>\n",
       "      <td>0.038564</td>\n",
       "      <td>0.225610</td>\n",
       "      <td>-0.067757</td>\n",
       "      <td>-0.016565</td>\n",
       "      <td>0.230698</td>\n",
       "    </tr>\n",
       "    <tr>\n",
       "      <th>5</th>\n",
       "      <td>Weight_ret_ratio</td>\n",
       "      <td>13.03</td>\n",
       "      <td>13.69</td>\n",
       "      <td>13.41</td>\n",
       "      <td>12.88</td>\n",
       "      <td>12.48</td>\n",
       "      <td>13.96</td>\n",
       "      <td>0.66</td>\n",
       "      <td>-0.28</td>\n",
       "      <td>-0.53</td>\n",
       "      <td>-0.40</td>\n",
       "      <td>1.48</td>\n",
       "      <td>0.050652</td>\n",
       "      <td>-0.020453</td>\n",
       "      <td>-0.039523</td>\n",
       "      <td>-0.031056</td>\n",
       "      <td>0.118590</td>\n",
       "    </tr>\n",
       "    <tr>\n",
       "      <th>7</th>\n",
       "      <td>return_revenue</td>\n",
       "      <td>677402.00</td>\n",
       "      <td>681822.00</td>\n",
       "      <td>793316.00</td>\n",
       "      <td>690218.00</td>\n",
       "      <td>646607.00</td>\n",
       "      <td>696400.00</td>\n",
       "      <td>4420.00</td>\n",
       "      <td>111494.00</td>\n",
       "      <td>-103098.00</td>\n",
       "      <td>-43611.00</td>\n",
       "      <td>49793.00</td>\n",
       "      <td>0.006525</td>\n",
       "      <td>0.163524</td>\n",
       "      <td>-0.129958</td>\n",
       "      <td>-0.063184</td>\n",
       "      <td>0.077007</td>\n",
       "    </tr>\n",
       "    <tr>\n",
       "      <th>0</th>\n",
       "      <td>RPS</td>\n",
       "      <td>14.23</td>\n",
       "      <td>13.83</td>\n",
       "      <td>12.85</td>\n",
       "      <td>12.19</td>\n",
       "      <td>11.78</td>\n",
       "      <td>11.15</td>\n",
       "      <td>-0.40</td>\n",
       "      <td>-0.98</td>\n",
       "      <td>-0.66</td>\n",
       "      <td>-0.41</td>\n",
       "      <td>-0.63</td>\n",
       "      <td>-0.028110</td>\n",
       "      <td>-0.070860</td>\n",
       "      <td>-0.051362</td>\n",
       "      <td>-0.033634</td>\n",
       "      <td>-0.053480</td>\n",
       "    </tr>\n",
       "    <tr>\n",
       "      <th>1</th>\n",
       "      <td>RPW</td>\n",
       "      <td>16.51</td>\n",
       "      <td>16.00</td>\n",
       "      <td>15.19</td>\n",
       "      <td>14.18</td>\n",
       "      <td>13.50</td>\n",
       "      <td>11.82</td>\n",
       "      <td>-0.51</td>\n",
       "      <td>-0.81</td>\n",
       "      <td>-1.01</td>\n",
       "      <td>-0.68</td>\n",
       "      <td>-1.68</td>\n",
       "      <td>-0.030890</td>\n",
       "      <td>-0.050625</td>\n",
       "      <td>-0.066491</td>\n",
       "      <td>-0.047955</td>\n",
       "      <td>-0.124444</td>\n",
       "    </tr>\n",
       "  </tbody>\n",
       "</table>\n",
       "</div>"
      ],
      "text/plain": [
       "month         AccountHeads     Jun-23     Jul-23     Aug-23     Sep-23  \\\n",
       "6          active_accounts    1306.00    1206.00    1396.00    1399.00   \n",
       "2          Return_Shipment   47596.00   49316.00   61736.00   56624.00   \n",
       "4      Shipment_Ret_ration      16.29      16.55      16.55      16.11   \n",
       "3            Return_Weight   41033.34   42615.75   52230.28   48691.29   \n",
       "5         Weight_ret_ratio      13.03      13.69      13.41      12.88   \n",
       "7           return_revenue  677402.00  681822.00  793316.00  690218.00   \n",
       "0                      RPS      14.23      13.83      12.85      12.19   \n",
       "1                      RPW      16.51      16.00      15.19      14.18   \n",
       "\n",
       "month     Oct-23     Nov-23  Jul-23 (Inc/Dec)  Aug-23 (Inc/Dec)  \\\n",
       "6        1324.00    1388.00           -100.00            190.00   \n",
       "2       54890.00   62430.00           1720.00          12420.00   \n",
       "4          15.88      16.63              0.26              0.00   \n",
       "3       47884.72   58931.62           1582.41           9614.53   \n",
       "5          12.48      13.96              0.66             -0.28   \n",
       "7      646607.00  696400.00           4420.00         111494.00   \n",
       "0          11.78      11.15             -0.40             -0.98   \n",
       "1          13.50      11.82             -0.51             -0.81   \n",
       "\n",
       "month  Sep-23 (Inc/Dec)  Oct-23 (Inc/Dec)  Nov-23 (Inc/Dec)  Jul-23 (%_chng)  \\\n",
       "6                  3.00            -75.00             64.00        -0.076570   \n",
       "2              -5112.00          -1734.00           7540.00         0.036137   \n",
       "4                 -0.44             -0.23              0.75         0.015961   \n",
       "3              -3538.99           -806.57          11046.90         0.038564   \n",
       "5                 -0.53             -0.40              1.48         0.050652   \n",
       "7            -103098.00         -43611.00          49793.00         0.006525   \n",
       "0                 -0.66             -0.41             -0.63        -0.028110   \n",
       "1                 -1.01             -0.68             -1.68        -0.030890   \n",
       "\n",
       "month  Aug-23 (%_chng)  Sep-23 (%_chng)  Oct-23 (%_chng)  Nov-23 (%_chng)  \n",
       "6             0.157546         0.002149        -0.053610         0.048338  \n",
       "2             0.251845        -0.082804        -0.030623         0.137366  \n",
       "4             0.000000        -0.026586        -0.014277         0.047229  \n",
       "3             0.225610        -0.067757        -0.016565         0.230698  \n",
       "5            -0.020453        -0.039523        -0.031056         0.118590  \n",
       "7             0.163524        -0.129958        -0.063184         0.077007  \n",
       "0            -0.070860        -0.051362        -0.033634        -0.053480  \n",
       "1            -0.050625        -0.066491        -0.047955        -0.124444  "
      ]
     },
     "execution_count": 157,
     "metadata": {},
     "output_type": "execute_result"
    }
   ],
   "source": [
    "Summarize_Ret_df"
   ]
  },
  {
   "cell_type": "code",
   "execution_count": 158,
   "id": "2fcd9f65",
   "metadata": {},
   "outputs": [
    {
     "data": {
      "text/html": [
       "<div>\n",
       "<style scoped>\n",
       "    .dataframe tbody tr th:only-of-type {\n",
       "        vertical-align: middle;\n",
       "    }\n",
       "\n",
       "    .dataframe tbody tr th {\n",
       "        vertical-align: top;\n",
       "    }\n",
       "\n",
       "    .dataframe thead th {\n",
       "        text-align: right;\n",
       "    }\n",
       "</style>\n",
       "<table border=\"1\" class=\"dataframe\">\n",
       "  <thead>\n",
       "    <tr style=\"text-align: right;\">\n",
       "      <th>month</th>\n",
       "      <th>AccountHeads</th>\n",
       "      <th>Jun-23</th>\n",
       "      <th>Jul-23</th>\n",
       "      <th>Aug-23</th>\n",
       "      <th>Sep-23</th>\n",
       "      <th>Oct-23</th>\n",
       "      <th>Nov-23</th>\n",
       "      <th>Jul-23 (Inc/Dec)</th>\n",
       "      <th>Aug-23 (Inc/Dec)</th>\n",
       "      <th>Sep-23 (Inc/Dec)</th>\n",
       "      <th>Oct-23 (Inc/Dec)</th>\n",
       "      <th>Nov-23 (Inc/Dec)</th>\n",
       "      <th>Jul-23 (%_chng)</th>\n",
       "      <th>Aug-23 (%_chng)</th>\n",
       "      <th>Sep-23 (%_chng)</th>\n",
       "      <th>Oct-23 (%_chng)</th>\n",
       "      <th>Nov-23 (%_chng)</th>\n",
       "    </tr>\n",
       "  </thead>\n",
       "  <tbody>\n",
       "    <tr>\n",
       "      <th>0</th>\n",
       "      <td>Active_Accounts</td>\n",
       "      <td>2012.00</td>\n",
       "      <td>1860.00</td>\n",
       "      <td>2097.00</td>\n",
       "      <td>2142.00</td>\n",
       "      <td>2108.00</td>\n",
       "      <td>2099.00</td>\n",
       "      <td>-152.00</td>\n",
       "      <td>237.00</td>\n",
       "      <td>45.00</td>\n",
       "      <td>-34.00</td>\n",
       "      <td>-9.00</td>\n",
       "      <td>-0.075547</td>\n",
       "      <td>0.127419</td>\n",
       "      <td>0.021459</td>\n",
       "      <td>-0.015873</td>\n",
       "      <td>-0.004269</td>\n",
       "    </tr>\n",
       "    <tr>\n",
       "      <th>2</th>\n",
       "      <td>Normal_Shipments</td>\n",
       "      <td>292127.00</td>\n",
       "      <td>297911.00</td>\n",
       "      <td>373097.00</td>\n",
       "      <td>351551.00</td>\n",
       "      <td>345749.00</td>\n",
       "      <td>375299.00</td>\n",
       "      <td>5784.00</td>\n",
       "      <td>75186.00</td>\n",
       "      <td>-21546.00</td>\n",
       "      <td>-5802.00</td>\n",
       "      <td>29550.00</td>\n",
       "      <td>0.019800</td>\n",
       "      <td>0.252377</td>\n",
       "      <td>-0.057749</td>\n",
       "      <td>-0.016504</td>\n",
       "      <td>0.085467</td>\n",
       "    </tr>\n",
       "    <tr>\n",
       "      <th>3</th>\n",
       "      <td>Normal_Weight</td>\n",
       "      <td>314794.25</td>\n",
       "      <td>311389.73</td>\n",
       "      <td>389458.31</td>\n",
       "      <td>378162.21</td>\n",
       "      <td>383728.43</td>\n",
       "      <td>422056.13</td>\n",
       "      <td>-3404.52</td>\n",
       "      <td>78068.58</td>\n",
       "      <td>-11296.10</td>\n",
       "      <td>5566.22</td>\n",
       "      <td>38327.70</td>\n",
       "      <td>-0.010815</td>\n",
       "      <td>0.250710</td>\n",
       "      <td>-0.029005</td>\n",
       "      <td>0.014719</td>\n",
       "      <td>0.099882</td>\n",
       "    </tr>\n",
       "    <tr>\n",
       "      <th>8</th>\n",
       "      <td>Weight_Charges</td>\n",
       "      <td>50445727.24</td>\n",
       "      <td>50977537.44</td>\n",
       "      <td>63649440.85</td>\n",
       "      <td>60704189.21</td>\n",
       "      <td>60562011.68</td>\n",
       "      <td>67056960.47</td>\n",
       "      <td>531810.20</td>\n",
       "      <td>12671903.41</td>\n",
       "      <td>-2945251.64</td>\n",
       "      <td>-142177.53</td>\n",
       "      <td>6494948.79</td>\n",
       "      <td>0.010542</td>\n",
       "      <td>0.248578</td>\n",
       "      <td>-0.046273</td>\n",
       "      <td>-0.002342</td>\n",
       "      <td>0.107245</td>\n",
       "    </tr>\n",
       "    <tr>\n",
       "      <th>9</th>\n",
       "      <td>fuel_Surcharge</td>\n",
       "      <td>4160564.20</td>\n",
       "      <td>4256268.88</td>\n",
       "      <td>5286748.04</td>\n",
       "      <td>8059524.79</td>\n",
       "      <td>9035914.20</td>\n",
       "      <td>9122673.09</td>\n",
       "      <td>95704.68</td>\n",
       "      <td>1030479.16</td>\n",
       "      <td>2772776.75</td>\n",
       "      <td>976389.41</td>\n",
       "      <td>86758.89</td>\n",
       "      <td>0.023003</td>\n",
       "      <td>0.242109</td>\n",
       "      <td>0.524477</td>\n",
       "      <td>0.121147</td>\n",
       "      <td>0.009602</td>\n",
       "    </tr>\n",
       "    <tr>\n",
       "      <th>1</th>\n",
       "      <td>Cash_handling</td>\n",
       "      <td>2024171.74</td>\n",
       "      <td>2199401.21</td>\n",
       "      <td>2746505.28</td>\n",
       "      <td>2394469.03</td>\n",
       "      <td>2140751.97</td>\n",
       "      <td>2423027.73</td>\n",
       "      <td>175229.47</td>\n",
       "      <td>547104.07</td>\n",
       "      <td>-352036.25</td>\n",
       "      <td>-253717.06</td>\n",
       "      <td>282275.76</td>\n",
       "      <td>0.086568</td>\n",
       "      <td>0.248751</td>\n",
       "      <td>-0.128176</td>\n",
       "      <td>-0.105960</td>\n",
       "      <td>0.131858</td>\n",
       "    </tr>\n",
       "    <tr>\n",
       "      <th>6</th>\n",
       "      <td>Total_normal_rev</td>\n",
       "      <td>56630463.18</td>\n",
       "      <td>57433207.45</td>\n",
       "      <td>71682694.06</td>\n",
       "      <td>71158182.98</td>\n",
       "      <td>71738677.81</td>\n",
       "      <td>78602661.22</td>\n",
       "      <td>802744.27</td>\n",
       "      <td>14249486.61</td>\n",
       "      <td>-524511.08</td>\n",
       "      <td>580494.83</td>\n",
       "      <td>6863983.41</td>\n",
       "      <td>0.014175</td>\n",
       "      <td>0.248105</td>\n",
       "      <td>-0.007317</td>\n",
       "      <td>0.008158</td>\n",
       "      <td>0.095680</td>\n",
       "    </tr>\n",
       "    <tr>\n",
       "      <th>4</th>\n",
       "      <td>RPS</td>\n",
       "      <td>193.86</td>\n",
       "      <td>192.79</td>\n",
       "      <td>192.13</td>\n",
       "      <td>202.41</td>\n",
       "      <td>207.49</td>\n",
       "      <td>209.44</td>\n",
       "      <td>-1.07</td>\n",
       "      <td>-0.66</td>\n",
       "      <td>10.28</td>\n",
       "      <td>5.08</td>\n",
       "      <td>1.95</td>\n",
       "      <td>-0.005519</td>\n",
       "      <td>-0.003423</td>\n",
       "      <td>0.053505</td>\n",
       "      <td>0.025098</td>\n",
       "      <td>0.009398</td>\n",
       "    </tr>\n",
       "    <tr>\n",
       "      <th>5</th>\n",
       "      <td>RPW</td>\n",
       "      <td>179.90</td>\n",
       "      <td>184.44</td>\n",
       "      <td>184.06</td>\n",
       "      <td>188.17</td>\n",
       "      <td>186.95</td>\n",
       "      <td>186.24</td>\n",
       "      <td>4.54</td>\n",
       "      <td>-0.38</td>\n",
       "      <td>4.11</td>\n",
       "      <td>-1.22</td>\n",
       "      <td>-0.71</td>\n",
       "      <td>0.025236</td>\n",
       "      <td>-0.002060</td>\n",
       "      <td>0.022330</td>\n",
       "      <td>-0.006483</td>\n",
       "      <td>-0.003798</td>\n",
       "    </tr>\n",
       "    <tr>\n",
       "      <th>7</th>\n",
       "      <td>WPS</td>\n",
       "      <td>1.08</td>\n",
       "      <td>1.05</td>\n",
       "      <td>1.04</td>\n",
       "      <td>1.08</td>\n",
       "      <td>1.11</td>\n",
       "      <td>1.12</td>\n",
       "      <td>-0.03</td>\n",
       "      <td>-0.01</td>\n",
       "      <td>0.04</td>\n",
       "      <td>0.03</td>\n",
       "      <td>0.01</td>\n",
       "      <td>-0.027778</td>\n",
       "      <td>-0.009524</td>\n",
       "      <td>0.038462</td>\n",
       "      <td>0.027778</td>\n",
       "      <td>0.009009</td>\n",
       "    </tr>\n",
       "  </tbody>\n",
       "</table>\n",
       "</div>"
      ],
      "text/plain": [
       "month      AccountHeads       Jun-23       Jul-23       Aug-23       Sep-23  \\\n",
       "0       Active_Accounts      2012.00      1860.00      2097.00      2142.00   \n",
       "2      Normal_Shipments    292127.00    297911.00    373097.00    351551.00   \n",
       "3         Normal_Weight    314794.25    311389.73    389458.31    378162.21   \n",
       "8        Weight_Charges  50445727.24  50977537.44  63649440.85  60704189.21   \n",
       "9        fuel_Surcharge   4160564.20   4256268.88   5286748.04   8059524.79   \n",
       "1         Cash_handling   2024171.74   2199401.21   2746505.28   2394469.03   \n",
       "6      Total_normal_rev  56630463.18  57433207.45  71682694.06  71158182.98   \n",
       "4                   RPS       193.86       192.79       192.13       202.41   \n",
       "5                   RPW       179.90       184.44       184.06       188.17   \n",
       "7                   WPS         1.08         1.05         1.04         1.08   \n",
       "\n",
       "month       Oct-23       Nov-23  Jul-23 (Inc/Dec)  Aug-23 (Inc/Dec)  \\\n",
       "0          2108.00      2099.00           -152.00            237.00   \n",
       "2        345749.00    375299.00           5784.00          75186.00   \n",
       "3        383728.43    422056.13          -3404.52          78068.58   \n",
       "8      60562011.68  67056960.47         531810.20       12671903.41   \n",
       "9       9035914.20   9122673.09          95704.68        1030479.16   \n",
       "1       2140751.97   2423027.73         175229.47         547104.07   \n",
       "6      71738677.81  78602661.22         802744.27       14249486.61   \n",
       "4           207.49       209.44             -1.07             -0.66   \n",
       "5           186.95       186.24              4.54             -0.38   \n",
       "7             1.11         1.12             -0.03             -0.01   \n",
       "\n",
       "month  Sep-23 (Inc/Dec)  Oct-23 (Inc/Dec)  Nov-23 (Inc/Dec)  Jul-23 (%_chng)  \\\n",
       "0                 45.00            -34.00             -9.00        -0.075547   \n",
       "2             -21546.00          -5802.00          29550.00         0.019800   \n",
       "3             -11296.10           5566.22          38327.70        -0.010815   \n",
       "8           -2945251.64        -142177.53        6494948.79         0.010542   \n",
       "9            2772776.75         976389.41          86758.89         0.023003   \n",
       "1            -352036.25        -253717.06         282275.76         0.086568   \n",
       "6            -524511.08         580494.83        6863983.41         0.014175   \n",
       "4                 10.28              5.08              1.95        -0.005519   \n",
       "5                  4.11             -1.22             -0.71         0.025236   \n",
       "7                  0.04              0.03              0.01        -0.027778   \n",
       "\n",
       "month  Aug-23 (%_chng)  Sep-23 (%_chng)  Oct-23 (%_chng)  Nov-23 (%_chng)  \n",
       "0             0.127419         0.021459        -0.015873        -0.004269  \n",
       "2             0.252377        -0.057749        -0.016504         0.085467  \n",
       "3             0.250710        -0.029005         0.014719         0.099882  \n",
       "8             0.248578        -0.046273        -0.002342         0.107245  \n",
       "9             0.242109         0.524477         0.121147         0.009602  \n",
       "1             0.248751        -0.128176        -0.105960         0.131858  \n",
       "6             0.248105        -0.007317         0.008158         0.095680  \n",
       "4            -0.003423         0.053505         0.025098         0.009398  \n",
       "5            -0.002060         0.022330        -0.006483        -0.003798  \n",
       "7            -0.009524         0.038462         0.027778         0.009009  "
      ]
     },
     "execution_count": 158,
     "metadata": {},
     "output_type": "execute_result"
    }
   ],
   "source": [
    "Summarize_Mom_Rep"
   ]
  },
  {
   "cell_type": "code",
   "execution_count": null,
   "id": "aff41723",
   "metadata": {},
   "outputs": [],
   "source": []
  },
  {
   "cell_type": "code",
   "execution_count": null,
   "id": "0bd78a37",
   "metadata": {},
   "outputs": [],
   "source": []
  },
  {
   "cell_type": "markdown",
   "id": "4b925482",
   "metadata": {},
   "source": [
    "# for table creating in ppt                                                                                                     "
   ]
  },
  {
   "cell_type": "code",
   "execution_count": 159,
   "id": "62d9caad",
   "metadata": {},
   "outputs": [],
   "source": [
    "# from pptx import Presentation\n",
    "# from pptx.util import Inches, Pt\n",
    "\n",
    "# # Sample DataFrame representing your data\n",
    "# data = {\n",
    "#     'AccountHeads': [\n",
    "#         'Active_Accounts', 'Normal_Shipments', 'Normal_Weight', 'Weight_Charges', 'fuel_Surcharge',\n",
    "#         'Cash_handling', 'Total_normal_rev', 'RPS', 'RPW', 'WPS'\n",
    "#     ],\n",
    "#     'Jun-23': [2012.00, 292127.00, 314794.25, 50445727.24, 4160564.20, 2024171.74, 56630463.18, 193.86, 179.90, 1.08],\n",
    "#     'Jul-23': [1860.00, 297911.00, 311389.73, 50977537.44, 4256268.88, 2199401.21, 57433207.45, 192.79, 184.44, 1.05],\n",
    "#     'Aug-23': [2097.00, 373097.00, 389458.31, 63649440.85, 5286748.04, 2746505.28, 71682694.06, 192.13, 184.06, 1.04],\n",
    "#     'Sep-23': [2142.00, 351551.00, 378162.21, 60704189.21, 8059524.79, 2394469.03, 71158182.98, 202.41, 188.17, 1.08],\n",
    "#     'Oct-23': [2108.00, 345749.00, 383728.43, 60562011.68, 9035914.20, 2140751.97, 71738677.81, 207.49, 186.95, 1.11],\n",
    "#     'Nov-23': [2099.00, 375299.00, 422056.13, 67056960.47, 9122673.09, 2423027.73, 78602661.22, 209.44, 186.24, 1.12],\n",
    "#     'Jul-23 (Inc/Dec)': [-152.00, 5784.00, -3404.52, 531810.20, 95704.68, 175229.47, 802744.27, -1.07, 4.54, -0.03],\n",
    "#     'Aug-23 (Inc/Dec)': [237.00, 75186.00, 78068.58, 12671903.41, 1030479.16, 547104.07, 14249486.61, -0.66, -0.38, -0.01],\n",
    "#     'Sep-23 (Inc/Dec)': [45.00, -21546.00, -11296.10, -2945251.64, 2772776.75, -352036.25, -524511.08, 10.28, 4.11, 0.04],\n",
    "#     'Oct-23 (Inc/Dec)': [-34.00, -5802.00, 5566.22, -142177.53, 976389.41, -253717.06, 580494.83, 5.08, -1.22, 0.03],\n",
    "#     'Nov-23 (Inc/Dec)': [-9.00, 29550.00, 38327.70, 6494948.79, 86758.89, 282275.76, 6863983.41, 1.95, -0.71, 0.01],\n",
    "#     'Jul-23 (%_chng)': [-0.075547, 0.019800, -0.010815, 0.010542, 0.023003, 0.086568, 0.014175, -0.005519, 0.025236, -0.027778],\n",
    "#     'Aug-23 (%_chng)': [0.127419, 0.252377, 0.250710, 0.248578, 0.242109, 0.248751, 0.248105, -0.003423, -0.002060, -0.009524],\n",
    "#     'Sep-23 (%_chng)': [0.021459, -0.057749, -0.029005, -0.046273, 0.524477, -0.128176, -0.007317, 0.053505, 0.022330, 0.038462],\n",
    "#     'Oct-23 (%_chng)': [-0.015873, -0.016504, 0.014719, -0.002342, 0.121147, -0.105960, 0.008158, 0.025098, -0.006483, 0.027778],\n",
    "#     'Nov-23 (%_chng)': [-0.004269, 0.085467, 0.099882, 0.107245, 0.009602, 0.131858, 0.095680, 0.009398, -0.003798, 0.009009]\n",
    "# }\n",
    "\n",
    "# # Create a new PowerPoint presentation\n",
    "# prs = Presentation()\n",
    "\n",
    "# # Choose a blank slide layout (index 6 typically represents a blank layout)\n",
    "# blank_slide_layout = prs.slide_layouts[6]\n",
    "\n",
    "# # Add a slide using the selected blank layout\n",
    "# slide = prs.slides.add_slide(blank_slide_layout)\n",
    "\n",
    "# # Add a title to the slide\n",
    "# title_shape = slide.shapes.add_textbox(Inches(0.5), Inches(0.5), Inches(8), Inches(1))\n",
    "# title_text_frame = title_shape.text_frame\n",
    "# title_text_frame.text = \"Key Stats for the Month of March 2024 - Normal Shipments\"\n",
    "# title_paragraph = title_text_frame.paragraphs[0]\n",
    "# title_paragraph.font.size = Pt(14)\n",
    "# title_paragraph.font.bold = True\n",
    "\n",
    "# # Add a table to the slide\n",
    "# left, top, width, height = Inches(0.5), Inches(1.5), Inches(9), Inches(5)\n",
    "# table = slide.shapes.add_table(len(data['AccountHeads']) + 1, len(data), left, top, width, height).table\n",
    "\n",
    "# # Set column widths for the table\n",
    "# column_widths = [Inches(3)] + [Inches(1.5)] * (len(data) - 1)  # Set wider width for AccountHeads column\n",
    "# for i, width in enumerate(column_widths):\n",
    "#     table.columns[i].width = width\n",
    "\n",
    "# # Populate the table with headers and data\n",
    "# headers = list(data.keys())  # Get all columns including 'AccountHeads'\n",
    "# for i, header in enumerate(headers):\n",
    "#     cell = table.cell(0, i)\n",
    "#     cell.text = header\n",
    "\n",
    "#     # Set font properties for table headers\n",
    "#     cell.text_frame.paragraphs[0].font.size = Pt(10)\n",
    "#     cell.text_frame.paragraphs[0].font.bold = True\n",
    "\n",
    "# # Iterate over AccountHeads and corresponding data\n",
    "# for row_index, account_head in enumerate(data['AccountHeads']):\n",
    "#     cell = table.cell(row_index + 1, 0)\n",
    "#     cell.text = account_head\n",
    "\n",
    "#     # Populate cells with corresponding data values\n",
    "#     for col_index, header in enumerate(headers):\n",
    "#         cell = table.cell(row_index + 1, col_index)\n",
    "#         cell.text = str(data[header][row_index])\n",
    "\n",
    "# # Save the presentation to a file\n",
    "# prs.save('key_stats.pptx')\n",
    "\n",
    "# print(\"Presentation created successfully!\")\n"
   ]
  },
  {
   "cell_type": "markdown",
   "id": "30de2316",
   "metadata": {},
   "source": [
    "# Updating KPI's on existing ppt First 2"
   ]
  },
  {
   "cell_type": "markdown",
   "id": "b6b13671",
   "metadata": {},
   "source": [
    "# FOR MOM REP "
   ]
  },
  {
   "cell_type": "code",
   "execution_count": 8,
   "id": "3aaee89e",
   "metadata": {},
   "outputs": [],
   "source": [
    "import pandas as pd\n",
    "import pptx\n",
    "import os\n",
    "import requests\n",
    "import json\n",
    "# from Bio import Entrez\n",
    "import pptx.util \n",
    "import sys\n",
    "# import matplotlib.pyplot as plt\n",
    "from pptx.util import Inches"
   ]
  },
  {
   "cell_type": "code",
   "execution_count": null,
   "id": "6e0cc2e0",
   "metadata": {},
   "outputs": [],
   "source": [
    "presentation = pptx.Presentation(os.path.join(r\"C:\\Users\\Pc\\Desktop\\BLUEX WORKINGS\\AUTOMATION\",\"8. Sales Review (Company) Mar 2024.pptx\"))"
   ]
  },
  {
   "cell_type": "code",
   "execution_count": null,
   "id": "4aa00f69",
   "metadata": {},
   "outputs": [],
   "source": [
    "#The function which tells all the text boxes on the slide\n",
    "def list_text_boxes(presentation,slide_num):\n",
    "    slide = presentation.slides[slide_num - 1]\n",
    "    text_boxes = []\n",
    "    for shape in slide.shapes:\n",
    "        if shape.has_text_frame and shape.text:\n",
    "            text_boxes.append(shape.text)\n",
    "    return text_boxes"
   ]
  },
  {
   "cell_type": "code",
   "execution_count": null,
   "id": "3f417ab3",
   "metadata": {},
   "outputs": [
    {
     "data": {
      "text/plain": [
       "['Key Stats for the Month of March 2024 – \\nNormal Shipments ',\n",
       " 'Active Accounts\\n',\n",
       " 'Normal Shipments\\n',\n",
       " 'Normal Weight\\n',\n",
       " 'Weight Charges',\n",
       " 'Fuel Surcharge\\n',\n",
       " 'Cash Handling Charges\\n',\n",
       " 'Total Normal Revenue\\n',\n",
       " 'RPS\\n',\n",
       " 'RPW\\n',\n",
       " 'WS\\n',\n",
       " '2,320',\n",
       " '420,030',\n",
       " '458,720',\n",
       " '77,491,003',\n",
       " '10,014,728',\n",
       " '2,353,195',\n",
       " '89,858,926',\n",
       " '213.93',\n",
       " '195.89',\n",
       " '1.09',\n",
       " ' Feb-24 : 2,182',\n",
       " 'Diff: 138',\n",
       " ', 6%',\n",
       " 'Feb-24  : 256,193',\n",
       " 'Diff: 63,837',\n",
       " ', 18%',\n",
       " ' Feb-24  : 39930',\n",
       " 'Diff: 59,490',\n",
       " ', 15%\\n',\n",
       " ' Feb-24  : 39930WC',\n",
       " ' Diff:10,467,894fsc',\n",
       " ' Diff:10,467,894  ',\n",
       " ' , 16%tnr',\n",
       " 'wc , 16%wc',\n",
       " ' Feb-24 : 2,182 tnr',\n",
       " ' Feb-24 : 2,182fsc',\n",
       " ' Diff:10,467,894wps',\n",
       " ' , 16%fsc',\n",
       " ' Feb-24 : 2,182 ch',\n",
       " ' Diff:10,467,894ch',\n",
       " ' , 16%ch',\n",
       " ' Feb-24 : 2,182wps',\n",
       " ' Diff:10,467,894tnr   ',\n",
       " ' , 16%wps',\n",
       " ' Feb-24 : 2,182rps',\n",
       " ' Diff:10,467,894rps',\n",
       " ' , 16%rps',\n",
       " ' Feb-24 : 2,182RPW',\n",
       " ' Diff:10,467,894rpw',\n",
       " ' , 16%rpw']"
      ]
     },
     "execution_count": 64,
     "metadata": {},
     "output_type": "execute_result"
    }
   ],
   "source": [
    "list_text_boxes(presentation,3)                                                                                    "
   ]
  },
  {
   "cell_type": "code",
   "execution_count": null,
   "id": "a4b54705",
   "metadata": {},
   "outputs": [
    {
     "name": "stdout",
     "output_type": "stream",
     "text": [
      "Text Box 1: Key Stats for the Month of March 2024 – \n",
      "Normal Shipments \n",
      "Text Box 2: Active Accounts\n",
      "\n",
      "Text Box 3: Normal Shipments\n",
      "\n",
      "Text Box 4: Normal Weight\n",
      "\n",
      "Text Box 5: Weight Charges\n",
      "Text Box 6: Fuel Surcharge\n",
      "\n",
      "Text Box 7: Cash Handling Charges\n",
      "\n",
      "Text Box 8: Total Normal Revenue\n",
      "\n",
      "Text Box 9: RPS\n",
      "\n",
      "Text Box 10: RPW\n",
      "\n",
      "Text Box 11: WS\n",
      "\n",
      "Text Box 12: 2,320\n",
      "Text Box 13: 420,030\n",
      "Text Box 14: 458,720\n",
      "Text Box 15: 77,491,003\n",
      "Text Box 16: 10,014,728\n",
      "Text Box 17: 2,353,195\n",
      "Text Box 18: 89,858,926\n",
      "Text Box 19: 213.93\n",
      "Text Box 20: 195.89\n",
      "Text Box 21: 1.09\n",
      "Text Box 22:  Feb-24 : 2,182\n",
      "Text Box 23: Diff: 138\n",
      "Text Box 24: , 6%\n",
      "Text Box 25: Feb-24  : 256,193\n",
      "Text Box 26: Diff: 63,837\n",
      "Text Box 27: , 18%\n",
      "Text Box 28:  Feb-24  : 39930\n",
      "Text Box 29: Diff: 59,490\n",
      "Text Box 30: , 15%\n",
      "\n",
      "Text Box 31:  Feb-24  : 39930WC\n",
      "Text Box 32:  Diff:10,467,894fsc\n",
      "Text Box 33:  Diff:10,467,894  \n",
      "Text Box 34:  , 16%tnr\n",
      "Text Box 35: wc , 16%wc\n",
      "Text Box 36:  Feb-24 : 2,182 tnr\n",
      "Text Box 37:  Feb-24 : 2,182fsc\n",
      "Text Box 38:  Diff:10,467,894wps\n",
      "Text Box 39:  , 16%fsc\n",
      "Text Box 40:  Feb-24 : 2,182 ch\n",
      "Text Box 41:  Diff:10,467,894ch\n",
      "Text Box 42:  , 16%ch\n",
      "Text Box 43:  Feb-24 : 2,182wps\n",
      "Text Box 44:  Diff:10,467,894tnr   \n",
      "Text Box 45:  , 16%wps\n",
      "Text Box 46:  Feb-24 : 2,182rps\n",
      "Text Box 47:  Diff:10,467,894rps\n",
      "Text Box 48:  , 16%rps\n",
      "Text Box 49:  Feb-24 : 2,182RPW\n",
      "Text Box 50:  Diff:10,467,894rpw\n",
      "Text Box 51:  , 16%rpw\n"
     ]
    }
   ],
   "source": [
    "#this code helps us to iterate on all text boxes on the slide and giving id to them\n",
    "for idx,text in enumerate(list_text_boxes(presentation,3),1):\n",
    "    print(f\"Text Box {idx}: {text}\")"
   ]
  },
  {
   "cell_type": "code",
   "execution_count": null,
   "id": "74fba98e",
   "metadata": {},
   "outputs": [],
   "source": [
    "def update_text_of_textbox(presentation, slide, text_box_id, new_text):\n",
    "    slide = presentation.slides[(slide - 1)]\n",
    "    count = 0\n",
    "    for shape in slide.shapes:\n",
    "        if shape.has_text_frame and shape.text:\n",
    "            count += 1\n",
    "            if count == text_box_id:\n",
    "                text_frame = shape.text_frame\n",
    "                first_paragraph = text_frame.paragraphs[0]\n",
    "                first_run = first_paragraph.runs[0] if first_paragraph.runs else first_paragraph.add_run()\n",
    "                # Preserve formatting of the first run\n",
    "                font = first_run.font\n",
    "                font_name = font.name\n",
    "                font_size = font.size\n",
    "                font_bold = font.bold\n",
    "                font_italic = font.italic\n",
    "                font_underline = font.underline\n",
    "                font_color = font.color.rgb\n",
    "                # Clear existing text and apply new text with preserved formatting\n",
    "                text_frame.clear()  # Clears all text and formatting\n",
    "                new_run = text_frame.paragraphs[0].add_run()  # New run in first paragraph\n",
    "                new_run.text = new_text\n",
    "                # Reapply formatting\n",
    "                new_run.font.name = font_name\n",
    "                new_run.font.size = font_size\n",
    "                new_run.font.bold = font_bold\n",
    "                new_run.font.italic = font_italic\n",
    "                new_run.font.underline = font_underline\n",
    "                new_run.font.color.rgb = font_color\n",
    "                return\n",
    "\n",
    "# passing Values in updating Func\n",
    "\n",
    "\n",
    "# uniprot_id =str(val)\n",
    "# update_text_of_textbox(presentation, 3, 13, uniprot_id)"
   ]
  },
  {
   "cell_type": "code",
   "execution_count": null,
   "id": "2c35e50b",
   "metadata": {},
   "outputs": [],
   "source": [
    "ActiveAccounts = Summarize_Mom_Rep[\"Nov-23\"].iloc[0]\n",
    "ActiveAccounts = f\"{ActiveAccounts:,.2f}\"\n"
   ]
  },
  {
   "cell_type": "code",
   "execution_count": null,
   "id": "35681770",
   "metadata": {},
   "outputs": [],
   "source": [
    "NormalShipment = Summarize_Mom_Rep[\"Nov-23\"].iloc[1]\n",
    "NormalShipment = f\"{NormalShipment:,.2f}\"\n"
   ]
  },
  {
   "cell_type": "code",
   "execution_count": null,
   "id": "39cea504",
   "metadata": {},
   "outputs": [],
   "source": [
    "NormalWeight = Summarize_Mom_Rep[\"Nov-23\"].iloc[2]\n",
    "NormalWeight = f\"{NormalWeight:,.2f}\"\n"
   ]
  },
  {
   "cell_type": "code",
   "execution_count": null,
   "id": "14711081",
   "metadata": {},
   "outputs": [],
   "source": [
    "Weight_Charges = Summarize_Mom_Rep[\"Nov-23\"].iloc[3]\n",
    "Weight_Charges = f\"{Weight_Charges:,.2f}\"\n"
   ]
  },
  {
   "cell_type": "code",
   "execution_count": null,
   "id": "ff803d51",
   "metadata": {},
   "outputs": [],
   "source": [
    "fuel_Surcharge = Summarize_Mom_Rep[\"Nov-23\"].iloc[4]\n",
    "fuel_Surcharge = f\"{fuel_Surcharge:,.2f}\"\n"
   ]
  },
  {
   "cell_type": "code",
   "execution_count": null,
   "id": "3941de6d",
   "metadata": {},
   "outputs": [],
   "source": [
    "Cash_handling = Summarize_Mom_Rep[\"Nov-23\"].iloc[5]\n",
    "Cash_handling = f\"{Cash_handling:,.2f}\"\n"
   ]
  },
  {
   "cell_type": "code",
   "execution_count": null,
   "id": "3ac06365",
   "metadata": {},
   "outputs": [],
   "source": [
    "Total_normal_rev = Summarize_Mom_Rep[\"Nov-23\"].iloc[6]\n",
    "Total_normal_rev = f\"{Total_normal_rev:,.2f}\"\n"
   ]
  },
  {
   "cell_type": "code",
   "execution_count": null,
   "id": "3f22e4af",
   "metadata": {},
   "outputs": [],
   "source": [
    "RPS = Summarize_Mom_Rep[\"Nov-23\"].iloc[7]"
   ]
  },
  {
   "cell_type": "code",
   "execution_count": null,
   "id": "c8b664a0",
   "metadata": {},
   "outputs": [],
   "source": [
    "RPW = Summarize_Mom_Rep[\"Nov-23\"].iloc[8]"
   ]
  },
  {
   "cell_type": "code",
   "execution_count": null,
   "id": "03e4cca9",
   "metadata": {},
   "outputs": [],
   "source": [
    "WPS = Summarize_Mom_Rep[\"Nov-23\"].iloc[9]"
   ]
  },
  {
   "cell_type": "code",
   "execution_count": null,
   "id": "dc999d87",
   "metadata": {},
   "outputs": [],
   "source": []
  },
  {
   "cell_type": "code",
   "execution_count": null,
   "id": "424bcd20",
   "metadata": {},
   "outputs": [],
   "source": [
    "last_month_ActiveCust = \"Oct-23\" + \":\" + \" \"+ Summarize_Mom_Rep[\"Oct-23\"][0].astype(str)"
   ]
  },
  {
   "cell_type": "code",
   "execution_count": null,
   "id": "68edcbc3",
   "metadata": {},
   "outputs": [],
   "source": [
    "last_month_NormalShipment = \"Oct-23\" + \":\" + \" \" + Summarize_Mom_Rep[\"Oct-23\"][2].astype(str)"
   ]
  },
  {
   "cell_type": "code",
   "execution_count": null,
   "id": "ec43a82b",
   "metadata": {},
   "outputs": [],
   "source": [
    "last_month_NormalWeight =  \"Oct-23\" + \":\" + \" \" + Summarize_Mom_Rep[\"Oct-23\"][3].astype(str)"
   ]
  },
  {
   "cell_type": "code",
   "execution_count": null,
   "id": "1a7961b7",
   "metadata": {},
   "outputs": [],
   "source": [
    "last_month_WeightCharges = \"Oct-23\" + \":\" + \" \" + Summarize_Mom_Rep[\"Oct-23\"][8].astype(str)\n"
   ]
  },
  {
   "cell_type": "code",
   "execution_count": null,
   "id": "24cbb0f4",
   "metadata": {},
   "outputs": [],
   "source": [
    "last_month_fsc = \"Oct-23\" + \":\" + \" \" + Summarize_Mom_Rep[\"Oct-23\"][9].astype(str)"
   ]
  },
  {
   "cell_type": "code",
   "execution_count": null,
   "id": "200320b9",
   "metadata": {},
   "outputs": [],
   "source": [
    "last_month_Cash = \"Oct-23\" + \":\" + \" \" + Summarize_Mom_Rep[\"Oct-23\"][1].astype(str)"
   ]
  },
  {
   "cell_type": "code",
   "execution_count": null,
   "id": "1bb01af2",
   "metadata": {},
   "outputs": [],
   "source": [
    "last_month_Totalnormal_rev = \"Oct-23\" + \":\" + \" \" + Summarize_Mom_Rep[\"Oct-23\"][6].astype(str)"
   ]
  },
  {
   "cell_type": "code",
   "execution_count": null,
   "id": "8bd64f5c",
   "metadata": {},
   "outputs": [],
   "source": [
    "last_month_RPS = \"Oct-23\" + \":\" + \" \" + Summarize_Mom_Rep[\"Oct-23\"][4].astype(str)"
   ]
  },
  {
   "cell_type": "code",
   "execution_count": null,
   "id": "42f5073f",
   "metadata": {},
   "outputs": [],
   "source": [
    "last_month_RPW = \"Oct-23\" + \":\" + \" \" + Summarize_Mom_Rep[\"Oct-23\"][5].astype(str)"
   ]
  },
  {
   "cell_type": "code",
   "execution_count": null,
   "id": "f94b0d21",
   "metadata": {},
   "outputs": [],
   "source": [
    "last_month_WPS = \"Oct-23\" + \":\" + \" \" + Summarize_Mom_Rep[\"Oct-23\"][7].astype(str)"
   ]
  },
  {
   "cell_type": "code",
   "execution_count": null,
   "id": "7a385068",
   "metadata": {},
   "outputs": [
    {
     "data": {
      "text/plain": [
       "'Oct-23: 207.49'"
      ]
     },
     "execution_count": 87,
     "metadata": {},
     "output_type": "execute_result"
    }
   ],
   "source": [
    "last_month_RPS"
   ]
  },
  {
   "cell_type": "code",
   "execution_count": null,
   "id": "7e31279b",
   "metadata": {},
   "outputs": [],
   "source": [
    "def format_negative_value(value):\n",
    "    if isinstance(value, (int, float)):\n",
    "        if value < 0:\n",
    "            # Surround negative value with parentheses and remove the minus sign\n",
    "            return f\"({-value})\"\n",
    "        else:\n",
    "            # Return positive value unchanged\n",
    "            return value\n",
    "    else:\n",
    "        # Return non-numeric values unchanged\n",
    "        return value\n"
   ]
  },
  {
   "cell_type": "code",
   "execution_count": null,
   "id": "7bef12c4",
   "metadata": {},
   "outputs": [],
   "source": [
    "Diff_acc = round(Summarize_Mom_Rep[\"Nov-23 (Inc/Dec)\"][0])"
   ]
  },
  {
   "cell_type": "code",
   "execution_count": null,
   "id": "c0eddea9",
   "metadata": {},
   "outputs": [],
   "source": [
    "Diff_acc = format_negative_value(Diff_acc)"
   ]
  },
  {
   "cell_type": "code",
   "execution_count": null,
   "id": "a17b064a",
   "metadata": {},
   "outputs": [],
   "source": [
    "Diff_acc = \"Diff\"+ \" :\" + \" \" + Diff_acc "
   ]
  },
  {
   "cell_type": "code",
   "execution_count": null,
   "id": "365e4004",
   "metadata": {},
   "outputs": [],
   "source": []
  },
  {
   "cell_type": "code",
   "execution_count": null,
   "id": "0b78442a",
   "metadata": {},
   "outputs": [],
   "source": [
    "Diff_NormalShipment = round(Summarize_Mom_Rep[\"Nov-23 (Inc/Dec)\"][2])"
   ]
  },
  {
   "cell_type": "code",
   "execution_count": null,
   "id": "cb2e328c",
   "metadata": {},
   "outputs": [],
   "source": [
    "Diff_NormalShipment = format_negative_value(Diff_NormalShipment)"
   ]
  },
  {
   "cell_type": "code",
   "execution_count": null,
   "id": "83e88f2e",
   "metadata": {},
   "outputs": [],
   "source": [
    "Diff_NormalShipment = \"Diff\"+ \" :\" + \" \" + str(Diff_NormalShipment)"
   ]
  },
  {
   "cell_type": "code",
   "execution_count": null,
   "id": "bb634d4e",
   "metadata": {},
   "outputs": [],
   "source": []
  },
  {
   "cell_type": "code",
   "execution_count": null,
   "id": "384ff08a",
   "metadata": {},
   "outputs": [],
   "source": [
    "Diff_NormalWeight = round(Summarize_Mom_Rep[\"Nov-23 (Inc/Dec)\"][3])"
   ]
  },
  {
   "cell_type": "code",
   "execution_count": null,
   "id": "e20f2ec1",
   "metadata": {},
   "outputs": [],
   "source": [
    "Diff_NormalWeight = format_negative_value(Diff_NormalWeight)"
   ]
  },
  {
   "cell_type": "code",
   "execution_count": null,
   "id": "010e10a3",
   "metadata": {},
   "outputs": [],
   "source": [
    "Diff_NormalWeight = \"Diff\"+ \" :\" + \" \" + str(Diff_NormalWeight)"
   ]
  },
  {
   "cell_type": "code",
   "execution_count": null,
   "id": "05126cf1",
   "metadata": {},
   "outputs": [],
   "source": []
  },
  {
   "cell_type": "code",
   "execution_count": null,
   "id": "2831226f",
   "metadata": {},
   "outputs": [],
   "source": [
    "Diff_WeightCharges  = round(Summarize_Mom_Rep[\"Nov-23 (Inc/Dec)\"][8])"
   ]
  },
  {
   "cell_type": "code",
   "execution_count": null,
   "id": "555d4ab5",
   "metadata": {},
   "outputs": [],
   "source": [
    "Diff_WeightCharges = format_negative_value(Diff_WeightCharges)"
   ]
  },
  {
   "cell_type": "code",
   "execution_count": null,
   "id": "7a1a2317",
   "metadata": {},
   "outputs": [],
   "source": [
    "Diff_WeightCharges = \"Diff\"+ \" :\" + \" \" + str(Diff_WeightCharges) "
   ]
  },
  {
   "cell_type": "code",
   "execution_count": null,
   "id": "1b4b259a",
   "metadata": {},
   "outputs": [],
   "source": []
  },
  {
   "cell_type": "code",
   "execution_count": null,
   "id": "c26390d6",
   "metadata": {},
   "outputs": [],
   "source": [
    "Diff_FSC = round(Summarize_Mom_Rep[\"Nov-23 (Inc/Dec)\"][9])"
   ]
  },
  {
   "cell_type": "code",
   "execution_count": null,
   "id": "3addff75",
   "metadata": {},
   "outputs": [],
   "source": [
    "Diff_FSC = format_negative_value(Diff_FSC)"
   ]
  },
  {
   "cell_type": "code",
   "execution_count": null,
   "id": "d90e26ee",
   "metadata": {},
   "outputs": [],
   "source": [
    "Diff_FSC = \"Diff\"+ \" :\" + \" \" + str(Diff_FSC)"
   ]
  },
  {
   "cell_type": "code",
   "execution_count": null,
   "id": "db4f1859",
   "metadata": {},
   "outputs": [],
   "source": []
  },
  {
   "cell_type": "code",
   "execution_count": null,
   "id": "467091b2",
   "metadata": {},
   "outputs": [],
   "source": [
    "Diff_CashHandling = round(Summarize_Mom_Rep[\"Nov-23 (Inc/Dec)\"][1])"
   ]
  },
  {
   "cell_type": "code",
   "execution_count": null,
   "id": "70f060f0",
   "metadata": {},
   "outputs": [],
   "source": [
    "Diff_CashHandling = format_negative_value(Diff_CashHandling)"
   ]
  },
  {
   "cell_type": "code",
   "execution_count": null,
   "id": "e2795c27",
   "metadata": {},
   "outputs": [],
   "source": [
    "Diff_CashHandling = \"Diff\"+ \" :\" + \" \" + str(Diff_CashHandling)"
   ]
  },
  {
   "cell_type": "code",
   "execution_count": null,
   "id": "a79974c3",
   "metadata": {},
   "outputs": [],
   "source": []
  },
  {
   "cell_type": "code",
   "execution_count": null,
   "id": "e3607268",
   "metadata": {},
   "outputs": [],
   "source": [
    "Diff_TotalRev = round(Summarize_Mom_Rep[\"Nov-23 (Inc/Dec)\"][6])"
   ]
  },
  {
   "cell_type": "code",
   "execution_count": null,
   "id": "8240422f",
   "metadata": {},
   "outputs": [],
   "source": [
    "Diff_TotalRev = format_negative_value(Diff_TotalRev)"
   ]
  },
  {
   "cell_type": "code",
   "execution_count": null,
   "id": "4f5616ac",
   "metadata": {},
   "outputs": [],
   "source": [
    "Diff_TotalRev = \"Diff\"+ \" :\" + \" \" + str(Diff_TotalRev)"
   ]
  },
  {
   "cell_type": "code",
   "execution_count": null,
   "id": "b5fc5d31",
   "metadata": {},
   "outputs": [],
   "source": []
  },
  {
   "cell_type": "code",
   "execution_count": null,
   "id": "e1a43abe",
   "metadata": {},
   "outputs": [],
   "source": [
    "Diff_RPS = round(Summarize_Mom_Rep[\"Nov-23 (Inc/Dec)\"][4],2)"
   ]
  },
  {
   "cell_type": "code",
   "execution_count": null,
   "id": "3d74898c",
   "metadata": {},
   "outputs": [],
   "source": [
    "Diff_RPS = format_negative_value(Diff_RPS)"
   ]
  },
  {
   "cell_type": "code",
   "execution_count": null,
   "id": "d4c1e0f7",
   "metadata": {},
   "outputs": [],
   "source": [
    "Diff_RPS = \"Diff\"+ \" :\" + \" \" + str(Diff_RPS)"
   ]
  },
  {
   "cell_type": "code",
   "execution_count": null,
   "id": "5cc5c60c",
   "metadata": {},
   "outputs": [
    {
     "data": {
      "text/plain": [
       "'Diff : 1.95'"
      ]
     },
     "execution_count": 113,
     "metadata": {},
     "output_type": "execute_result"
    }
   ],
   "source": [
    "Diff_RPS"
   ]
  },
  {
   "cell_type": "code",
   "execution_count": null,
   "id": "1387e1d3",
   "metadata": {},
   "outputs": [],
   "source": [
    "Diff_RPW = round(Summarize_Mom_Rep[\"Nov-23 (Inc/Dec)\"][5],2)"
   ]
  },
  {
   "cell_type": "code",
   "execution_count": null,
   "id": "23ff13c8",
   "metadata": {},
   "outputs": [],
   "source": [
    "Diff_RPW = format_negative_value(Diff_RPW)"
   ]
  },
  {
   "cell_type": "code",
   "execution_count": null,
   "id": "9eb0722a",
   "metadata": {},
   "outputs": [],
   "source": [
    "Diff_RPW = \"Diff\"+ \" :\" + \" \" + Diff_RPW"
   ]
  },
  {
   "cell_type": "code",
   "execution_count": null,
   "id": "6bb21a43",
   "metadata": {},
   "outputs": [
    {
     "data": {
      "text/plain": [
       "'Diff : (0.71)'"
      ]
     },
     "execution_count": 117,
     "metadata": {},
     "output_type": "execute_result"
    }
   ],
   "source": [
    "Diff_RPW"
   ]
  },
  {
   "cell_type": "code",
   "execution_count": null,
   "id": "cfeb5807",
   "metadata": {},
   "outputs": [],
   "source": [
    "Diff_WPS = round(Summarize_Mom_Rep[\"Nov-23 (Inc/Dec)\"][7],2)"
   ]
  },
  {
   "cell_type": "code",
   "execution_count": null,
   "id": "b453b2df",
   "metadata": {},
   "outputs": [],
   "source": [
    "Diff_WPS = format_negative_value(Diff_WPS)"
   ]
  },
  {
   "cell_type": "code",
   "execution_count": null,
   "id": "c3f96ba4",
   "metadata": {},
   "outputs": [],
   "source": [
    "Diff_WPS = \"Diff\"+ \" :\" + \" \" + Diff_WPS.astype(str)"
   ]
  },
  {
   "cell_type": "code",
   "execution_count": null,
   "id": "4bcbb1c6",
   "metadata": {},
   "outputs": [],
   "source": []
  },
  {
   "cell_type": "code",
   "execution_count": null,
   "id": "a521212a",
   "metadata": {},
   "outputs": [],
   "source": [
    "per_chng_Acc = round(Summarize_Mom_Rep[\"Nov-23 (%_chng)\"][0],5)"
   ]
  },
  {
   "cell_type": "code",
   "execution_count": null,
   "id": "9c8ab14c",
   "metadata": {},
   "outputs": [],
   "source": [
    "per_chng_Acc = format_negative_value(per_chng_Acc)"
   ]
  },
  {
   "cell_type": "code",
   "execution_count": null,
   "id": "b97fa40d",
   "metadata": {},
   "outputs": [],
   "source": [
    "per_chng_Acc = \",\"+ \" \" + per_chng_Acc+\"%\""
   ]
  },
  {
   "cell_type": "code",
   "execution_count": null,
   "id": "70b808b0",
   "metadata": {},
   "outputs": [],
   "source": []
  },
  {
   "cell_type": "code",
   "execution_count": null,
   "id": "9244080a",
   "metadata": {},
   "outputs": [],
   "source": [
    "per_chng_NormalShip =  round(Summarize_Mom_Rep[\"Nov-23 (%_chng)\"][2],5)"
   ]
  },
  {
   "cell_type": "code",
   "execution_count": null,
   "id": "7a9314b8",
   "metadata": {},
   "outputs": [],
   "source": [
    "per_chng_NormalShip = format_negative_value(per_chng_NormalShip)"
   ]
  },
  {
   "cell_type": "code",
   "execution_count": null,
   "id": "2942ad74",
   "metadata": {},
   "outputs": [],
   "source": [
    "per_chng_NormalShip = \",\"+ \" \" + per_chng_NormalShip.astype(str)+\"%\""
   ]
  },
  {
   "cell_type": "code",
   "execution_count": null,
   "id": "ae4d1aab",
   "metadata": {},
   "outputs": [],
   "source": []
  },
  {
   "cell_type": "code",
   "execution_count": null,
   "id": "a95a556f",
   "metadata": {},
   "outputs": [],
   "source": [
    "per_chng_NormalWeight =  round(Summarize_Mom_Rep[\"Nov-23 (%_chng)\"][3],5)"
   ]
  },
  {
   "cell_type": "code",
   "execution_count": null,
   "id": "d12784a2",
   "metadata": {},
   "outputs": [],
   "source": [
    "per_chng_NormalWeight = format_negative_value(per_chng_NormalWeight)"
   ]
  },
  {
   "cell_type": "code",
   "execution_count": null,
   "id": "e5bf6029",
   "metadata": {},
   "outputs": [],
   "source": [
    "per_chng_NormalWeight = \",\"+ \" \" + per_chng_NormalWeight.astype(str)+\"%\""
   ]
  },
  {
   "cell_type": "code",
   "execution_count": null,
   "id": "cd38188a",
   "metadata": {},
   "outputs": [],
   "source": []
  },
  {
   "cell_type": "code",
   "execution_count": null,
   "id": "b7983c6e",
   "metadata": {},
   "outputs": [],
   "source": [
    "per_chng_WeightCharges = round(Summarize_Mom_Rep[\"Nov-23 (%_chng)\"][8],5)"
   ]
  },
  {
   "cell_type": "code",
   "execution_count": null,
   "id": "4bc1c03c",
   "metadata": {},
   "outputs": [],
   "source": [
    "per_chng_WeightCharges = format_negative_value(per_chng_WeightCharges)"
   ]
  },
  {
   "cell_type": "code",
   "execution_count": null,
   "id": "93696b47",
   "metadata": {},
   "outputs": [],
   "source": [
    "per_chng_WeightCharges = \",\"+ \" \" + per_chng_WeightCharges.astype(str)+\"%\""
   ]
  },
  {
   "cell_type": "code",
   "execution_count": null,
   "id": "56b39941",
   "metadata": {},
   "outputs": [],
   "source": []
  },
  {
   "cell_type": "code",
   "execution_count": null,
   "id": "3d07e3e2",
   "metadata": {},
   "outputs": [],
   "source": [
    "per_chng_FSC = round(Summarize_Mom_Rep[\"Nov-23 (%_chng)\"][9],5)"
   ]
  },
  {
   "cell_type": "code",
   "execution_count": null,
   "id": "7f643cce",
   "metadata": {},
   "outputs": [],
   "source": [
    "per_chng_FSC = format_negative_value(per_chng_FSC)"
   ]
  },
  {
   "cell_type": "code",
   "execution_count": null,
   "id": "f1d1fa83",
   "metadata": {},
   "outputs": [],
   "source": [
    "per_chng_FSC = \",\"+ \" \" + per_chng_FSC.astype(str)+\"%\""
   ]
  },
  {
   "cell_type": "code",
   "execution_count": null,
   "id": "9fbbc658",
   "metadata": {},
   "outputs": [],
   "source": []
  },
  {
   "cell_type": "code",
   "execution_count": null,
   "id": "8abe8f89",
   "metadata": {},
   "outputs": [],
   "source": [
    "per_chng_Cash = round(Summarize_Mom_Rep[\"Nov-23 (%_chng)\"][1],5)"
   ]
  },
  {
   "cell_type": "code",
   "execution_count": null,
   "id": "c4cfb404",
   "metadata": {},
   "outputs": [],
   "source": [
    "per_chng_Cash = format_negative_value(per_chng_Cash)"
   ]
  },
  {
   "cell_type": "code",
   "execution_count": null,
   "id": "cd00e2c0",
   "metadata": {},
   "outputs": [],
   "source": [
    "per_chng_Cash = \",\"+ \" \" + per_chng_Cash.astype(str)+\"%\""
   ]
  },
  {
   "cell_type": "code",
   "execution_count": null,
   "id": "85ee4c0a",
   "metadata": {},
   "outputs": [],
   "source": []
  },
  {
   "cell_type": "code",
   "execution_count": null,
   "id": "f93423ce",
   "metadata": {},
   "outputs": [],
   "source": [
    "per_chng_TotalRev = round(Summarize_Mom_Rep[\"Nov-23 (%_chng)\"][6],5)"
   ]
  },
  {
   "cell_type": "code",
   "execution_count": null,
   "id": "9b7b304c",
   "metadata": {},
   "outputs": [],
   "source": [
    "per_chng_TotalRev = format_negative_value(per_chng_TotalRev)"
   ]
  },
  {
   "cell_type": "code",
   "execution_count": null,
   "id": "128fb564",
   "metadata": {},
   "outputs": [],
   "source": [
    "per_chng_TotalRev = \",\"+ \" \" + per_chng_TotalRev.astype(str)+\"%\""
   ]
  },
  {
   "cell_type": "code",
   "execution_count": null,
   "id": "f2822190",
   "metadata": {},
   "outputs": [],
   "source": []
  },
  {
   "cell_type": "code",
   "execution_count": null,
   "id": "56535276",
   "metadata": {},
   "outputs": [],
   "source": [
    "per_chng_RPS = round(Summarize_Mom_Rep[\"Nov-23 (%_chng)\"][4],5)"
   ]
  },
  {
   "cell_type": "code",
   "execution_count": null,
   "id": "8255071c",
   "metadata": {},
   "outputs": [],
   "source": [
    "per_chng_RPS = format_negative_value(per_chng_RPS)"
   ]
  },
  {
   "cell_type": "code",
   "execution_count": null,
   "id": "5aa2f5b7",
   "metadata": {},
   "outputs": [],
   "source": [
    "per_chng_RPS = \",\"+ \" \" + per_chng_RPS.astype(str)+\"%\""
   ]
  },
  {
   "cell_type": "code",
   "execution_count": null,
   "id": "aedf3523",
   "metadata": {},
   "outputs": [],
   "source": []
  },
  {
   "cell_type": "code",
   "execution_count": null,
   "id": "6ee33b3f",
   "metadata": {},
   "outputs": [],
   "source": [
    "per_chng_RPW = round(Summarize_Mom_Rep[\"Nov-23 (%_chng)\"][5],5)"
   ]
  },
  {
   "cell_type": "code",
   "execution_count": null,
   "id": "4edd59dc",
   "metadata": {},
   "outputs": [],
   "source": [
    "per_chng_RPW = format_negative_value(per_chng_RPW)"
   ]
  },
  {
   "cell_type": "code",
   "execution_count": null,
   "id": "07155731",
   "metadata": {},
   "outputs": [],
   "source": [
    "per_chng_RPW = \",\"+ \" \" + per_chng_RPW+\"%\""
   ]
  },
  {
   "cell_type": "code",
   "execution_count": null,
   "id": "61bc6e57",
   "metadata": {},
   "outputs": [],
   "source": []
  },
  {
   "cell_type": "code",
   "execution_count": null,
   "id": "89be8727",
   "metadata": {},
   "outputs": [],
   "source": [
    "per_chng_WPS = round(Summarize_Mom_Rep[\"Nov-23 (%_chng)\"][7],5)"
   ]
  },
  {
   "cell_type": "code",
   "execution_count": null,
   "id": "bde58cba",
   "metadata": {},
   "outputs": [],
   "source": [
    "per_chng_WPS = format_negative_value(per_chng_WPS)"
   ]
  },
  {
   "cell_type": "code",
   "execution_count": null,
   "id": "01a1701d",
   "metadata": {},
   "outputs": [],
   "source": [
    "per_chng_WPS = \",\"+ \" \" + per_chng_WPS.astype(str)+\"%\""
   ]
  },
  {
   "cell_type": "code",
   "execution_count": null,
   "id": "772edc29",
   "metadata": {},
   "outputs": [],
   "source": []
  },
  {
   "cell_type": "code",
   "execution_count": null,
   "id": "1a6476b7",
   "metadata": {},
   "outputs": [],
   "source": [
    "# updating_heads = [ActiveAccounts,NormalShipment,NormalWeight,Weight_Charges,fuel_Surcharge,Cash_handling,Total_normal_rev,RPS,RPW,WPS,last_month_ActiveCust,Diff_acc,per_chng_Acc,\n",
    "#                   last_month_NormalShipment,Diff_NormalShipment,per_chng_NormalShip,\n",
    "#                   last_month_NormalWeight,Diff_NormalWeight,per_chng_NormalWeight,\n",
    "#                   last_month_WeightCharges,Diff_WeightCharges,Diff_FSC,per_chng_WeightCharges,per_chng_FSC,\n",
    "#                   last_month_fsc,\n",
    "#                   last_month_Cash,last_month_Totalnormal_rev,Diff_CashHandling,per_chng_Cash,\n",
    "#                   Diff_TotalRev,per_chng_TotalRev,\n",
    "#                   last_month_RPS,Diff_RPS,per_chng_RPS,\n",
    "#                   last_month_RPW,Diff_RPW,per_chng_RPW,\n",
    "#                   last_month_WPS,Diff_WPS,per_chng_WPS]"
   ]
  },
  {
   "cell_type": "code",
   "execution_count": null,
   "id": "f7a8bd6a",
   "metadata": {},
   "outputs": [],
   "source": [
    "updating_heads = [ActiveAccounts,NormalShipment,NormalWeight,Weight_Charges,fuel_Surcharge,Cash_handling,Total_normal_rev,RPS,RPW,WPS,last_month_ActiveCust,Diff_acc,per_chng_Acc,\n",
    "                  last_month_NormalShipment,Diff_NormalShipment,per_chng_NormalShip,\n",
    "                  last_month_NormalWeight,Diff_NormalWeight,per_chng_NormalWeight,\n",
    "                  last_month_WeightCharges,Diff_FSC,Diff_WeightCharges,per_chng_TotalRev,per_chng_WeightCharges,\n",
    "                  last_month_Totalnormal_rev,last_month_fsc,Diff_WPS,per_chng_FSC,last_month_Cash,Diff_CashHandling,per_chng_Cash,\n",
    "                 last_month_WPS,Diff_TotalRev,per_chng_WPS,last_month_RPS,Diff_RPS,per_chng_RPS,last_month_RPW,Diff_RPW,per_chng_WPS]"
   ]
  },
  {
   "cell_type": "code",
   "execution_count": null,
   "id": "981e6c6b",
   "metadata": {},
   "outputs": [
    {
     "data": {
      "text/html": [
       "<div>\n",
       "<style scoped>\n",
       "    .dataframe tbody tr th:only-of-type {\n",
       "        vertical-align: middle;\n",
       "    }\n",
       "\n",
       "    .dataframe tbody tr th {\n",
       "        vertical-align: top;\n",
       "    }\n",
       "\n",
       "    .dataframe thead th {\n",
       "        text-align: right;\n",
       "    }\n",
       "</style>\n",
       "<table border=\"1\" class=\"dataframe\">\n",
       "  <thead>\n",
       "    <tr style=\"text-align: right;\">\n",
       "      <th>month</th>\n",
       "      <th>AccountHeads</th>\n",
       "      <th>Jun-23</th>\n",
       "      <th>Jul-23</th>\n",
       "      <th>Aug-23</th>\n",
       "      <th>Sep-23</th>\n",
       "      <th>Oct-23</th>\n",
       "      <th>Nov-23</th>\n",
       "      <th>Jul-23 (Inc/Dec)</th>\n",
       "      <th>Aug-23 (Inc/Dec)</th>\n",
       "      <th>Sep-23 (Inc/Dec)</th>\n",
       "      <th>Oct-23 (Inc/Dec)</th>\n",
       "      <th>Nov-23 (Inc/Dec)</th>\n",
       "      <th>Jul-23 (%_chng)</th>\n",
       "      <th>Aug-23 (%_chng)</th>\n",
       "      <th>Sep-23 (%_chng)</th>\n",
       "      <th>Oct-23 (%_chng)</th>\n",
       "      <th>Nov-23 (%_chng)</th>\n",
       "    </tr>\n",
       "  </thead>\n",
       "  <tbody>\n",
       "    <tr>\n",
       "      <th>0</th>\n",
       "      <td>Active_Accounts</td>\n",
       "      <td>2012.00</td>\n",
       "      <td>1860.00</td>\n",
       "      <td>2097.00</td>\n",
       "      <td>2142.00</td>\n",
       "      <td>2108.00</td>\n",
       "      <td>2099.00</td>\n",
       "      <td>-152.00</td>\n",
       "      <td>237.00</td>\n",
       "      <td>45.00</td>\n",
       "      <td>-34.00</td>\n",
       "      <td>-9.00</td>\n",
       "      <td>-0.075547</td>\n",
       "      <td>0.127419</td>\n",
       "      <td>0.021459</td>\n",
       "      <td>-0.015873</td>\n",
       "      <td>-0.004269</td>\n",
       "    </tr>\n",
       "    <tr>\n",
       "      <th>2</th>\n",
       "      <td>Normal_Shipments</td>\n",
       "      <td>292127.00</td>\n",
       "      <td>297911.00</td>\n",
       "      <td>373097.00</td>\n",
       "      <td>351551.00</td>\n",
       "      <td>345749.00</td>\n",
       "      <td>375299.00</td>\n",
       "      <td>5784.00</td>\n",
       "      <td>75186.00</td>\n",
       "      <td>-21546.00</td>\n",
       "      <td>-5802.00</td>\n",
       "      <td>29550.00</td>\n",
       "      <td>0.019800</td>\n",
       "      <td>0.252377</td>\n",
       "      <td>-0.057749</td>\n",
       "      <td>-0.016504</td>\n",
       "      <td>0.085467</td>\n",
       "    </tr>\n",
       "    <tr>\n",
       "      <th>3</th>\n",
       "      <td>Normal_Weight</td>\n",
       "      <td>314794.25</td>\n",
       "      <td>311389.73</td>\n",
       "      <td>389458.31</td>\n",
       "      <td>378162.21</td>\n",
       "      <td>383728.43</td>\n",
       "      <td>422056.13</td>\n",
       "      <td>-3404.52</td>\n",
       "      <td>78068.58</td>\n",
       "      <td>-11296.10</td>\n",
       "      <td>5566.22</td>\n",
       "      <td>38327.70</td>\n",
       "      <td>-0.010815</td>\n",
       "      <td>0.250710</td>\n",
       "      <td>-0.029005</td>\n",
       "      <td>0.014719</td>\n",
       "      <td>0.099882</td>\n",
       "    </tr>\n",
       "    <tr>\n",
       "      <th>8</th>\n",
       "      <td>Weight_Charges</td>\n",
       "      <td>50445727.24</td>\n",
       "      <td>50977537.44</td>\n",
       "      <td>63649440.85</td>\n",
       "      <td>60704189.21</td>\n",
       "      <td>60562011.68</td>\n",
       "      <td>67056960.47</td>\n",
       "      <td>531810.20</td>\n",
       "      <td>12671903.41</td>\n",
       "      <td>-2945251.64</td>\n",
       "      <td>-142177.53</td>\n",
       "      <td>6494948.79</td>\n",
       "      <td>0.010542</td>\n",
       "      <td>0.248578</td>\n",
       "      <td>-0.046273</td>\n",
       "      <td>-0.002342</td>\n",
       "      <td>0.107245</td>\n",
       "    </tr>\n",
       "    <tr>\n",
       "      <th>9</th>\n",
       "      <td>fuel_Surcharge</td>\n",
       "      <td>4160564.20</td>\n",
       "      <td>4256268.88</td>\n",
       "      <td>5286748.04</td>\n",
       "      <td>8059524.79</td>\n",
       "      <td>9035914.20</td>\n",
       "      <td>9122673.09</td>\n",
       "      <td>95704.68</td>\n",
       "      <td>1030479.16</td>\n",
       "      <td>2772776.75</td>\n",
       "      <td>976389.41</td>\n",
       "      <td>86758.89</td>\n",
       "      <td>0.023003</td>\n",
       "      <td>0.242109</td>\n",
       "      <td>0.524477</td>\n",
       "      <td>0.121147</td>\n",
       "      <td>0.009602</td>\n",
       "    </tr>\n",
       "    <tr>\n",
       "      <th>1</th>\n",
       "      <td>Cash_handling</td>\n",
       "      <td>2024171.74</td>\n",
       "      <td>2199401.21</td>\n",
       "      <td>2746505.28</td>\n",
       "      <td>2394469.03</td>\n",
       "      <td>2140751.97</td>\n",
       "      <td>2423027.73</td>\n",
       "      <td>175229.47</td>\n",
       "      <td>547104.07</td>\n",
       "      <td>-352036.25</td>\n",
       "      <td>-253717.06</td>\n",
       "      <td>282275.76</td>\n",
       "      <td>0.086568</td>\n",
       "      <td>0.248751</td>\n",
       "      <td>-0.128176</td>\n",
       "      <td>-0.105960</td>\n",
       "      <td>0.131858</td>\n",
       "    </tr>\n",
       "    <tr>\n",
       "      <th>6</th>\n",
       "      <td>Total_normal_rev</td>\n",
       "      <td>56630463.18</td>\n",
       "      <td>57433207.45</td>\n",
       "      <td>71682694.06</td>\n",
       "      <td>71158182.98</td>\n",
       "      <td>71738677.81</td>\n",
       "      <td>78602661.22</td>\n",
       "      <td>802744.27</td>\n",
       "      <td>14249486.61</td>\n",
       "      <td>-524511.08</td>\n",
       "      <td>580494.83</td>\n",
       "      <td>6863983.41</td>\n",
       "      <td>0.014175</td>\n",
       "      <td>0.248105</td>\n",
       "      <td>-0.007317</td>\n",
       "      <td>0.008158</td>\n",
       "      <td>0.095680</td>\n",
       "    </tr>\n",
       "    <tr>\n",
       "      <th>4</th>\n",
       "      <td>RPS</td>\n",
       "      <td>193.86</td>\n",
       "      <td>192.79</td>\n",
       "      <td>192.13</td>\n",
       "      <td>202.41</td>\n",
       "      <td>207.49</td>\n",
       "      <td>209.44</td>\n",
       "      <td>-1.07</td>\n",
       "      <td>-0.66</td>\n",
       "      <td>10.28</td>\n",
       "      <td>5.08</td>\n",
       "      <td>1.95</td>\n",
       "      <td>-0.005519</td>\n",
       "      <td>-0.003423</td>\n",
       "      <td>0.053505</td>\n",
       "      <td>0.025098</td>\n",
       "      <td>0.009398</td>\n",
       "    </tr>\n",
       "    <tr>\n",
       "      <th>5</th>\n",
       "      <td>RPW</td>\n",
       "      <td>179.90</td>\n",
       "      <td>184.44</td>\n",
       "      <td>184.06</td>\n",
       "      <td>188.17</td>\n",
       "      <td>186.95</td>\n",
       "      <td>186.24</td>\n",
       "      <td>4.54</td>\n",
       "      <td>-0.38</td>\n",
       "      <td>4.11</td>\n",
       "      <td>-1.22</td>\n",
       "      <td>-0.71</td>\n",
       "      <td>0.025236</td>\n",
       "      <td>-0.002060</td>\n",
       "      <td>0.022330</td>\n",
       "      <td>-0.006483</td>\n",
       "      <td>-0.003798</td>\n",
       "    </tr>\n",
       "    <tr>\n",
       "      <th>7</th>\n",
       "      <td>WPS</td>\n",
       "      <td>1.08</td>\n",
       "      <td>1.05</td>\n",
       "      <td>1.04</td>\n",
       "      <td>1.08</td>\n",
       "      <td>1.11</td>\n",
       "      <td>1.12</td>\n",
       "      <td>-0.03</td>\n",
       "      <td>-0.01</td>\n",
       "      <td>0.04</td>\n",
       "      <td>0.03</td>\n",
       "      <td>0.01</td>\n",
       "      <td>-0.027778</td>\n",
       "      <td>-0.009524</td>\n",
       "      <td>0.038462</td>\n",
       "      <td>0.027778</td>\n",
       "      <td>0.009009</td>\n",
       "    </tr>\n",
       "  </tbody>\n",
       "</table>\n",
       "</div>"
      ],
      "text/plain": [
       "month      AccountHeads       Jun-23       Jul-23       Aug-23       Sep-23  \\\n",
       "0       Active_Accounts      2012.00      1860.00      2097.00      2142.00   \n",
       "2      Normal_Shipments    292127.00    297911.00    373097.00    351551.00   \n",
       "3         Normal_Weight    314794.25    311389.73    389458.31    378162.21   \n",
       "8        Weight_Charges  50445727.24  50977537.44  63649440.85  60704189.21   \n",
       "9        fuel_Surcharge   4160564.20   4256268.88   5286748.04   8059524.79   \n",
       "1         Cash_handling   2024171.74   2199401.21   2746505.28   2394469.03   \n",
       "6      Total_normal_rev  56630463.18  57433207.45  71682694.06  71158182.98   \n",
       "4                   RPS       193.86       192.79       192.13       202.41   \n",
       "5                   RPW       179.90       184.44       184.06       188.17   \n",
       "7                   WPS         1.08         1.05         1.04         1.08   \n",
       "\n",
       "month       Oct-23       Nov-23  Jul-23 (Inc/Dec)  Aug-23 (Inc/Dec)  \\\n",
       "0          2108.00      2099.00           -152.00            237.00   \n",
       "2        345749.00    375299.00           5784.00          75186.00   \n",
       "3        383728.43    422056.13          -3404.52          78068.58   \n",
       "8      60562011.68  67056960.47         531810.20       12671903.41   \n",
       "9       9035914.20   9122673.09          95704.68        1030479.16   \n",
       "1       2140751.97   2423027.73         175229.47         547104.07   \n",
       "6      71738677.81  78602661.22         802744.27       14249486.61   \n",
       "4           207.49       209.44             -1.07             -0.66   \n",
       "5           186.95       186.24              4.54             -0.38   \n",
       "7             1.11         1.12             -0.03             -0.01   \n",
       "\n",
       "month  Sep-23 (Inc/Dec)  Oct-23 (Inc/Dec)  Nov-23 (Inc/Dec)  Jul-23 (%_chng)  \\\n",
       "0                 45.00            -34.00             -9.00        -0.075547   \n",
       "2             -21546.00          -5802.00          29550.00         0.019800   \n",
       "3             -11296.10           5566.22          38327.70        -0.010815   \n",
       "8           -2945251.64        -142177.53        6494948.79         0.010542   \n",
       "9            2772776.75         976389.41          86758.89         0.023003   \n",
       "1            -352036.25        -253717.06         282275.76         0.086568   \n",
       "6            -524511.08         580494.83        6863983.41         0.014175   \n",
       "4                 10.28              5.08              1.95        -0.005519   \n",
       "5                  4.11             -1.22             -0.71         0.025236   \n",
       "7                  0.04              0.03              0.01        -0.027778   \n",
       "\n",
       "month  Aug-23 (%_chng)  Sep-23 (%_chng)  Oct-23 (%_chng)  Nov-23 (%_chng)  \n",
       "0             0.127419         0.021459        -0.015873        -0.004269  \n",
       "2             0.252377        -0.057749        -0.016504         0.085467  \n",
       "3             0.250710        -0.029005         0.014719         0.099882  \n",
       "8             0.248578        -0.046273        -0.002342         0.107245  \n",
       "9             0.242109         0.524477         0.121147         0.009602  \n",
       "1             0.248751        -0.128176        -0.105960         0.131858  \n",
       "6             0.248105        -0.007317         0.008158         0.095680  \n",
       "4            -0.003423         0.053505         0.025098         0.009398  \n",
       "5            -0.002060         0.022330        -0.006483        -0.003798  \n",
       "7            -0.009524         0.038462         0.027778         0.009009  "
      ]
     },
     "execution_count": 153,
     "metadata": {},
     "output_type": "execute_result"
    }
   ],
   "source": [
    "Summarize_Mom_Rep"
   ]
  },
  {
   "cell_type": "code",
   "execution_count": null,
   "id": "409b6e7d",
   "metadata": {},
   "outputs": [
    {
     "data": {
      "text/plain": [
       "40"
      ]
     },
     "execution_count": 154,
     "metadata": {},
     "output_type": "execute_result"
    }
   ],
   "source": [
    "len(updating_heads)"
   ]
  },
  {
   "cell_type": "code",
   "execution_count": null,
   "id": "eb844906",
   "metadata": {},
   "outputs": [],
   "source": [
    "for i in range(12, 52):\n",
    "    if i - 12 < len(updating_heads):  # Ensure we don't access out-of-range index\n",
    "        uniprot_id = str((updating_heads[i - 12]))  # Get corresponding uniprot_id\n",
    "        update_text_of_textbox(presentation, 3, i, uniprot_id)\n",
    "    else:\n",
    "        # Handle the case where updating_heads doesn't have enough elements\n",
    "        # You might want to log this as an error or handle it appropriately\n",
    "        print(f\"Not enough elements in updating_heads to update row {i}\")\n"
   ]
  },
  {
   "cell_type": "code",
   "execution_count": null,
   "id": "321707fe",
   "metadata": {},
   "outputs": [],
   "source": []
  },
  {
   "cell_type": "markdown",
   "id": "b4abcfe6",
   "metadata": {},
   "source": [
    "## FOR RET REP "
   ]
  },
  {
   "cell_type": "code",
   "execution_count": null,
   "id": "e10f214a",
   "metadata": {},
   "outputs": [],
   "source": [
    "cols = ['Jun-23', 'Jul-23', 'Aug-23', 'Sep-23', 'Oct-23',\n",
    "       'Nov-23']"
   ]
  },
  {
   "cell_type": "code",
   "execution_count": null,
   "id": "1a7fa6c6",
   "metadata": {},
   "outputs": [],
   "source": [
    "for i in cols:\n",
    "    # Convert the value to string and append \"%\"\n",
    "    Summarize_Ret_df.loc[4, i] = str(Summarize_Ret_df.loc[4, i]) + \"%\""
   ]
  },
  {
   "cell_type": "code",
   "execution_count": null,
   "id": "af36b48b",
   "metadata": {},
   "outputs": [],
   "source": [
    "for i in cols:\n",
    "    # Convert the value to string and append \"%\"\n",
    "    Summarize_Ret_df.loc[5, i] = str(Summarize_Ret_df.loc[5, i]) + \"%\""
   ]
  },
  {
   "cell_type": "code",
   "execution_count": null,
   "id": "3350085e",
   "metadata": {},
   "outputs": [],
   "source": [
    "#The function which tells all the text boxes on the slide\n",
    "def list_text_boxes(presentation,slide_num):\n",
    "    slide = presentation.slides[slide_num - 1]\n",
    "    text_boxes = []\n",
    "    for shape in slide.shapes:\n",
    "        if shape.has_text_frame and shape.text:\n",
    "            text_boxes.append(shape.text)\n",
    "    return text_boxes"
   ]
  },
  {
   "cell_type": "code",
   "execution_count": null,
   "id": "6831d942",
   "metadata": {},
   "outputs": [
    {
     "data": {
      "text/plain": [
       "['Key Stats for the Month of March 2024 – \\nReturn Shipments ',\n",
       " 'Active Customers\\n',\n",
       " 'Return Shipments\\n',\n",
       " 'Return Weight\\n',\n",
       " 'Return \\nWeight Ratio\\n',\n",
       " 'Return Revenue\\n',\n",
       " 'RPS\\n',\n",
       " 'RPW\\n',\n",
       " 'Shipments \\nReturn Ratio\\n',\n",
       " '1,498',\n",
       " '66,474',\n",
       " '58,007',\n",
       " '12.65%',\n",
       " '810,206',\n",
       " '12.19',\n",
       " '13.97',\n",
       " '15.83%',\n",
       " 'Feb-24 : 1,399 RPW \\n',\n",
       " 'Diff: 99 RPW',\n",
       " ', 7% RR ',\n",
       " 'Feb-24 : 1,399 acc\\n ',\n",
       " 'Diff: 99 acc',\n",
       " ', 7% acc ',\n",
       " 'Feb-24 : 1,399 RS \\n',\n",
       " 'Diff: 99 RS',\n",
       " ', 7% RS ',\n",
       " ', 7% SR ',\n",
       " 'Diff: 99 SR',\n",
       " 'Feb-24 : 1,399 SR\\n',\n",
       " 'Feb-24 : 1,399  RW \\n ',\n",
       " 'Diff: 99 RW',\n",
       " ', 7% RW ',\n",
       " 'Feb-24 : 1,399  WR\\n',\n",
       " 'Diff: 99 WR',\n",
       " ', 7%  WR',\n",
       " ', 7% RPW ',\n",
       " 'Diff: 99 RR',\n",
       " 'Feb-24 : 1,399 RR \\n',\n",
       " ', 7% RPS ',\n",
       " 'Diff: 99 RPS',\n",
       " 'Feb-24 : 1,399 RPS \\n']"
      ]
     },
     "execution_count": 160,
     "metadata": {},
     "output_type": "execute_result"
    }
   ],
   "source": [
    "list_text_boxes(presentation,4)                                                                                    "
   ]
  },
  {
   "cell_type": "code",
   "execution_count": null,
   "id": "9d55a045",
   "metadata": {},
   "outputs": [
    {
     "name": "stdout",
     "output_type": "stream",
     "text": [
      "Text Box 1: Key Stats for the Month of March 2024 – \n",
      "Return Shipments \n",
      "Text Box 2: Active Customers\n",
      "\n",
      "Text Box 3: Return Shipments\n",
      "\n",
      "Text Box 4: Return Weight\n",
      "\n",
      "Text Box 5: Return \n",
      "Weight Ratio\n",
      "\n",
      "Text Box 6: Return Revenue\n",
      "\n",
      "Text Box 7: RPS\n",
      "\n",
      "Text Box 8: RPW\n",
      "\n",
      "Text Box 9: Shipments \n",
      "Return Ratio\n",
      "\n",
      "Text Box 10: 1,498\n",
      "Text Box 11: 66,474\n",
      "Text Box 12: 58,007\n",
      "Text Box 13: 12.65%\n",
      "Text Box 14: 810,206\n",
      "Text Box 15: 12.19\n",
      "Text Box 16: 13.97\n",
      "Text Box 17: 15.83%\n",
      "Text Box 18: Feb-24 : 1,399 RPW \n",
      "\n",
      "Text Box 19: Diff: 99 RPW\n",
      "Text Box 20: , 7% RR \n",
      "Text Box 21: Feb-24 : 1,399 acc\n",
      " \n",
      "Text Box 22: Diff: 99 acc\n",
      "Text Box 23: , 7% acc \n",
      "Text Box 24: Feb-24 : 1,399 RS \n",
      "\n",
      "Text Box 25: Diff: 99 RS\n",
      "Text Box 26: , 7% RS \n",
      "Text Box 27: , 7% SR \n",
      "Text Box 28: Diff: 99 SR\n",
      "Text Box 29: Feb-24 : 1,399 SR\n",
      "\n",
      "Text Box 30: Feb-24 : 1,399  RW \n",
      " \n",
      "Text Box 31: Diff: 99 RW\n",
      "Text Box 32: , 7% RW \n",
      "Text Box 33: Feb-24 : 1,399  WR\n",
      "\n",
      "Text Box 34: Diff: 99 WR\n",
      "Text Box 35: , 7%  WR\n",
      "Text Box 36: , 7% RPW \n",
      "Text Box 37: Diff: 99 RR\n",
      "Text Box 38: Feb-24 : 1,399 RR \n",
      "\n",
      "Text Box 39: , 7% RPS \n",
      "Text Box 40: Diff: 99 RPS\n",
      "Text Box 41: Feb-24 : 1,399 RPS \n",
      "\n"
     ]
    }
   ],
   "source": [
    "#this code helps us to iterate on all text boxes on the slide and giving id to them\n",
    "for idx,text in enumerate(list_text_boxes(presentation,4),1):\n",
    "    print(f\"Text Box {idx}: {text}\")"
   ]
  },
  {
   "cell_type": "code",
   "execution_count": null,
   "id": "7b5e7b48",
   "metadata": {},
   "outputs": [],
   "source": []
  },
  {
   "cell_type": "code",
   "execution_count": null,
   "id": "da8325fc",
   "metadata": {},
   "outputs": [],
   "source": []
  },
  {
   "cell_type": "code",
   "execution_count": null,
   "id": "bd238b97",
   "metadata": {},
   "outputs": [
    {
     "data": {
      "text/plain": [
       "'1,388.00'"
      ]
     },
     "execution_count": 162,
     "metadata": {},
     "output_type": "execute_result"
    }
   ],
   "source": [
    "ActiveAccounts = Summarize_Ret_df[\"Nov-23\"].iloc[0]\n",
    "ActiveAccounts = f\"{ActiveAccounts:,.2f}\"\n",
    "ActiveAccounts"
   ]
  },
  {
   "cell_type": "code",
   "execution_count": null,
   "id": "83d387df",
   "metadata": {},
   "outputs": [
    {
     "data": {
      "text/plain": [
       "'62,430.00'"
      ]
     },
     "execution_count": 163,
     "metadata": {},
     "output_type": "execute_result"
    }
   ],
   "source": [
    "Return_Shipment = Summarize_Ret_df[\"Nov-23\"].iloc[1]\n",
    "Return_Shipment = f\"{Return_Shipment:,.2f}\"\n",
    "Return_Shipment"
   ]
  },
  {
   "cell_type": "code",
   "execution_count": null,
   "id": "0f46b48a",
   "metadata": {},
   "outputs": [
    {
     "data": {
      "text/plain": [
       "'16.63%'"
      ]
     },
     "execution_count": 164,
     "metadata": {},
     "output_type": "execute_result"
    }
   ],
   "source": [
    "Shipment_Ret_ration = Summarize_Ret_df[\"Nov-23\"].iloc[2]\n",
    "Shipment_Ret_ration"
   ]
  },
  {
   "cell_type": "code",
   "execution_count": null,
   "id": "fa167f7a",
   "metadata": {},
   "outputs": [],
   "source": [
    "Return_Weight = Summarize_Ret_df[\"Nov-23\"].iloc[3]\n",
    "Return_Weight = f\"{Return_Weight:,.2f}\""
   ]
  },
  {
   "cell_type": "code",
   "execution_count": null,
   "id": "61aeb4b0",
   "metadata": {},
   "outputs": [
    {
     "data": {
      "text/plain": [
       "'58,931.62'"
      ]
     },
     "execution_count": 166,
     "metadata": {},
     "output_type": "execute_result"
    }
   ],
   "source": [
    "Return_Weight"
   ]
  },
  {
   "cell_type": "code",
   "execution_count": null,
   "id": "8b86218d",
   "metadata": {},
   "outputs": [
    {
     "data": {
      "text/plain": [
       "'13.96%'"
      ]
     },
     "execution_count": 167,
     "metadata": {},
     "output_type": "execute_result"
    }
   ],
   "source": [
    "Weight_ret_ratio = Summarize_Ret_df[\"Nov-23\"].iloc[4]\n",
    "Weight_ret_ratio"
   ]
  },
  {
   "cell_type": "code",
   "execution_count": null,
   "id": "a1990464",
   "metadata": {},
   "outputs": [
    {
     "data": {
      "text/plain": [
       "'696,400.00'"
      ]
     },
     "execution_count": 168,
     "metadata": {},
     "output_type": "execute_result"
    }
   ],
   "source": [
    "return_revenue = Summarize_Ret_df[\"Nov-23\"].iloc[5]\n",
    "return_revenue = f\"{return_revenue:,.2f}\"\n",
    "return_revenue"
   ]
  },
  {
   "cell_type": "code",
   "execution_count": null,
   "id": "713504be",
   "metadata": {},
   "outputs": [
    {
     "data": {
      "text/plain": [
       "11.15"
      ]
     },
     "execution_count": 169,
     "metadata": {},
     "output_type": "execute_result"
    }
   ],
   "source": [
    "RPS = Summarize_Ret_df[\"Nov-23\"].iloc[6]\n",
    "RPS"
   ]
  },
  {
   "cell_type": "code",
   "execution_count": null,
   "id": "94bbd25c",
   "metadata": {},
   "outputs": [
    {
     "data": {
      "text/plain": [
       "11.82"
      ]
     },
     "execution_count": 170,
     "metadata": {},
     "output_type": "execute_result"
    }
   ],
   "source": [
    "RPW = Summarize_Ret_df[\"Nov-23\"].iloc[7]\n",
    "RPW"
   ]
  },
  {
   "cell_type": "code",
   "execution_count": null,
   "id": "e94cee9a",
   "metadata": {},
   "outputs": [],
   "source": []
  },
  {
   "cell_type": "code",
   "execution_count": null,
   "id": "900a08f3",
   "metadata": {},
   "outputs": [],
   "source": [
    "last_month_Acc = \"Oct-23\" + \":\" + \" \"+ str(Summarize_Ret_df[\"Oct-23\"][6])"
   ]
  },
  {
   "cell_type": "code",
   "execution_count": null,
   "id": "9e3f4091",
   "metadata": {},
   "outputs": [],
   "source": [
    "last_month_RS =  \"Oct-23\" + \":\" + \" \"+ str(Summarize_Ret_df[\"Oct-23\"][2])"
   ]
  },
  {
   "cell_type": "code",
   "execution_count": null,
   "id": "dcad3cef",
   "metadata": {},
   "outputs": [],
   "source": [
    "last_month_SR = \"Oct-23\" + \":\" + \" \"+ (Summarize_Ret_df[\"Oct-23\"][4])"
   ]
  },
  {
   "cell_type": "code",
   "execution_count": null,
   "id": "c4916a51",
   "metadata": {},
   "outputs": [],
   "source": [
    "last_month_RW = \"Oct-23\" + \":\" + \" \"+ str(Summarize_Ret_df[\"Oct-23\"][3])"
   ]
  },
  {
   "cell_type": "code",
   "execution_count": null,
   "id": "d5a2c7b5",
   "metadata": {},
   "outputs": [],
   "source": [
    "last_month_WR = \"Oct-23\" + \":\" + \" \"+  str(Summarize_Ret_df[\"Oct-23\"][5])"
   ]
  },
  {
   "cell_type": "code",
   "execution_count": null,
   "id": "f4704b91",
   "metadata": {},
   "outputs": [],
   "source": [
    "last_month_RR = \"Oct-23\" + \":\" + \" \"+ str(Summarize_Ret_df[\"Oct-23\"][7])"
   ]
  },
  {
   "cell_type": "code",
   "execution_count": null,
   "id": "b1047424",
   "metadata": {},
   "outputs": [],
   "source": [
    "last_month_RPS = \"Oct-23\" + \":\" + \" \"+ str(Summarize_Ret_df[\"Oct-23\"][0])"
   ]
  },
  {
   "cell_type": "code",
   "execution_count": null,
   "id": "ecd3fd22",
   "metadata": {},
   "outputs": [],
   "source": [
    "last_month_RPW = \"Oct-23\" + \":\" + \" \"+  str(Summarize_Ret_df[\"Oct-23\"][1])"
   ]
  },
  {
   "cell_type": "code",
   "execution_count": null,
   "id": "4cb7c6e8",
   "metadata": {},
   "outputs": [],
   "source": []
  },
  {
   "cell_type": "code",
   "execution_count": null,
   "id": "6a6f52c6",
   "metadata": {},
   "outputs": [],
   "source": [
    "def format_negative_value(value):\n",
    "    if isinstance(value, (int, float)):\n",
    "        if value < 0:\n",
    "            # Surround negative value with parentheses and remove the minus sign\n",
    "            return f\"({-value})\"\n",
    "        else:\n",
    "            # Return positive value unchanged\n",
    "            return value\n",
    "    else:\n",
    "        # Return non-numeric values unchanged\n",
    "        return value\n"
   ]
  },
  {
   "cell_type": "code",
   "execution_count": null,
   "id": "4df00649",
   "metadata": {},
   "outputs": [],
   "source": [
    "Diff_acc = round(Summarize_Ret_df[\"Nov-23 (Inc/Dec)\"][6],2)\n",
    "Diff_acc = format_negative_value(Diff_acc)\n",
    "Diff_acc = \"Diff\"+ \" :\" + \" \" + str(Diff_acc)"
   ]
  },
  {
   "cell_type": "code",
   "execution_count": null,
   "id": "b0645f35",
   "metadata": {},
   "outputs": [],
   "source": [
    "Diff_RS = round(Summarize_Ret_df[\"Nov-23 (Inc/Dec)\"][2],2)\n",
    "Diff_RS = format_negative_value(Diff_RS)\n",
    "Diff_RS = \"Diff\"+ \" :\" + \" \" + str(Diff_RS)\n"
   ]
  },
  {
   "cell_type": "code",
   "execution_count": null,
   "id": "b5c8f3c8",
   "metadata": {},
   "outputs": [],
   "source": [
    "Diff_SR = round(Summarize_Ret_df[\"Nov-23 (Inc/Dec)\"][4],2)\n",
    "Diff_SR = format_negative_value(Diff_SR)\n",
    "Diff_SR = \"Diff\"+ \" :\" + \" \" + str(Diff_SR)"
   ]
  },
  {
   "cell_type": "code",
   "execution_count": null,
   "id": "b3d1ca44",
   "metadata": {},
   "outputs": [],
   "source": [
    "Diff_RW = round(Summarize_Ret_df[\"Nov-23 (Inc/Dec)\"][3],2)\n",
    "Diff_RW = format_negative_value(Diff_RW)\n",
    "Diff_RW = \"Diff\"+ \" :\" + \" \" + str(Diff_RW)"
   ]
  },
  {
   "cell_type": "code",
   "execution_count": null,
   "id": "dc10a4cc",
   "metadata": {},
   "outputs": [],
   "source": [
    "Diff_WR = round(Summarize_Ret_df[\"Nov-23 (Inc/Dec)\"][5],2)\n",
    "Diff_WR = format_negative_value(Diff_WR)\n",
    "Diff_WR = \"Diff\"+ \" :\" + \" \" + str(Diff_WR)"
   ]
  },
  {
   "cell_type": "code",
   "execution_count": null,
   "id": "fb830501",
   "metadata": {},
   "outputs": [],
   "source": [
    "Diff_RR = round(Summarize_Ret_df[\"Nov-23 (Inc/Dec)\"][7],2)\n",
    "Diff_RR = format_negative_value(Diff_RR)\n",
    "Diff_RR = \"Diff\"+ \" :\" + \" \" + str(Diff_RR)"
   ]
  },
  {
   "cell_type": "code",
   "execution_count": null,
   "id": "5ddb8ea6",
   "metadata": {},
   "outputs": [],
   "source": [
    "Diff_RPS = round(Summarize_Ret_df[\"Nov-23 (Inc/Dec)\"][0],2)\n",
    "Diff_RPS = format_negative_value(Diff_RPS)\n",
    "Diff_RPS = \"Diff\"+ \" :\" + \" \" + str(Diff_RPS)"
   ]
  },
  {
   "cell_type": "code",
   "execution_count": null,
   "id": "41931bb5",
   "metadata": {},
   "outputs": [],
   "source": [
    "Diff_RPW = round(Summarize_Ret_df[\"Nov-23 (Inc/Dec)\"][1],2)\n",
    "Diff_RPW = format_negative_value(Diff_RPW)\n",
    "Diff_RPW = \"Diff\"+ \" :\" + \" \" + str(Diff_RPW)"
   ]
  },
  {
   "cell_type": "code",
   "execution_count": null,
   "id": "979823cd",
   "metadata": {},
   "outputs": [],
   "source": [
    " "
   ]
  },
  {
   "cell_type": "code",
   "execution_count": null,
   "id": "73c67447",
   "metadata": {},
   "outputs": [],
   "source": [
    "per_chng_Acc = round(Summarize_Ret_df[\"Nov-23 (%_chng)\"][6],3)\n",
    "per_chng_Acc = format_negative_value(per_chng_Acc)\n",
    "per_chng_Acc =  \",\"+ \" \" + per_chng_Acc.astype(str)+\"%\""
   ]
  },
  {
   "cell_type": "code",
   "execution_count": null,
   "id": "fe6e2e4b",
   "metadata": {},
   "outputs": [],
   "source": [
    "per_chng_RS = round(Summarize_Ret_df[\"Nov-23 (%_chng)\"][2],3)\n",
    "per_chng_RS = format_negative_value(per_chng_RS)\n",
    "per_chng_RS =\",\"+ \" \" + per_chng_RS.astype(str)+\"%\""
   ]
  },
  {
   "cell_type": "code",
   "execution_count": null,
   "id": "cb14bff9",
   "metadata": {},
   "outputs": [],
   "source": [
    "per_chng_SR = round(Summarize_Ret_df[\"Nov-23 (%_chng)\"][4],3)\n",
    "per_chng_SR = format_negative_value(per_chng_SR)\n",
    "per_chng_SR = \",\"+ \" \" + per_chng_SR.astype(str)+\"%\""
   ]
  },
  {
   "cell_type": "code",
   "execution_count": null,
   "id": "e902cdf8",
   "metadata": {},
   "outputs": [],
   "source": [
    "per_chng_RW = round(Summarize_Ret_df[\"Nov-23 (%_chng)\"][3],3)\n",
    "per_chng_RW = format_negative_value(per_chng_RW)\n",
    "per_chng_RW = \",\"+ \" \" + per_chng_RW.astype(str)+\"%\""
   ]
  },
  {
   "cell_type": "code",
   "execution_count": null,
   "id": "3d1afb8c",
   "metadata": {},
   "outputs": [],
   "source": [
    "per_chng_WR = round(Summarize_Ret_df[\"Nov-23 (%_chng)\"][5],3)\n",
    "per_chng_WR = format_negative_value(per_chng_WR)\n",
    "per_chng_WR =\",\"+ \" \" + per_chng_WR.astype(str)+\"%\""
   ]
  },
  {
   "cell_type": "code",
   "execution_count": null,
   "id": "0fe81aa2",
   "metadata": {},
   "outputs": [],
   "source": [
    "per_chng_RR = round(Summarize_Ret_df[\"Nov-23 (%_chng)\"][7],3)\n",
    "per_chng_RR = format_negative_value(per_chng_RR)\n",
    "per_chng_RR = \",\"+ \" \" + per_chng_RR.astype(str)+\"%\""
   ]
  },
  {
   "cell_type": "code",
   "execution_count": null,
   "id": "6a36e547",
   "metadata": {},
   "outputs": [],
   "source": [
    "per_chng_RPS = round(Summarize_Ret_df[\"Nov-23 (%_chng)\"][0],3)\n",
    "per_chng_RPS = format_negative_value(per_chng_RPS)\n",
    "per_chng_RPS = \",\"+ \" \" + per_chng_RPS+\"%\""
   ]
  },
  {
   "cell_type": "code",
   "execution_count": null,
   "id": "97f99aa3",
   "metadata": {},
   "outputs": [],
   "source": [
    "per_chng_RPW = round(Summarize_Ret_df[\"Nov-23 (%_chng)\"][1],3)\n",
    "per_chng_RPW = format_negative_value(per_chng_RPW)\n",
    "per_chng_RPW = \",\"+ \" \" + per_chng_RPW+\"%\""
   ]
  },
  {
   "cell_type": "code",
   "execution_count": null,
   "id": "3ce8e338",
   "metadata": {},
   "outputs": [],
   "source": []
  },
  {
   "cell_type": "code",
   "execution_count": null,
   "id": "0d559e51",
   "metadata": {},
   "outputs": [],
   "source": [
    "updating_heads = [ActiveAccounts,Return_Shipment,Return_Weight,\n",
    "                  Weight_ret_ratio,return_revenue,RPS,\n",
    "                  RPW,Shipment_Ret_ration,last_month_RPW,\n",
    "                  Diff_RPW,\n",
    "                  per_chng_RR,last_month_Acc,Diff_acc,\n",
    "                  per_chng_Acc,last_month_RS,Diff_RS,\n",
    "                  per_chng_RS,per_chng_SR,Diff_SR,\n",
    "                  last_month_SR,last_month_RW,Diff_RW,\n",
    "                  per_chng_RW,last_month_WR,Diff_WR,\n",
    "                  per_chng_WR,per_chng_RPW,Diff_RR,\n",
    "                  last_month_RR,per_chng_RPS,Diff_RPS,last_month_RPS]"
   ]
  },
  {
   "cell_type": "code",
   "execution_count": null,
   "id": "1c1cdad7",
   "metadata": {},
   "outputs": [],
   "source": []
  },
  {
   "cell_type": "code",
   "execution_count": null,
   "id": "bd58ef84",
   "metadata": {},
   "outputs": [],
   "source": []
  },
  {
   "cell_type": "code",
   "execution_count": null,
   "id": "b36ec733",
   "metadata": {},
   "outputs": [],
   "source": [
    "for i in range(10, 42):\n",
    "    if i - 10 < len(updating_heads):  # Ensure we don't access out-of-range index\n",
    "        uniprot_id = str((updating_heads[i - 10]))  # Get corresponding uniprot_id\n",
    "        update_text_of_textbox(presentation, 4, i, uniprot_id)\n",
    "    else:\n",
    "        # Handle the case where updating_heads doesn't have enough elements\n",
    "        # You might want to log this as an error or handle it appropriately\n",
    "        print(f\"Not enough elements in updating_heads to update row {i}\")\n"
   ]
  },
  {
   "cell_type": "code",
   "execution_count": null,
   "id": "a70b455a",
   "metadata": {},
   "outputs": [],
   "source": [
    "\n",
    "# # Iterate over the list of variables\n",
    "# for var in updating_heads:\n",
    "#     # Get the name of the variable using locals() dictionary\n",
    "#     var_name = [name for name, value in locals().items() if value is var][0]\n",
    "\n",
    "#     # Get the value of the variable\n",
    "#     var_value = var\n",
    "\n",
    "#     # Print the variable name and its value\n",
    "#     print(f\"{var_name}: {var_value}\")\n"
   ]
  },
  {
   "cell_type": "code",
   "execution_count": null,
   "id": "3b1adc1a",
   "metadata": {},
   "outputs": [],
   "source": []
  },
  {
   "cell_type": "markdown",
   "id": "e0cbd772",
   "metadata": {},
   "source": [
    "# PPT 3"
   ]
  },
  {
   "cell_type": "markdown",
   "id": "7956a4f0",
   "metadata": {},
   "source": [
    "#### Downloading SP list"
   ]
  },
  {
   "cell_type": "code",
   "execution_count": 9,
   "id": "f04deba4",
   "metadata": {},
   "outputs": [],
   "source": [
    "sales = pd.DataFrame()\n",
    "sales.to_excel(\"SP_LIST.xlsx\")"
   ]
  },
  {
   "cell_type": "code",
   "execution_count": null,
   "id": "5ba5a920",
   "metadata": {},
   "outputs": [],
   "source": []
  },
  {
   "cell_type": "code",
   "execution_count": 10,
   "id": "2593d8c4",
   "metadata": {},
   "outputs": [],
   "source": [
    "conn = msql.connect(host=dlogin.host, user=dlogin.user, password=dlogin.password, database=dlogin.database)\n"
   ]
  },
  {
   "cell_type": "code",
   "execution_count": 11,
   "id": "4eb31885",
   "metadata": {},
   "outputs": [
    {
     "name": "stdout",
     "output_type": "stream",
     "text": [
      "Connected to Database: ('blueex',)\n",
      "SP_LIST Records fetched and written to Excel sheet: 'SP_LIST DATA'\n",
      "SP_LIST Records fetched and written to CSV: 65\n"
     ]
    }
   ],
   "source": [
    "excel_file_path =r\"C:\\Users\\Pc\\Desktop\\BLUEX WORKINGS\\AUTOMATION\\SP_LIST.xlsx\"\n",
    "\n",
    "try:\n",
    "    # Create ExcelWriter object to write to Excel file\n",
    "    with pd.ExcelWriter(excel_file_path, engine='openpyxl', mode='a') as writer:\n",
    "        with conn.cursor() as cursor:\n",
    "            # Check database connection\n",
    "            cursor.execute(\"SELECT DATABASE();\")\n",
    "            record = cursor.fetchone()\n",
    "            print(\"Connected to Database:\", record)\n",
    "\n",
    "            # Define SQL query to fetch records within the date range\n",
    "            q1 = \"SELECT DISTINCT sp_name FROM blueex.salesreport\"\n",
    "            \n",
    "            # Execute SQL query\n",
    "            cursor.execute(q1)\n",
    "\n",
    "            # Fetch all rows\n",
    "            rows = cursor.fetchall()\n",
    "\n",
    "            # Create DataFrame from fetched rows\n",
    "            df = pd.DataFrame(rows, columns=[i[0] for i in cursor.description])\n",
    "\n",
    "          \n",
    "\n",
    "            # Write filtered DataFrame to a new sheet in the Excel file\n",
    "            sheet_name = \"SP_LIST DATA\"\n",
    "            df.to_excel(writer, sheet_name=sheet_name, index=False)\n",
    "\n",
    "            print(f\"SP_LIST Records fetched and written to Excel sheet: '{sheet_name}'\")\n",
    "            print(\"SP_LIST Records fetched and written to CSV:\", len(df))\n",
    "\n",
    "\n",
    "except Error as e:\n",
    "    print(\"Error occurred while connecting to MySQL:\", e)\n",
    "    conn.rollback()  # Rollback any changes in case of error\n",
    "    sys.exit()"
   ]
  },
  {
   "cell_type": "code",
   "execution_count": 12,
   "id": "954624a9",
   "metadata": {},
   "outputs": [],
   "source": [
    "df_sp1 = df.copy()"
   ]
  },
  {
   "cell_type": "code",
   "execution_count": 13,
   "id": "baaddcf0",
   "metadata": {},
   "outputs": [],
   "source": [
    "df_sp1[\"sp_name\"] = df_sp1[\"sp_name\"].str.strip().str.upper()"
   ]
  },
  {
   "cell_type": "markdown",
   "id": "a5e29221",
   "metadata": {},
   "source": [
    "#### Downloading Sales Report "
   ]
  },
  {
   "cell_type": "code",
   "execution_count": 14,
   "id": "643d8fff",
   "metadata": {},
   "outputs": [],
   "source": [
    "excel_file_path =r\"C:\\Users\\Pc\\Desktop\\BLUEX WORKINGS\\AUTOMATION\\SP_LIST.xlsx\"\n"
   ]
  },
  {
   "cell_type": "markdown",
   "id": "55f0f0f3",
   "metadata": {},
   "source": [
    "##### Fetching sales Rep Data"
   ]
  },
  {
   "cell_type": "code",
   "execution_count": 15,
   "id": "00b135b5",
   "metadata": {},
   "outputs": [
    {
     "name": "stdout",
     "output_type": "stream",
     "text": [
      "Connected to Database: ('blueex',)\n"
     ]
    }
   ],
   "source": [
    "start_date = '2024-01-01'  # Change this to the desired start date\n",
    "end_date = '2024-03-31'    # Change this to the desired end date\n",
    "\n",
    "start_datetime = datetime.strptime(start_date, '%Y-%m-%d')\n",
    "end_datetime = datetime.strptime(end_date, '%Y-%m-%d')\n",
    "\n",
    "start_date_str = start_datetime.strftime('%Y-%m-%d')\n",
    "end_date_str = end_datetime.strftime('%Y-%m-%d')\n",
    "with conn.cursor() as cursor:\n",
    "            # Check database connection\n",
    "            cursor.execute(\"SELECT DATABASE();\")\n",
    "            record = cursor.fetchone()\n",
    "            print(\"Connected to Database:\", record)\n",
    "\n",
    "            # Define SQL query to fetch records within the date range\n",
    "            q1 = \"SELECT * from blueex.salesreport sr WHERE sr.normal_cn_date  BETWEEN %s AND %s \"\n",
    "            \n",
    "            # Execute SQL query\n",
    "            cursor.execute(q1, (start_date, end_date))\n",
    "\n",
    "            # Fetch all rows\n",
    "            rows = cursor.fetchall()\n",
    "\n",
    "            # Create DataFrame from fetched rows\n",
    "            df = pd.DataFrame(rows, columns=[i[0] for i in cursor.description])"
   ]
  },
  {
   "cell_type": "code",
   "execution_count": 16,
   "id": "66ed534b",
   "metadata": {},
   "outputs": [],
   "source": [
    "df_sp12 = df.copy()"
   ]
  },
  {
   "cell_type": "markdown",
   "id": "64afee4e",
   "metadata": {},
   "source": [
    "#### Active Account"
   ]
  },
  {
   "cell_type": "code",
   "execution_count": 17,
   "id": "83f5d86c",
   "metadata": {},
   "outputs": [],
   "source": [
    "df_sp12 = df_sp12[[\"acc_no\",\"normal_cn_date\",\"sp_name\"]]"
   ]
  },
  {
   "cell_type": "code",
   "execution_count": null,
   "id": "2e2aee5e",
   "metadata": {},
   "outputs": [],
   "source": []
  },
  {
   "cell_type": "code",
   "execution_count": 18,
   "id": "b7c66f32",
   "metadata": {},
   "outputs": [],
   "source": [
    "df_sp12[\"normal_cn_date\"] = pd.to_datetime(df_sp12[\"normal_cn_date\"])"
   ]
  },
  {
   "cell_type": "code",
   "execution_count": 19,
   "id": "27cb32f2",
   "metadata": {},
   "outputs": [],
   "source": [
    "df_sp12[\"month\"] = df_sp12['normal_cn_date'].dt.strftime('%b-%Y')\n"
   ]
  },
  {
   "cell_type": "code",
   "execution_count": 20,
   "id": "04cb7729",
   "metadata": {},
   "outputs": [
    {
     "data": {
      "text/html": [
       "<div>\n",
       "<style scoped>\n",
       "    .dataframe tbody tr th:only-of-type {\n",
       "        vertical-align: middle;\n",
       "    }\n",
       "\n",
       "    .dataframe tbody tr th {\n",
       "        vertical-align: top;\n",
       "    }\n",
       "\n",
       "    .dataframe thead th {\n",
       "        text-align: right;\n",
       "    }\n",
       "</style>\n",
       "<table border=\"1\" class=\"dataframe\">\n",
       "  <thead>\n",
       "    <tr style=\"text-align: right;\">\n",
       "      <th></th>\n",
       "      <th>acc_no</th>\n",
       "      <th>normal_cn_date</th>\n",
       "      <th>sp_name</th>\n",
       "      <th>month</th>\n",
       "    </tr>\n",
       "  </thead>\n",
       "  <tbody>\n",
       "    <tr>\n",
       "      <th>0</th>\n",
       "      <td>KHI-04152</td>\n",
       "      <td>2024-01-03</td>\n",
       "      <td>Syed Atif Hussain</td>\n",
       "      <td>Jan-2024</td>\n",
       "    </tr>\n",
       "    <tr>\n",
       "      <th>1</th>\n",
       "      <td>KHI-04152</td>\n",
       "      <td>2024-01-11</td>\n",
       "      <td>Syed Atif Hussain</td>\n",
       "      <td>Jan-2024</td>\n",
       "    </tr>\n",
       "    <tr>\n",
       "      <th>2</th>\n",
       "      <td>KHI-04152</td>\n",
       "      <td>2024-01-18</td>\n",
       "      <td>Syed Atif Hussain</td>\n",
       "      <td>Jan-2024</td>\n",
       "    </tr>\n",
       "    <tr>\n",
       "      <th>3</th>\n",
       "      <td>KHI-04152</td>\n",
       "      <td>2024-01-24</td>\n",
       "      <td>Syed Atif Hussain</td>\n",
       "      <td>Jan-2024</td>\n",
       "    </tr>\n",
       "    <tr>\n",
       "      <th>4</th>\n",
       "      <td>KHI-04152</td>\n",
       "      <td>2024-02-01</td>\n",
       "      <td>Syed Atif Hussain</td>\n",
       "      <td>Feb-2024</td>\n",
       "    </tr>\n",
       "    <tr>\n",
       "      <th>...</th>\n",
       "      <td>...</td>\n",
       "      <td>...</td>\n",
       "      <td>...</td>\n",
       "      <td>...</td>\n",
       "    </tr>\n",
       "    <tr>\n",
       "      <th>1192855</th>\n",
       "      <td>KHI-04883</td>\n",
       "      <td>2024-03-31</td>\n",
       "      <td>Syed Atif Hussain</td>\n",
       "      <td>Mar-2024</td>\n",
       "    </tr>\n",
       "    <tr>\n",
       "      <th>1192856</th>\n",
       "      <td>KHI-06512</td>\n",
       "      <td>2024-03-31</td>\n",
       "      <td>Sadia Niazi</td>\n",
       "      <td>Mar-2024</td>\n",
       "    </tr>\n",
       "    <tr>\n",
       "      <th>1192857</th>\n",
       "      <td>KHI-09247</td>\n",
       "      <td>2024-03-31</td>\n",
       "      <td>Salman Asif</td>\n",
       "      <td>Mar-2024</td>\n",
       "    </tr>\n",
       "    <tr>\n",
       "      <th>1192858</th>\n",
       "      <td>KHI-04912</td>\n",
       "      <td>2024-03-31</td>\n",
       "      <td>Zeeshan Merchant</td>\n",
       "      <td>Mar-2024</td>\n",
       "    </tr>\n",
       "    <tr>\n",
       "      <th>1192859</th>\n",
       "      <td>KHI-04912</td>\n",
       "      <td>2024-03-31</td>\n",
       "      <td>Zeeshan Merchant</td>\n",
       "      <td>Mar-2024</td>\n",
       "    </tr>\n",
       "  </tbody>\n",
       "</table>\n",
       "<p>1192860 rows × 4 columns</p>\n",
       "</div>"
      ],
      "text/plain": [
       "            acc_no normal_cn_date            sp_name     month\n",
       "0        KHI-04152     2024-01-03  Syed Atif Hussain  Jan-2024\n",
       "1        KHI-04152     2024-01-11  Syed Atif Hussain  Jan-2024\n",
       "2        KHI-04152     2024-01-18  Syed Atif Hussain  Jan-2024\n",
       "3        KHI-04152     2024-01-24  Syed Atif Hussain  Jan-2024\n",
       "4        KHI-04152     2024-02-01  Syed Atif Hussain  Feb-2024\n",
       "...            ...            ...                ...       ...\n",
       "1192855  KHI-04883     2024-03-31  Syed Atif Hussain  Mar-2024\n",
       "1192856  KHI-06512     2024-03-31        Sadia Niazi  Mar-2024\n",
       "1192857  KHI-09247     2024-03-31        Salman Asif  Mar-2024\n",
       "1192858  KHI-04912     2024-03-31   Zeeshan Merchant  Mar-2024\n",
       "1192859  KHI-04912     2024-03-31   Zeeshan Merchant  Mar-2024\n",
       "\n",
       "[1192860 rows x 4 columns]"
      ]
     },
     "execution_count": 20,
     "metadata": {},
     "output_type": "execute_result"
    }
   ],
   "source": [
    "df_sp12"
   ]
  },
  {
   "cell_type": "code",
   "execution_count": 21,
   "id": "d1466554",
   "metadata": {},
   "outputs": [],
   "source": [
    "def count_unique(series):\n",
    "    return len(pd.Series.unique(series))\n",
    "\n",
    "# Pivot the DataFrame to count unique 'acc_no' values for each 'month'\n",
    "pivot_df = pd.pivot_table(df_sp12, values='acc_no', columns='month', aggfunc=count_unique)\n"
   ]
  },
  {
   "cell_type": "code",
   "execution_count": 22,
   "id": "2faf56b8",
   "metadata": {},
   "outputs": [],
   "source": [
    "Active_acc = pivot_df.reset_index()"
   ]
  },
  {
   "cell_type": "code",
   "execution_count": 23,
   "id": "8ae26430",
   "metadata": {},
   "outputs": [],
   "source": [
    "Active_acc = Active_acc[[\"index\",\"Feb-2024\",\"Mar-2024\"]] \n"
   ]
  },
  {
   "cell_type": "markdown",
   "id": "5ba2e040",
   "metadata": {},
   "source": [
    "#### Account Active this month but no in previous month"
   ]
  },
  {
   "cell_type": "code",
   "execution_count": 24,
   "id": "905654b1",
   "metadata": {},
   "outputs": [],
   "source": [
    "Feb_accounts = df_sp12[df_sp12['month'] == 'Feb-2024']['acc_no']\n",
    "Mar_accounts = df_sp12[df_sp12['month'] == 'Mar-2024']['acc_no']\n",
    "Jan_accounts = df_sp12[df_sp12['month'] == 'Jan-2024']['acc_no']"
   ]
  },
  {
   "cell_type": "code",
   "execution_count": 25,
   "id": "be7e0d78",
   "metadata": {},
   "outputs": [],
   "source": [
    "accounts_in_March_not_in_feb = Mar_accounts[~Mar_accounts.isin(Feb_accounts)]\n",
    "Active_this_Month_not_in_Previous_Months_Mar = accounts_in_March_not_in_feb.nunique()"
   ]
  },
  {
   "cell_type": "code",
   "execution_count": 26,
   "id": "14a102c7",
   "metadata": {},
   "outputs": [],
   "source": [
    "accounts_in_Feb_not_in_jan = Feb_accounts[~Feb_accounts.isin(Jan_accounts)]\n",
    "Active_this_Month_not_in_Previous_Months_Feb = accounts_in_Feb_not_in_jan.nunique()\n"
   ]
  },
  {
   "cell_type": "code",
   "execution_count": 27,
   "id": "9c8b1379",
   "metadata": {},
   "outputs": [],
   "source": [
    "Active_Inc_Dec = Active_this_Month_not_in_Previous_Months_Mar - Active_this_Month_not_in_Previous_Months_Feb"
   ]
  },
  {
   "cell_type": "markdown",
   "id": "8c6accdb",
   "metadata": {},
   "source": [
    "#### FETCHING ACC FORM "
   ]
  },
  {
   "cell_type": "code",
   "execution_count": 28,
   "id": "f362bc5c",
   "metadata": {},
   "outputs": [
    {
     "name": "stdout",
     "output_type": "stream",
     "text": [
      "Connected to Database: ('blueex',)\n"
     ]
    }
   ],
   "source": [
    "start_date = '2024-01-01'  # Change this to the desired start date\n",
    "end_date = '2024-03-31'    # Change this to the desired end date\n",
    "\n",
    "start_datetime = datetime.strptime(start_date, '%Y-%m-%d')\n",
    "end_datetime = datetime.strptime(end_date, '%Y-%m-%d')\n",
    "\n",
    "start_date_str = start_datetime.strftime('%Y-%m-%d')\n",
    "end_date_str = end_datetime.strftime('%Y-%m-%d')\n",
    "with conn.cursor() as cursor:\n",
    "            # Check database connection\n",
    "            cursor.execute(\"SELECT DATABASE();\")\n",
    "            record = cursor.fetchone()\n",
    "            print(\"Connected to Database:\", record)\n",
    "\n",
    "            # Define SQL query to fetch records within the date range\n",
    "            q1 = \"SELECT * from blueex.salesreport sr LEFT JOIN acc_form af ON sr.acc_no = af.acc_no   WHERE sr.normal_cn_date  BETWEEN %s AND %s \"\n",
    "            \n",
    "            # Execute SQL query\n",
    "            cursor.execute(q1, (start_date, end_date))\n",
    "\n",
    "            # Fetch all rows\n",
    "            rows = cursor.fetchall()\n",
    "\n",
    "            # Create DataFrame from fetched rows\n",
    "            df = pd.DataFrame(rows, columns=[i[0] for i in cursor.description])"
   ]
  },
  {
   "cell_type": "code",
   "execution_count": 55,
   "id": "d1837226",
   "metadata": {},
   "outputs": [],
   "source": [
    "df_sp13 = df.copy()"
   ]
  },
  {
   "cell_type": "markdown",
   "id": "c717793b",
   "metadata": {},
   "source": [
    "#### NewActive"
   ]
  },
  {
   "cell_type": "code",
   "execution_count": 56,
   "id": "7eee393d",
   "metadata": {},
   "outputs": [],
   "source": [
    "df_sp13[\"normal_cn_date\"] = pd.to_datetime(df_sp13[\"normal_cn_date\"])\n",
    "df_sp13[\"month\"] = df_sp13['normal_cn_date'].dt.strftime('%b-%Y')\n"
   ]
  },
  {
   "cell_type": "code",
   "execution_count": 57,
   "id": "51d5b6d6",
   "metadata": {},
   "outputs": [],
   "source": [
    "duplicate_columns = df_sp13.columns[df_sp13.columns.duplicated()]\n"
   ]
  },
  {
   "cell_type": "code",
   "execution_count": 58,
   "id": "14ff6120",
   "metadata": {},
   "outputs": [],
   "source": [
    "df_sp13 = df_sp13.loc[:, ~df_sp13.columns.duplicated()]\n"
   ]
  },
  {
   "cell_type": "code",
   "execution_count": 59,
   "id": "5b32fd54",
   "metadata": {},
   "outputs": [
    {
     "name": "stderr",
     "output_type": "stream",
     "text": [
      "C:\\Users\\Pc\\AppData\\Local\\Temp\\ipykernel_14076\\2006034516.py:6: SettingWithCopyWarning: \n",
      "A value is trying to be set on a copy of a slice from a DataFrame.\n",
      "Try using .loc[row_indexer,col_indexer] = value instead\n",
      "\n",
      "See the caveats in the documentation: https://pandas.pydata.org/pandas-docs/stable/user_guide/indexing.html#returning-a-view-versus-a-copy\n",
      "  shipments_2024['first_shipment_month'] = shipments_2024['first_cn'].dt.strftime('%b-%Y')\n"
     ]
    }
   ],
   "source": [
    "df_sp13['first_cn'] = pd.to_datetime(df_sp13['first_cn'])\n",
    "\n",
    "shipments_2024 = df_sp13[df_sp13['first_cn'].dt.year == 2024]\n",
    "\n",
    "# Extract month and year of first shipments\n",
    "shipments_2024['first_shipment_month'] = shipments_2024['first_cn'].dt.strftime('%b-%Y')\n",
    "\n",
    "# Group by month and count unique account numbers\n",
    "monthly_New_Acc = shipments_2024.groupby('first_shipment_month')['acc_no'].nunique().reset_index()\n"
   ]
  },
  {
   "cell_type": "code",
   "execution_count": 60,
   "id": "acc37b90",
   "metadata": {},
   "outputs": [
    {
     "data": {
      "text/html": [
       "<div>\n",
       "<style scoped>\n",
       "    .dataframe tbody tr th:only-of-type {\n",
       "        vertical-align: middle;\n",
       "    }\n",
       "\n",
       "    .dataframe tbody tr th {\n",
       "        vertical-align: top;\n",
       "    }\n",
       "\n",
       "    .dataframe thead th {\n",
       "        text-align: right;\n",
       "    }\n",
       "</style>\n",
       "<table border=\"1\" class=\"dataframe\">\n",
       "  <thead>\n",
       "    <tr style=\"text-align: right;\">\n",
       "      <th>first_shipment_month</th>\n",
       "      <th>Feb-2024</th>\n",
       "      <th>Jan-2024</th>\n",
       "      <th>Mar-2024</th>\n",
       "    </tr>\n",
       "  </thead>\n",
       "  <tbody>\n",
       "    <tr>\n",
       "      <th>acc_no</th>\n",
       "      <td>267</td>\n",
       "      <td>245</td>\n",
       "      <td>272</td>\n",
       "    </tr>\n",
       "  </tbody>\n",
       "</table>\n",
       "</div>"
      ],
      "text/plain": [
       "first_shipment_month  Feb-2024  Jan-2024  Mar-2024\n",
       "acc_no                     267       245       272"
      ]
     },
     "execution_count": 60,
     "metadata": {},
     "output_type": "execute_result"
    }
   ],
   "source": [
    "monthly_New_Acc = monthly_New_Acc.pivot_table(columns='first_shipment_month', values='acc_no', aggfunc='sum')\n",
    "monthly_New_Acc"
   ]
  },
  {
   "cell_type": "code",
   "execution_count": 61,
   "id": "10c3028e",
   "metadata": {},
   "outputs": [],
   "source": [
    "New_acc_Inc_Dec = monthly_New_Acc[\"Mar-2024\"] - monthly_New_Acc[\"Feb-2024\"]"
   ]
  },
  {
   "cell_type": "markdown",
   "id": "2b17394c",
   "metadata": {},
   "source": [
    "#### REVIVED"
   ]
  },
  {
   "cell_type": "code",
   "execution_count": 62,
   "id": "fd29c421",
   "metadata": {},
   "outputs": [],
   "source": [
    "Revived_Feb = Active_this_Month_not_in_Previous_Months_Feb - monthly_New_Acc[\"Feb-2024\"]"
   ]
  },
  {
   "cell_type": "code",
   "execution_count": 63,
   "id": "b8d8e6f0",
   "metadata": {},
   "outputs": [],
   "source": [
    "Revived_Mar = Active_this_Month_not_in_Previous_Months_Mar - monthly_New_Acc[\"Mar-2024\"]"
   ]
  },
  {
   "cell_type": "code",
   "execution_count": 64,
   "id": "479bd77a",
   "metadata": {},
   "outputs": [],
   "source": [
    "Revived_Inc_Dec = Revived_Mar - Revived_Feb\n",
    "Revived_Inc_Dec = Revived_Inc_Dec[0]"
   ]
  },
  {
   "cell_type": "code",
   "execution_count": null,
   "id": "be1c18f0",
   "metadata": {},
   "outputs": [],
   "source": []
  },
  {
   "cell_type": "markdown",
   "id": "fbdfa73b",
   "metadata": {},
   "source": [
    "#### RETAINED"
   ]
  },
  {
   "cell_type": "code",
   "execution_count": 65,
   "id": "effe788c",
   "metadata": {},
   "outputs": [],
   "source": [
    "Retained_Feb  = Active_acc[\"Feb-2024\"] - Active_this_Month_not_in_Previous_Months_Feb"
   ]
  },
  {
   "cell_type": "code",
   "execution_count": 66,
   "id": "c4c30a55",
   "metadata": {},
   "outputs": [],
   "source": [
    "Retained_Mar  = Active_acc[\"Mar-2024\"] - Active_this_Month_not_in_Previous_Months_Mar"
   ]
  },
  {
   "cell_type": "code",
   "execution_count": 67,
   "id": "3e11e489",
   "metadata": {},
   "outputs": [
    {
     "data": {
      "text/plain": [
       "0    97\n",
       "dtype: int64"
      ]
     },
     "execution_count": 67,
     "metadata": {},
     "output_type": "execute_result"
    }
   ],
   "source": [
    "Retained_Inc_Dec = Retained_Mar - Retained_Feb\n",
    "Retained_Inc_Dec"
   ]
  },
  {
   "cell_type": "markdown",
   "id": "8fcd6ef4",
   "metadata": {},
   "source": [
    "#### Active in Previous Month but not this month\n"
   ]
  },
  {
   "cell_type": "code",
   "execution_count": 68,
   "id": "e77a8ff4",
   "metadata": {},
   "outputs": [],
   "source": [
    "Jan_uni_Acc = df_sp13[df_sp13[\"month\"] == \"Jan-2024\"][\"acc_no\"].unique()"
   ]
  },
  {
   "cell_type": "code",
   "execution_count": 69,
   "id": "41eaf1b6",
   "metadata": {},
   "outputs": [],
   "source": [
    "Feb_uni_Acc = df_sp13[df_sp13[\"month\"] == \"Feb-2024\"][\"acc_no\"].unique()"
   ]
  },
  {
   "cell_type": "code",
   "execution_count": 70,
   "id": "82a13ce2",
   "metadata": {},
   "outputs": [],
   "source": [
    "Mar_uni_Acc = df_sp13[df_sp13[\"month\"] == \"Mar-2024\"][\"acc_no\"].unique()"
   ]
  },
  {
   "cell_type": "code",
   "execution_count": 71,
   "id": "d5d8103a",
   "metadata": {},
   "outputs": [],
   "source": [
    "Feb_not_in_Mar = np.setdiff1d(Feb_uni_Acc, Mar_uni_Acc)\n",
    "Acc_Feb_not_in_Mar = len(Feb_not_in_Mar)"
   ]
  },
  {
   "cell_type": "code",
   "execution_count": 72,
   "id": "ca3b8062",
   "metadata": {},
   "outputs": [],
   "source": [
    "Jan_not_in_Feb = np.setdiff1d(Jan_uni_Acc, Feb_uni_Acc)\n",
    "Acc_Jan_not_in_Feb = len(Jan_not_in_Feb)"
   ]
  },
  {
   "cell_type": "markdown",
   "id": "9b878901",
   "metadata": {},
   "source": [
    "#### CRF Created this Month\n"
   ]
  },
  {
   "cell_type": "code",
   "execution_count": 129,
   "id": "cf6b3284",
   "metadata": {},
   "outputs": [],
   "source": [
    "def format_negative_value(value):\n",
    "    if isinstance(value, (int, float)):\n",
    "        if value < 0:\n",
    "            # Surround negative value with parentheses and remove the minus sign\n",
    "            return f\"({-value})\"\n",
    "        else:\n",
    "            # Return positive value unchanged\n",
    "            return value\n",
    "    else:\n",
    "        # Return non-numeric values unchanged\n",
    "        return value"
   ]
  },
  {
   "cell_type": "code",
   "execution_count": 130,
   "id": "8502f05c",
   "metadata": {},
   "outputs": [],
   "source": [
    "conn = msql.connect(host=dlogin.host, user=dlogin.user, password=dlogin.password, database=dlogin.database)\n",
    "month_ranges = [\n",
    "    ('2024-01-01', '2024-01-31'),\n",
    "    ('2024-02-01', '2024-02-29'),\n",
    "    ('2024-03-01', '2024-03-31'),\n",
    "    # Add more month ranges as needed\n",
    "]\n",
    "\n",
    "results = []\n",
    "try:\n",
    "    with conn.cursor() as cursor:\n",
    "        # Loop through each month range\n",
    "        for start_date, end_date in month_ranges:\n",
    "            # Define SQL query to count distinct acc_no within the date range\n",
    "            sql_query = \"\"\"\n",
    "                SELECT COUNT(DISTINCT acc_no) AS distinct_count\n",
    "                FROM blueex.acc_form\n",
    "                WHERE creation_date BETWEEN %s AND %s\n",
    "            \"\"\"\n",
    "            \n",
    "            # Execute the SQL query with date range parameters\n",
    "            cursor.execute(sql_query, (start_date, end_date))\n",
    "            \n",
    "            # Fetch the result (distinct count of acc_no)\n",
    "            distinct_count = cursor.fetchone()[0]  # Get the first column of the first row\n",
    "            \n",
    "            # Format the month as 'Month-YYYY' (e.g., 'Jan-2024')\n",
    "            month_year = datetime.strptime(start_date, '%Y-%m-%d').strftime('%b-%Y')\n",
    "            \n",
    "            # Append result to the list as a dictionary\n",
    "            results.append({'Month': month_year, 'Distinct_count': distinct_count})\n",
    "\n",
    "except mysql.connector.Error as e:\n",
    "    print(\"Error occurred while connecting to MySQL:\", e)\n",
    "    conn.rollback()  # Rollback any changes in case of error\n",
    "    sys.exit()\n",
    "\n",
    "# Create a pandas DataFrame from the results list\n",
    "Crf_Created_This_month = pd.DataFrame(results)"
   ]
  },
  {
   "cell_type": "code",
   "execution_count": 131,
   "id": "d1b0e877",
   "metadata": {},
   "outputs": [
    {
     "data": {
      "text/html": [
       "<div>\n",
       "<style scoped>\n",
       "    .dataframe tbody tr th:only-of-type {\n",
       "        vertical-align: middle;\n",
       "    }\n",
       "\n",
       "    .dataframe tbody tr th {\n",
       "        vertical-align: top;\n",
       "    }\n",
       "\n",
       "    .dataframe thead th {\n",
       "        text-align: right;\n",
       "    }\n",
       "</style>\n",
       "<table border=\"1\" class=\"dataframe\">\n",
       "  <thead>\n",
       "    <tr style=\"text-align: right;\">\n",
       "      <th></th>\n",
       "      <th>Month</th>\n",
       "      <th>Distinct_count</th>\n",
       "    </tr>\n",
       "  </thead>\n",
       "  <tbody>\n",
       "    <tr>\n",
       "      <th>0</th>\n",
       "      <td>Jan-2024</td>\n",
       "      <td>446</td>\n",
       "    </tr>\n",
       "    <tr>\n",
       "      <th>1</th>\n",
       "      <td>Feb-2024</td>\n",
       "      <td>399</td>\n",
       "    </tr>\n",
       "    <tr>\n",
       "      <th>2</th>\n",
       "      <td>Mar-2024</td>\n",
       "      <td>393</td>\n",
       "    </tr>\n",
       "  </tbody>\n",
       "</table>\n",
       "</div>"
      ],
      "text/plain": [
       "      Month  Distinct_count\n",
       "0  Jan-2024             446\n",
       "1  Feb-2024             399\n",
       "2  Mar-2024             393"
      ]
     },
     "execution_count": 131,
     "metadata": {},
     "output_type": "execute_result"
    }
   ],
   "source": [
    "Crf_Created_This_month"
   ]
  },
  {
   "cell_type": "code",
   "execution_count": 132,
   "id": "91d78aca",
   "metadata": {},
   "outputs": [],
   "source": [
    "\n",
    "# Example usage:\n",
    "# Calculate the difference between two values and format the result\n",
    "result_value = Crf_Created_This_month.iloc[2][1] - Crf_Created_This_month.iloc[1][1]\n",
    "Crf_Created_This_month_Inc_Dec = format_negative_value(result_value)"
   ]
  },
  {
   "cell_type": "code",
   "execution_count": 134,
   "id": "1e519e2f",
   "metadata": {},
   "outputs": [
    {
     "data": {
      "text/plain": [
       "-6"
      ]
     },
     "execution_count": 134,
     "metadata": {},
     "output_type": "execute_result"
    }
   ],
   "source": [
    "Crf_Created_This_month_Inc_Dec"
   ]
  },
  {
   "cell_type": "markdown",
   "id": "99b2ce0e",
   "metadata": {},
   "source": [
    "#### CRF APPROVED THIS MONTH"
   ]
  },
  {
   "cell_type": "code",
   "execution_count": 105,
   "id": "3e6aa003",
   "metadata": {},
   "outputs": [],
   "source": [
    "conn = msql.connect(host=dlogin.host, user=dlogin.user, password=dlogin.password, database=dlogin.database)\n",
    "month_ranges = [\n",
    "    ('2024-01-01', '2024-01-31'),\n",
    "    ('2024-02-01', '2024-02-29'),\n",
    "    ('2024-03-01', '2024-03-31')\n",
    "    # Add more month ranges as needed\n",
    "]\n",
    "\n",
    "results = []\n",
    "\n",
    "# Establish connection to the database\n",
    "try:\n",
    "    with conn.cursor() as cursor:\n",
    "        # Loop through each month range\n",
    "        for start_date, end_date in month_ranges:\n",
    "            # Define SQL query to count distinct acc_no within the date range\n",
    "            sql_query = \"\"\"\n",
    "                SELECT COUNT(DISTINCT acc_no) \n",
    "                FROM blueex.acc_form\n",
    "                WHERE finance_approval BETWEEN %s AND %s\n",
    "                AND second_approval BETWEEN %s AND %s;\n",
    "            \"\"\"\n",
    "            \n",
    "            # Execute the SQL query with date range parameters\n",
    "            cursor.execute(sql_query, (start_date, end_date, start_date, end_date))\n",
    "            \n",
    "            # Fetch the result (distinct count of acc_no)\n",
    "            distinct_count = cursor.fetchone()[0]  # Get the first column of the first row\n",
    "            \n",
    "            # Format the month as 'Month-YYYY' (e.g., 'Jan-2024')\n",
    "            month_year = pd.to_datetime(start_date).strftime('%b-%Y')\n",
    "            \n",
    "            # Append result to the list as a dictionary\n",
    "            results.append({'Month': month_year, 'Distinct_count': distinct_count})\n",
    "\n",
    "finally:\n",
    "    # Close the database connection\n",
    "    conn.close()\n",
    "\n",
    "# Create a pandas DataFrame from the results list\n",
    "crf_App = pd.DataFrame(results)"
   ]
  },
  {
   "cell_type": "code",
   "execution_count": 145,
   "id": "d95cd142",
   "metadata": {},
   "outputs": [
    {
     "data": {
      "text/html": [
       "<div>\n",
       "<style scoped>\n",
       "    .dataframe tbody tr th:only-of-type {\n",
       "        vertical-align: middle;\n",
       "    }\n",
       "\n",
       "    .dataframe tbody tr th {\n",
       "        vertical-align: top;\n",
       "    }\n",
       "\n",
       "    .dataframe thead th {\n",
       "        text-align: right;\n",
       "    }\n",
       "</style>\n",
       "<table border=\"1\" class=\"dataframe\">\n",
       "  <thead>\n",
       "    <tr style=\"text-align: right;\">\n",
       "      <th></th>\n",
       "      <th>Month</th>\n",
       "      <th>Distinct_count</th>\n",
       "    </tr>\n",
       "  </thead>\n",
       "  <tbody>\n",
       "    <tr>\n",
       "      <th>0</th>\n",
       "      <td>Jan-2024</td>\n",
       "      <td>389</td>\n",
       "    </tr>\n",
       "    <tr>\n",
       "      <th>1</th>\n",
       "      <td>Feb-2024</td>\n",
       "      <td>365</td>\n",
       "    </tr>\n",
       "    <tr>\n",
       "      <th>2</th>\n",
       "      <td>Mar-2024</td>\n",
       "      <td>361</td>\n",
       "    </tr>\n",
       "  </tbody>\n",
       "</table>\n",
       "</div>"
      ],
      "text/plain": [
       "      Month  Distinct_count\n",
       "0  Jan-2024             389\n",
       "1  Feb-2024             365\n",
       "2  Mar-2024             361"
      ]
     },
     "execution_count": 145,
     "metadata": {},
     "output_type": "execute_result"
    }
   ],
   "source": [
    "crf_App"
   ]
  },
  {
   "cell_type": "code",
   "execution_count": 136,
   "id": "8b470748",
   "metadata": {},
   "outputs": [],
   "source": [
    "result_value = crf_App.iloc[2][1] - crf_App.iloc[1][1]\n"
   ]
  },
  {
   "cell_type": "code",
   "execution_count": 138,
   "id": "c9b2f8e1",
   "metadata": {},
   "outputs": [],
   "source": [
    "crf_App_Inc_Dec = format_negative_value(result_value)"
   ]
  },
  {
   "cell_type": "markdown",
   "id": "1f91b4c9",
   "metadata": {},
   "source": [
    "#### CRF APPROVE AND CREATED THIS MONTH "
   ]
  },
  {
   "cell_type": "code",
   "execution_count": 139,
   "id": "dbc09704",
   "metadata": {},
   "outputs": [],
   "source": [
    "conn = msql.connect(host=dlogin.host, user=dlogin.user, password=dlogin.password, database=dlogin.database)\n",
    "\n",
    "month_ranges = [\n",
    "    ('2024-01-01', '2024-01-31'),\n",
    "    ('2024-02-01', '2024-02-29'),\n",
    "    ('2024-03-01', '2024-03-31')\n",
    "    # Add more month ranges as needed\n",
    "]\n",
    "\n",
    "results = []\n",
    "try:\n",
    "    with conn.cursor() as cursor:\n",
    "        for start_date, end_date in month_ranges:\n",
    "            # Define SQL query to count distinct acc_no within the specified month range\n",
    "            sql_query = \"\"\"\n",
    "                SELECT COUNT(DISTINCT acc_no)\n",
    "                FROM blueex.acc_form\n",
    "                WHERE Creation_date BETWEEN %s AND %s\n",
    "                  AND finance_approval BETWEEN %s AND %s\n",
    "                  AND second_approval BETWEEN %s AND %s;\n",
    "            \"\"\"\n",
    "            \n",
    "            # Execute the SQL query with month range parameters\n",
    "            cursor.execute(sql_query, (start_date, end_date, start_date, end_date, start_date, end_date))\n",
    "            \n",
    "            # Fetch the result (distinct count of acc_no)\n",
    "            distinct_count = cursor.fetchone()[0]  # Get the first column of the first row\n",
    "            \n",
    "            # Format the month as 'Month-YYYY' (e.g., 'Jan-2024')\n",
    "            month_year = pd.to_datetime(start_date).strftime('%b-%Y')\n",
    "            \n",
    "            # Append result to the list as a dictionary\n",
    "            results.append({'Month': month_year, 'Distinct_count': distinct_count})\n",
    "\n",
    "finally:\n",
    "    # Close the database connection\n",
    "    conn.close()\n",
    "\n",
    "# Create a pandas DataFrame from the results list\n",
    "CRF_APP_CRE = pd.DataFrame(results)"
   ]
  },
  {
   "cell_type": "code",
   "execution_count": 140,
   "id": "37e0c578",
   "metadata": {},
   "outputs": [
    {
     "data": {
      "text/html": [
       "<div>\n",
       "<style scoped>\n",
       "    .dataframe tbody tr th:only-of-type {\n",
       "        vertical-align: middle;\n",
       "    }\n",
       "\n",
       "    .dataframe tbody tr th {\n",
       "        vertical-align: top;\n",
       "    }\n",
       "\n",
       "    .dataframe thead th {\n",
       "        text-align: right;\n",
       "    }\n",
       "</style>\n",
       "<table border=\"1\" class=\"dataframe\">\n",
       "  <thead>\n",
       "    <tr style=\"text-align: right;\">\n",
       "      <th></th>\n",
       "      <th>Month</th>\n",
       "      <th>Distinct_count</th>\n",
       "    </tr>\n",
       "  </thead>\n",
       "  <tbody>\n",
       "    <tr>\n",
       "      <th>0</th>\n",
       "      <td>Jan-2024</td>\n",
       "      <td>360</td>\n",
       "    </tr>\n",
       "    <tr>\n",
       "      <th>1</th>\n",
       "      <td>Feb-2024</td>\n",
       "      <td>325</td>\n",
       "    </tr>\n",
       "    <tr>\n",
       "      <th>2</th>\n",
       "      <td>Mar-2024</td>\n",
       "      <td>333</td>\n",
       "    </tr>\n",
       "  </tbody>\n",
       "</table>\n",
       "</div>"
      ],
      "text/plain": [
       "      Month  Distinct_count\n",
       "0  Jan-2024             360\n",
       "1  Feb-2024             325\n",
       "2  Mar-2024             333"
      ]
     },
     "execution_count": 140,
     "metadata": {},
     "output_type": "execute_result"
    }
   ],
   "source": [
    "CRF_APP_CRE"
   ]
  },
  {
   "cell_type": "code",
   "execution_count": 141,
   "id": "a148e38c",
   "metadata": {},
   "outputs": [],
   "source": [
    "result_value = CRF_APP_CRE.iloc[2][1] - CRF_APP_CRE.iloc[1][1]\n"
   ]
  },
  {
   "cell_type": "code",
   "execution_count": 142,
   "id": "11ddb879",
   "metadata": {},
   "outputs": [],
   "source": [
    "CRF_APP_CRE_Inc_Dec = format_negative_value(result_value)"
   ]
  },
  {
   "cell_type": "markdown",
   "id": "e08c767b",
   "metadata": {},
   "source": [
    "#### CRF NOT CREATED BUT APPROVED THIS MONTH"
   ]
  },
  {
   "cell_type": "code",
   "execution_count": 156,
   "id": "1faeb5d1",
   "metadata": {},
   "outputs": [],
   "source": [
    "crf_App[\"Crf_Not_created_Aprroved\"] = crf_App[\"Distinct_count\"] - CRF_APP_CRE[\"Distinct_count\"] \n"
   ]
  },
  {
   "cell_type": "code",
   "execution_count": 164,
   "id": "df199beb",
   "metadata": {},
   "outputs": [],
   "source": [
    "Crf_NotCreated_app_Inc_Dec = format_negative_value(crf_App.iloc[2][2] - crf_App.iloc[1][2])\n"
   ]
  },
  {
   "cell_type": "markdown",
   "id": "0769bf78",
   "metadata": {},
   "source": [
    "#### CRF Created, Approved and Active this Month\n"
   ]
  },
  {
   "cell_type": "code",
   "execution_count": 172,
   "id": "8705f9a4",
   "metadata": {},
   "outputs": [],
   "source": [
    "conn = msql.connect(host=dlogin.host, user=dlogin.user, password=dlogin.password, database=dlogin.database)\n",
    "\n",
    "month_ranges = [\n",
    "    ('2024-01-01', '2024-01-31'),\n",
    "    ('2024-02-01', '2024-02-29'),\n",
    "    ('2024-03-01', '2024-03-31')\n",
    "    # Add more month ranges as needed\n",
    "    ]\n",
    "\n",
    "try:\n",
    "    with conn.cursor() as cursor:\n",
    "        results = []  # To store the results for each month range\n",
    "        \n",
    "        # Define the SQL query template\n",
    "        sql_query = \"\"\"\n",
    "            SELECT COUNT(DISTINCT acc_no) AS Unique_acc_count\n",
    "            FROM blueex.acc_form\n",
    "            WHERE \n",
    "                YEAR(creation_date) = %s AND MONTH(creation_date) = %s\n",
    "                AND YEAR(finance_approval) = %s AND MONTH(finance_approval) = %s\n",
    "                AND YEAR(second_approval) = %s AND MONTH(second_approval) = %s\n",
    "                AND YEAR(first_cn) = %s AND MONTH(first_cn) = %s;\n",
    "        \"\"\"\n",
    "        \n",
    "        # Loop through each month range\n",
    "        for start_date, end_date in month_ranges:\n",
    "            # Extract year and month from start_date\n",
    "            year = int(start_date[:4])\n",
    "            month = int(start_date[5:7])\n",
    "            \n",
    "            # Execute the SQL query with parameters for the current month range\n",
    "            cursor.execute(sql_query, (year, month, year, month, year, month, year, month))\n",
    "            \n",
    "            # Fetch the result\n",
    "            result = cursor.fetchone()\n",
    "            month_year = pd.to_datetime(start_date).strftime('%b-%Y')\n",
    "\n",
    "            \n",
    "            # Append the result to the list\n",
    "            results.append({'Month': f'{month_year}', 'Unique_acc_count': result[0]})\n",
    "        \n",
    "        # Create a pandas DataFrame from the results list\n",
    "        crf_created_app_first_cn = pd.DataFrame(results)\n",
    "    \n",
    "finally:\n",
    "    # Close the database connection\n",
    "    conn.close()"
   ]
  },
  {
   "cell_type": "code",
   "execution_count": 173,
   "id": "1ed0019e",
   "metadata": {},
   "outputs": [
    {
     "data": {
      "text/html": [
       "<div>\n",
       "<style scoped>\n",
       "    .dataframe tbody tr th:only-of-type {\n",
       "        vertical-align: middle;\n",
       "    }\n",
       "\n",
       "    .dataframe tbody tr th {\n",
       "        vertical-align: top;\n",
       "    }\n",
       "\n",
       "    .dataframe thead th {\n",
       "        text-align: right;\n",
       "    }\n",
       "</style>\n",
       "<table border=\"1\" class=\"dataframe\">\n",
       "  <thead>\n",
       "    <tr style=\"text-align: right;\">\n",
       "      <th></th>\n",
       "      <th>Month</th>\n",
       "      <th>Unique_acc_count</th>\n",
       "    </tr>\n",
       "  </thead>\n",
       "  <tbody>\n",
       "    <tr>\n",
       "      <th>0</th>\n",
       "      <td>Jan-2024</td>\n",
       "      <td>170</td>\n",
       "    </tr>\n",
       "    <tr>\n",
       "      <th>1</th>\n",
       "      <td>Feb-2024</td>\n",
       "      <td>165</td>\n",
       "    </tr>\n",
       "    <tr>\n",
       "      <th>2</th>\n",
       "      <td>Mar-2024</td>\n",
       "      <td>171</td>\n",
       "    </tr>\n",
       "  </tbody>\n",
       "</table>\n",
       "</div>"
      ],
      "text/plain": [
       "      Month  Unique_acc_count\n",
       "0  Jan-2024               170\n",
       "1  Feb-2024               165\n",
       "2  Mar-2024               171"
      ]
     },
     "execution_count": 173,
     "metadata": {},
     "output_type": "execute_result"
    }
   ],
   "source": [
    "crf_created_app_first_cn "
   ]
  },
  {
   "cell_type": "markdown",
   "id": "73bef1ea",
   "metadata": {},
   "source": [
    "#### CRF Not Created & Approved this Month but Active this Month\n"
   ]
  },
  {
   "cell_type": "code",
   "execution_count": 180,
   "id": "64660d27",
   "metadata": {},
   "outputs": [],
   "source": [
    "month_ranges = [\n",
    "    ('2024-01-01', '2024-01-31'),\n",
    "    ('2024-02-01', '2024-02-29'),\n",
    "    ('2024-03-01', '2024-03-31')\n",
    "]\n",
    "\n",
    "# Initialize a list to store results\n",
    "results = []\n",
    "\n",
    "# Loop through each month range\n",
    "for start_date, end_date in month_ranges:\n",
    "    # Convert start_date and end_date to datetime objects\n",
    "    start_date = pd.to_datetime(start_date)\n",
    "    end_date = pd.to_datetime(end_date)\n",
    "\n",
    "    # Filter the DataFrame based on the specified conditions\n",
    "    filtered_df = df_sp13[\n",
    "        (pd.to_datetime(df_sp13['first_cn'], format='%b-%Y') >= start_date) &  # first_cn within the current month range\n",
    "        (pd.to_datetime(df_sp13['first_cn'], format='%b-%Y') <= end_date) &\n",
    "        (pd.to_datetime(df_sp13['creation_date']) < start_date) &  # creation_date before the current month\n",
    "        (pd.to_datetime(df_sp13['finance_approval']) < start_date) &  # finance_approval before the current month\n",
    "        (pd.to_datetime(df_sp13['second_approval']) < start_date)  # second_approval before the current month\n",
    "    ]\n",
    "\n",
    "    # Count the number of distinct acc_no in the filtered DataFrame\n",
    "    unique_acc_count = filtered_df['acc_no'].nunique()\n",
    "\n",
    "    # Append the result to the results list\n",
    "    results.append({\n",
    "        'Month': f\"{start_date.strftime('%b')} {start_date.year}\",\n",
    "        'Unique_acc_count': unique_acc_count\n",
    "    })\n",
    "\n",
    "# Create a DataFrame from the results list\n",
    "Crf_Not_Created_But_Active = pd.DataFrame(results)"
   ]
  },
  {
   "cell_type": "code",
   "execution_count": 183,
   "id": "cc74c93d",
   "metadata": {},
   "outputs": [],
   "source": [
    "Crf_Not_Created_But_Active_Inc_DEC = Crf_Not_Created_But_Active.iloc[2][1] - Crf_Not_Created_But_Active.iloc[1][1]"
   ]
  },
  {
   "cell_type": "code",
   "execution_count": null,
   "id": "83a7a891",
   "metadata": {},
   "outputs": [],
   "source": []
  },
  {
   "cell_type": "code",
   "execution_count": null,
   "id": "a37f6d90",
   "metadata": {},
   "outputs": [],
   "source": []
  },
  {
   "cell_type": "code",
   "execution_count": null,
   "id": "17ca6192",
   "metadata": {},
   "outputs": [],
   "source": []
  },
  {
   "cell_type": "code",
   "execution_count": null,
   "id": "a5b6439e",
   "metadata": {},
   "outputs": [],
   "source": []
  },
  {
   "cell_type": "markdown",
   "id": "03a18137",
   "metadata": {},
   "source": [
    "***DEMO PPT3***"
   ]
  },
  {
   "cell_type": "code",
   "execution_count": null,
   "id": "13690342",
   "metadata": {},
   "outputs": [],
   "source": [
    "from pptx import Presentation\n",
    "from pptx.util import Inches, Pt  # Import Pt for specifying font size in points\n",
    "\n",
    "# Create a presentation object\n",
    "prs = Presentation()\n",
    "\n",
    "# Add a slide to the presentation\n",
    "slide = prs.slides.add_slide(prs.slide_layouts[5])\n",
    "\n",
    "# Define table dimensions and position\n",
    "x, y, cx, cy = Inches(0.5), Inches(1.8), Inches(4.5), Inches(1.5)\n",
    "\n",
    "# Add a table shape to the slide\n",
    "table = slide.shapes.add_table(rows=13, cols=2, left=x, top=y, width=cx, height=cy).table\n",
    "\n",
    "# Access the cell at row 0, column 0 (Description header)\n",
    "cell_header1 = table.cell(0, 0)\n",
    "cell_header1.text = \"Description\"\n",
    "cell_header1.text_frame.paragraphs[0].font.size = Pt(10)  # Set font size to 10 points\n",
    "\n",
    "# Access the cell at row 0, column 1 (OCT_23 header)\n",
    "cell_header2 = table.cell(0, 1)\n",
    "cell_header2.text = \"OCT_23\"\n",
    "cell_header2.text_frame.paragraphs[0].font.size = Pt(10)  # Set font size to 10 points\n",
    "\n",
    "# For Active Account\n",
    "ActAcc = table.cell(1, 0)\n",
    "ActAcc.text = Summarize_Mom_Rep[\"AccountHeads\"][0]\n",
    "ActAcc.text_frame.paragraphs[0].font.size = Pt(10)  # Set font size to 10 points\n",
    "\n",
    "ActiveAcc = table.cell(1, 1)\n",
    "ActiveAcc.text = str(Summarize_Mom_Rep[\"Oct-23\"][0])\n",
    "ActiveAcc.text_frame.paragraphs[0].font.size = Pt(10)  # Set font size to 10 points\n",
    "\n",
    "#prev month acc\n",
    "Prev_Month_head = table.cell(2,0)\n",
    "Prev_Month_head.text = \"Active This Month but not in prev month\"\n",
    "Prev_Month_head.text_frame.paragraphs[0].font.size = Pt(10)  # Set font size to 10 points\n",
    "\n",
    "Prev_Month_Val = table.cell(2,1)\n",
    "Prev_Month_Val.text = \"456\"\n",
    "Prev_Month_Val.text_frame.paragraphs[0].font.size = Pt(10)  # Set font size to 10 points\n",
    "\n",
    "#New Active\n",
    "New_Acc_head = table.cell(3,0)\n",
    "New_Acc_head.text = \"New Active\"\n",
    "New_Acc_head.text_frame.paragraphs[0].font.size = Pt(10)  # Set font size to 10 points\n",
    "\n",
    "New_Acc_val = table.cell(3,1)\n",
    "New_Acc_val.text = \"587\"\n",
    "New_Acc_val.text_frame.paragraphs[0].font.size = Pt(10)  # Set font size to 10 points\n",
    "\n",
    "#Revived\n",
    "Rev_head = table.cell(4,0)\n",
    "Rev_head.text = \"Revived\"\n",
    "Rev_head.text_frame.paragraphs[0].font.size = Pt(10)  # Set font size to 10 points\n",
    "\n",
    "Rev_val = table.cell(4,1)\n",
    "Rev_val.text = \"789\"\n",
    "Rev_val.text_frame.paragraphs[0].font.size = Pt(10)\n",
    "\n",
    "#Retained\n",
    "Ret_head = table.cell(5,0)\n",
    "Ret_head.text = \"Retained from Previous Month\"\n",
    "Ret_head.text_frame.paragraphs[0].font.size = Pt(10)  # Set font size to 10 points\n",
    "\n",
    "New_Acc_val = table.cell(5,1)\n",
    "New_Acc_val.text = \"4598\"\n",
    "New_Acc_val.text_frame.paragraphs[0].font.size = Pt(10)\n",
    "\n",
    "#Active Prev\n",
    "Prev_Acc_head = table.cell(6,0)\n",
    "Prev_Acc_head.text = \"Active Prev Month Not In this Month\"\n",
    "Prev_Acc_head.text_frame.paragraphs[0].font.size = Pt(10)  # Set font size to 10 points\n",
    "\n",
    "Prev_Acc_val = table.cell(6,1)\n",
    "Prev_Acc_val.text = \"587\"\n",
    "Prev_Acc_val.text_frame.paragraphs[0].font.size = Pt(10)\n",
    "\n",
    "#CRF this month\n",
    "CRF_thisMonth_head = table.cell(7,0)\n",
    "CRF_thisMonth_head.text = \"CRF Created This Month\"\n",
    "CRF_thisMonth_head.text_frame.paragraphs[0].font.size = Pt(10)  # Set font size to 10 points\n",
    "\n",
    "CRF_thisMonth_val = table.cell(7,1)\n",
    "CRF_thisMonth_val.text = \"5877\"\n",
    "CRF_thisMonth_val.text_frame.paragraphs[0].font.size = Pt(10)\n",
    "\n",
    "#CRF Approv\n",
    "CRF_Aprov_head = table.cell(8,0)\n",
    "CRF_Aprov_head.text = \"CRF Approved this Month\"\n",
    "CRF_Aprov_head.text_frame.paragraphs[0].font.size = Pt(10)  # Set font size to 10 points\n",
    "\n",
    "CRF_Aprov_val = table.cell(8,1)\n",
    "CRF_Aprov_val.text = \"987\"\n",
    "CRF_Aprov_val.text_frame.paragraphs[0].font.size = Pt(10)\n",
    "\n",
    "#CRF created\n",
    "CRF_Created_head = table.cell(9,0)\n",
    "CRF_Created_head.text = \"CRF Created & Approved this Month\"\n",
    "CRF_Created_head.text_frame.paragraphs[0].font.size = Pt(10)  # Set font size to 10 points\n",
    "\n",
    "CRF_Created_val = table.cell(9,1)\n",
    "CRF_Created_val.text = \"12547\"\n",
    "CRF_Created_val.text_frame.paragraphs[0].font.size = Pt(10)\n",
    "\n",
    "#CRF NOT APPRO\n",
    "CRF_NotAprov_head = table.cell(10,0)\n",
    "CRF_NotAprov_head.text = \"CRF Not Created but approved this Month\"\n",
    "CRF_NotAprov_head.text_frame.paragraphs[0].font.size = Pt(10)  # Set font size to 10 points\n",
    "\n",
    "CRF_NotAprov_val = table.cell(10,1)\n",
    "CRF_NotAprov_val.text = \"127\"\n",
    "CRF_NotAprov_val.text_frame.paragraphs[0].font.size = Pt(10)\n",
    "\n",
    "#CRF_C_A\n",
    "CRF_C_A_head = table.cell(11,0)\n",
    "CRF_C_A_head.text = \"CRF Created, Approved and Active this Month\"\n",
    "CRF_C_A_head.text_frame.paragraphs[0].font.size = Pt(10)  # Set font size to 10 points\n",
    "\n",
    "CRF_C_A_val = table.cell(11,1)\n",
    "CRF_C_A_val.text = \"897\"\n",
    "CRF_C_A_val.text_frame.paragraphs[0].font.size = Pt(10)\n",
    "\n",
    "#CRF_NCA_A\n",
    "CRF_NCA_A_head = table.cell(12,0)\n",
    "CRF_NCA_A_head.text = \"CRF Not Created & Approved this Month but Active this Month\"\n",
    "CRF_NCA_A_head.text_frame.paragraphs[0].font.size = Pt(10)  # Set font size to 10 points\n",
    "\n",
    "CRF_NCA_A_val = table.cell(12,1)\n",
    "CRF_NCA_A_val.text = \"325\"\n",
    "CRF_NCA_A_val.text_frame.paragraphs[0].font.size = Pt(10)\n",
    "\n",
    "\n",
    "\n",
    "\n",
    "# Specify the output file path\n",
    "output_path = \"TARGETs.pptx\"\n",
    "\n",
    "# Save the presentation\n",
    "prs.save(output_path)\n"
   ]
  },
  {
   "cell_type": "code",
   "execution_count": null,
   "id": "969fbe9c",
   "metadata": {},
   "outputs": [],
   "source": []
  },
  {
   "cell_type": "code",
   "execution_count": null,
   "id": "5e8a4032",
   "metadata": {},
   "outputs": [],
   "source": []
  },
  {
   "cell_type": "code",
   "execution_count": null,
   "id": "7c691418",
   "metadata": {},
   "outputs": [],
   "source": []
  },
  {
   "cell_type": "code",
   "execution_count": null,
   "id": "d33257ec",
   "metadata": {},
   "outputs": [],
   "source": []
  },
  {
   "cell_type": "code",
   "execution_count": null,
   "id": "1e94ec30",
   "metadata": {},
   "outputs": [],
   "source": [
    "output_path =\"TARGETs.pptx\"\n",
    "prs.save(output_path)"
   ]
  },
  {
   "cell_type": "code",
   "execution_count": null,
   "id": "c367b8a7",
   "metadata": {},
   "outputs": [],
   "source": []
  }
 ],
 "metadata": {
  "kernelspec": {
   "display_name": "Python 3 (ipykernel)",
   "language": "python",
   "name": "python3"
  },
  "language_info": {
   "codemirror_mode": {
    "name": "ipython",
    "version": 3
   },
   "file_extension": ".py",
   "mimetype": "text/x-python",
   "name": "python",
   "nbconvert_exporter": "python",
   "pygments_lexer": "ipython3",
   "version": "3.10.8"
  }
 },
 "nbformat": 4,
 "nbformat_minor": 5
}
